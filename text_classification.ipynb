{
  "cells": [
    {
      "cell_type": "markdown",
      "id": "64acc7fb-59de-4ebc-b82f-afb53cc852d2",
      "metadata": {
        "id": "64acc7fb-59de-4ebc-b82f-afb53cc852d2"
      },
      "source": [
        "# Imports"
      ]
    },
    {
      "cell_type": "code",
      "execution_count": 19,
      "id": "3379e5ef-2708-48c0-a8ed-95eda57a8aea",
      "metadata": {
        "id": "3379e5ef-2708-48c0-a8ed-95eda57a8aea"
      },
      "outputs": [],
      "source": [
        "import numpy as np\n",
        "import pandas as pd\n",
        "import transformers\n",
        "import tensorflow as tf\n",
        "import tqdm.notebook as tqdm\n",
        "import sklearn.model_selection\n",
        "import matplotlib.pyplot as plt\n",
        "import requests\n",
        "import csv\n",
        "from sklearn.preprocessing import OneHotEncoder\n",
        "from sklearn.model_selection import train_test_split\n",
        "from transformers import BertModel, BertConfig\n",
        "import h5py\n",
        "from tqdm import tqdm\n",
        "import os\n",
        "import datetime\n",
        "import keras\n",
        "from sklearn.metrics import confusion_matrix, ConfusionMatrixDisplay, classification_report"
      ]
    },
    {
      "cell_type": "code",
      "execution_count": 2,
      "id": "1883d74d-c3a4-483e-a014-aef8581fc020",
      "metadata": {
        "id": "1883d74d-c3a4-483e-a014-aef8581fc020"
      },
      "outputs": [],
      "source": [
        "gpus = tf.config.list_physical_devices('GPU')\n",
        "\n",
        "if gpus:\n",
        "    try:\n",
        "        tf.config.experimental.set_memory_growth(gpus[0], True)\n",
        "    except:\n",
        "        pass"
      ]
    },
    {
      "cell_type": "code",
      "execution_count": 3,
      "id": "3218b2db-cb61-42be-8368-649764b08b23",
      "metadata": {
        "id": "3218b2db-cb61-42be-8368-649764b08b23"
      },
      "outputs": [],
      "source": [
        "# Config\n",
        "\n",
        "EXAMPLES_COUNT = 50000\n",
        "RANDOM_SEED = 42\n",
        "BATCH_SIZE = 32\n",
        "EPOCH_COUNT=20\n",
        "\n",
        "CLASS_COUNT=4\n",
        "\n",
        "ALL_BATCHES = EXAMPLES_COUNT // BATCH_SIZE\n",
        "TRAIN_BATCHES = int(ALL_BATCHES * 0.8)\n",
        "TEST_BATCHES = (ALL_BATCHES - TRAIN_BATCHES) // 2\n",
        "TEST_BATCHES = TEST_BATCHES\n",
        "\n",
        "MAX_SEQ_LENGTH = 256\n",
        "\n",
        "np.random.seed(RANDOM_SEED)"
      ]
    },
    {
      "cell_type": "markdown",
      "id": "3588f5af-a33c-4638-90d8-5cb912535790",
      "metadata": {
        "id": "3588f5af-a33c-4638-90d8-5cb912535790"
      },
      "source": [
        "# Data"
      ]
    },
    {
      "cell_type": "markdown",
      "id": "c468a19b-1395-4afc-b0c5-a799160ea671",
      "metadata": {
        "id": "c468a19b-1395-4afc-b0c5-a799160ea671"
      },
      "source": [
        "Load and prepare your dataset. Dataset should have at least 10k samples in it. Each dataset cannot be used by more than two students."
      ]
    },
    {
      "cell_type": "code",
      "execution_count": 4,
      "id": "e177b592-0e36-46f0-a940-e3c2daa25de2",
      "metadata": {
        "id": "e177b592-0e36-46f0-a940-e3c2daa25de2"
      },
      "outputs": [],
      "source": [
        "COLUMN_CATEGORY = 'category'\n",
        "COLUMN_DESCRIPTION = 'description'\n",
        "\n",
        "LOCAL_CSV_FILE_NAME = 'ecommerce-dataset.csv'\n",
        "LOCAL_CSV_FILE_PATH = f'./{LOCAL_CSV_FILE_NAME}'"
      ]
    },
    {
      "cell_type": "code",
      "execution_count": 5,
      "id": "1258a10d-9d7a-41d8-8f2f-d0ee45f65626",
      "metadata": {
        "id": "1258a10d-9d7a-41d8-8f2f-d0ee45f65626"
      },
      "outputs": [],
      "source": [
        "LABELS = ['Household', 'Books', 'Clothing & Accessories', 'Electronics']"
      ]
    },
    {
      "cell_type": "code",
      "execution_count": null,
      "id": "27724773-5172-4a0f-87ab-6878341a7ab9",
      "metadata": {
        "id": "27724773-5172-4a0f-87ab-6878341a7ab9"
      },
      "outputs": [],
      "source": [
        "def load_data_to_csv():\n",
        "    DATASET_URL = 'https://zenodo.org/record/3355823/files/ecommerceDataset.csv?download=1'\n",
        "\n",
        "    df = pd.read_csv(DATASET_URL, names=[COLUMN_CATEGORY, COLUMN_DESCRIPTION], header=None, index_col=False)\n",
        "\n",
        "    df.dropna()\n",
        "    df.drop_duplicates()\n",
        "\n",
        "    codes = df[COLUMN_CATEGORY].replace(['Household', 'Books', 'Clothing & Accessories', 'Electronics'], [0, 1, 2, 3])\n",
        "    df[COLUMN_CATEGORY] = codes.astype(int)\n",
        "    df[COLUMN_DESCRIPTION] = df[COLUMN_DESCRIPTION].astype(str)\n",
        "\n",
        "    df = df.drop(index=39330)\n",
        "\n",
        "    df.to_csv(LOCAL_CSV_FILE_NAME, index=True)"
      ]
    },
    {
      "cell_type": "code",
      "execution_count": null,
      "id": "9efdc1d2-bf23-4a32-b169-ecf8585c2657",
      "metadata": {
        "id": "9efdc1d2-bf23-4a32-b169-ecf8585c2657",
        "outputId": "9863d0ce-fbbf-445f-a989-3b838c537788"
      },
      "outputs": [
        {
          "name": "stderr",
          "output_type": "stream",
          "text": [
            "/tmp/ipykernel_63793/3767133491.py:9: FutureWarning: Downcasting behavior in `replace` is deprecated and will be removed in a future version. To retain the old behavior, explicitly call `result.infer_objects(copy=False)`. To opt-in to the future behavior, set `pd.set_option('future.no_silent_downcasting', True)`\n",
            "  codes = df[COLUMN_CATEGORY].replace(['Household', 'Books', 'Clothing & Accessories', 'Electronics'], [0, 1, 2, 3])\n"
          ]
        }
      ],
      "source": [
        "load_data_to_csv()"
      ]
    },
    {
      "cell_type": "code",
      "execution_count": 6,
      "id": "bac91d0e-10e6-43c0-861b-85fa28217934",
      "metadata": {
        "id": "bac91d0e-10e6-43c0-861b-85fa28217934"
      },
      "outputs": [],
      "source": [
        "def get_raw_data():\n",
        "    df = pd.read_csv(LOCAL_CSV_FILE_PATH, index_col=False)\n",
        "\n",
        "    y = df[COLUMN_CATEGORY].to_numpy()[:EXAMPLES_COUNT]\n",
        "    X = df[COLUMN_DESCRIPTION].to_numpy()[:EXAMPLES_COUNT]\n",
        "\n",
        "    return X, y"
      ]
    },
    {
      "cell_type": "code",
      "execution_count": 7,
      "id": "acda18df-85cf-4340-acb4-971502b16928",
      "metadata": {
        "id": "acda18df-85cf-4340-acb4-971502b16928"
      },
      "outputs": [],
      "source": [
        "X, y = get_raw_data()"
      ]
    },
    {
      "cell_type": "markdown",
      "id": "714bddcc-c56d-4e61-9147-054f5d7f8e7e",
      "metadata": {
        "id": "714bddcc-c56d-4e61-9147-054f5d7f8e7e"
      },
      "source": [
        "# Backbone"
      ]
    },
    {
      "cell_type": "markdown",
      "id": "c21a2f49-08a6-479a-8db7-a52d4db40d56",
      "metadata": {
        "id": "c21a2f49-08a6-479a-8db7-a52d4db40d56"
      },
      "source": [
        "Load pretrained model from Hugging Face (or some other model repository if it's more convenient). Model should be trained on Feature Extraction task."
      ]
    },
    {
      "cell_type": "code",
      "execution_count": 8,
      "id": "fd55f5f4-3a8e-41ea-b5ed-091977404843",
      "metadata": {
        "id": "fd55f5f4-3a8e-41ea-b5ed-091977404843"
      },
      "outputs": [],
      "source": [
        "BERT_SRC = \"google-bert/bert-base-uncased\""
      ]
    },
    {
      "cell_type": "code",
      "execution_count": 34,
      "id": "d111bc81-dfb4-47fb-b3d8-42388b84a8cc",
      "metadata": {
        "id": "d111bc81-dfb4-47fb-b3d8-42388b84a8cc",
        "outputId": "fd5febdc-0f90-43dc-b40f-8643c1d81d05",
        "colab": {
          "base_uri": "https://localhost:8080/",
          "height": 156,
          "referenced_widgets": [
            "56b77ccae28c4c42b25597ceffc76a0b",
            "ce7d63385e8c4bc1a924e9ae7a8eff6b",
            "e7a7df0012224c31b17d12709a360230",
            "e4835c8ba38b45f3abe4aa29a2d7384a",
            "e8239f30a9874c519232e1e67c2ecbb6",
            "03f4e13781ff4aa0b10a013e8334bbec",
            "b8de0e7aa0864680819da32f9780e055",
            "a0127421fca1411c9e85f041cd9a8766",
            "3ba46a25d8374e1eb8acf39eebc9d0a1",
            "1dac9d4d8912485aa0a044df8016d37a",
            "09e15fc2b4624e7085ee4e347683bc39"
          ]
        }
      },
      "outputs": [
        {
          "output_type": "display_data",
          "data": {
            "text/plain": [
              "model.safetensors:   0%|          | 0.00/440M [00:00<?, ?B/s]"
            ],
            "application/vnd.jupyter.widget-view+json": {
              "version_major": 2,
              "version_minor": 0,
              "model_id": "56b77ccae28c4c42b25597ceffc76a0b"
            }
          },
          "metadata": {}
        },
        {
          "output_type": "stream",
          "name": "stderr",
          "text": [
            "Some weights of the PyTorch model were not used when initializing the TF 2.0 model TFBertModel: ['cls.seq_relationship.weight', 'cls.seq_relationship.bias', 'cls.predictions.transform.LayerNorm.weight', 'cls.predictions.transform.dense.weight', 'cls.predictions.transform.LayerNorm.bias', 'cls.predictions.transform.dense.bias', 'cls.predictions.bias']\n",
            "- This IS expected if you are initializing TFBertModel from a PyTorch model trained on another task or with another architecture (e.g. initializing a TFBertForSequenceClassification model from a BertForPreTraining model).\n",
            "- This IS NOT expected if you are initializing TFBertModel from a PyTorch model that you expect to be exactly identical (e.g. initializing a TFBertForSequenceClassification model from a BertForSequenceClassification model).\n",
            "All the weights of TFBertModel were initialized from the PyTorch model.\n",
            "If your task is similar to the task the model of the checkpoint was trained on, you can already use TFBertModel for predictions without further training.\n"
          ]
        }
      ],
      "source": [
        "backbone = transformers.TFAutoModel.from_pretrained(BERT_SRC)"
      ]
    },
    {
      "cell_type": "code",
      "execution_count": 35,
      "id": "640a37ec-5972-43c1-bfca-e31d19b758fb",
      "metadata": {
        "id": "640a37ec-5972-43c1-bfca-e31d19b758fb"
      },
      "outputs": [],
      "source": [
        "backbone.trainable = False"
      ]
    },
    {
      "cell_type": "markdown",
      "id": "4b81337a-c06e-4b33-9dff-61ff0c6858c9",
      "metadata": {
        "id": "4b81337a-c06e-4b33-9dff-61ff0c6858c9"
      },
      "source": [
        "Load tokenizer to be used with the model"
      ]
    },
    {
      "cell_type": "code",
      "execution_count": 31,
      "id": "4c7e98fb-a356-463d-a856-9b011efdcca1",
      "metadata": {
        "id": "4c7e98fb-a356-463d-a856-9b011efdcca1",
        "outputId": "095b76f6-3bb9-4643-8042-58fe65fafae8",
        "colab": {
          "base_uri": "https://localhost:8080/",
          "height": 249,
          "referenced_widgets": [
            "0c39d1f2adc146f8b032c2377d7fddc5",
            "429b7eba2bb64c10b1dd6071ec1fe6aa",
            "43e7b79ca8dd476a86b07155a9c32287",
            "9679e65bc42c4f9ca94d7301972d1233",
            "14429520668d42acaca91960c9bf796c",
            "048c2a0c16744c99b5da1737c14219aa",
            "41c91b0ee03041adb3e200b0bc051378",
            "fffe8e7bd24745849682816b5e402ac6",
            "e3bafc7ce48e476ca253f36893a53ecf",
            "9e9c8d450af340449c70ca7ebf545501",
            "120e46395de54ece990f3bf242f86b0f",
            "5308280010504383a8a419bbccc07f1c",
            "00987f4c30d84308a88d168a7fdca1e3",
            "1e1aa722367840e088aa95021258a2bf",
            "b8ecb32d74a144e2a744af60bde90733",
            "5db9fe333ddc4057a0f21daa32511905",
            "af769aa50f65485fa88b4c2de6c12e9f",
            "1638bb7a2c8a4812b1b3140305825bd3",
            "e62674ba2fef4de4a48328aaa0e38017",
            "42d11b29987540a48fd040c40368c2ca",
            "52820f498cc643fea29bcfcf51476c6e",
            "7fb449aa579443148005e124bdc42f08",
            "34222be3de81400ab78d6195894ccdcc",
            "0b995149f38f48529271093d6737169f",
            "1c5351a0470c47958fa6271fcfac6ceb",
            "640f8520acb842d3ac2a348a018958e0",
            "bef4f7892351488b81deb8961be494d7",
            "f5d609b1c2f94830b42b2cee535f0298",
            "7ea8c0d4fa0b4e27ab309e472f568c8b",
            "e8f45d5348f047d4bf7a2893835f8ba1",
            "a7a2916c65674ad4b856eaea8238df58",
            "db7e86c3b1dd4fe39fd1ab4d2f39169a",
            "17e6e74dd6f147998e32e8b97f95d574",
            "1fd8edee221f4f0abd2c82b2c0954a14",
            "127c4c3f30754893bf68c682ee4943f5",
            "b653c9d5ed604f19a466dc85bc07468f",
            "94a97f7036b6482092cd279b46be485a",
            "7b4561464077423e9e5f0b46513eecc1",
            "1ede76110da541339e75fc1c7bcf5e10",
            "3396be426c664f11a255bf5a7cce86a4",
            "009feede64e442658fb10fc3e48906d1",
            "d6b3455d189042ecbfe9f8572db2fc5e",
            "bce0a8b9425b45cf933a4577c6425a2c",
            "315306b99e5741a0a76f1ea72d781453"
          ]
        }
      },
      "outputs": [
        {
          "output_type": "stream",
          "name": "stderr",
          "text": [
            "/usr/local/lib/python3.10/dist-packages/huggingface_hub/utils/_auth.py:94: UserWarning: \n",
            "The secret `HF_TOKEN` does not exist in your Colab secrets.\n",
            "To authenticate with the Hugging Face Hub, create a token in your settings tab (https://huggingface.co/settings/tokens), set it as secret in your Google Colab and restart your session.\n",
            "You will be able to reuse this secret in all of your notebooks.\n",
            "Please note that authentication is recommended but still optional to access public models or datasets.\n",
            "  warnings.warn(\n"
          ]
        },
        {
          "output_type": "display_data",
          "data": {
            "text/plain": [
              "tokenizer_config.json:   0%|          | 0.00/48.0 [00:00<?, ?B/s]"
            ],
            "application/vnd.jupyter.widget-view+json": {
              "version_major": 2,
              "version_minor": 0,
              "model_id": "0c39d1f2adc146f8b032c2377d7fddc5"
            }
          },
          "metadata": {}
        },
        {
          "output_type": "display_data",
          "data": {
            "text/plain": [
              "config.json:   0%|          | 0.00/570 [00:00<?, ?B/s]"
            ],
            "application/vnd.jupyter.widget-view+json": {
              "version_major": 2,
              "version_minor": 0,
              "model_id": "5308280010504383a8a419bbccc07f1c"
            }
          },
          "metadata": {}
        },
        {
          "output_type": "display_data",
          "data": {
            "text/plain": [
              "vocab.txt:   0%|          | 0.00/232k [00:00<?, ?B/s]"
            ],
            "application/vnd.jupyter.widget-view+json": {
              "version_major": 2,
              "version_minor": 0,
              "model_id": "34222be3de81400ab78d6195894ccdcc"
            }
          },
          "metadata": {}
        },
        {
          "output_type": "display_data",
          "data": {
            "text/plain": [
              "tokenizer.json:   0%|          | 0.00/466k [00:00<?, ?B/s]"
            ],
            "application/vnd.jupyter.widget-view+json": {
              "version_major": 2,
              "version_minor": 0,
              "model_id": "1fd8edee221f4f0abd2c82b2c0954a14"
            }
          },
          "metadata": {}
        }
      ],
      "source": [
        "tokenizer = transformers.AutoTokenizer.from_pretrained(BERT_SRC)"
      ]
    },
    {
      "cell_type": "markdown",
      "id": "c045f3c1-faf9-41fc-af88-a4f49c97ac13",
      "metadata": {
        "id": "c045f3c1-faf9-41fc-af88-a4f49c97ac13"
      },
      "source": [
        "# Feature extraction"
      ]
    },
    {
      "cell_type": "markdown",
      "id": "1025d0d6-3b43-440a-8791-27b3e208e415",
      "metadata": {
        "id": "1025d0d6-3b43-440a-8791-27b3e208e415"
      },
      "source": [
        "Since we will not be training the backbone, extract features from your dataset."
      ]
    },
    {
      "cell_type": "markdown",
      "id": "75fb0bf5-6e28-49fa-a0c3-e5b3fd51e7f7",
      "metadata": {
        "id": "75fb0bf5-6e28-49fa-a0c3-e5b3fd51e7f7"
      },
      "source": [
        "Tokenize all your sequences. Truncate/pad the squences for convenience. If the sequences are too large to be stored in memory, lazily save them on disk."
      ]
    },
    {
      "cell_type": "code",
      "execution_count": 9,
      "id": "c8a9c921-8843-42c1-95fd-75d01878621c",
      "metadata": {
        "id": "c8a9c921-8843-42c1-95fd-75d01878621c"
      },
      "outputs": [],
      "source": [
        "def preprocess_texts(texts):\n",
        "    tokens = tokenizer(\n",
        "        texts,\n",
        "        padding=True,\n",
        "        truncation=True,\n",
        "        max_length=MAX_SEQ_LENGTH,\n",
        "        return_tensors=\"tf\"\n",
        "    )\n",
        "\n",
        "    return tokens"
      ]
    },
    {
      "cell_type": "code",
      "execution_count": 10,
      "id": "a46eb89f-21ac-4a08-a32c-e604619f3d01",
      "metadata": {
        "id": "a46eb89f-21ac-4a08-a32c-e604619f3d01"
      },
      "outputs": [],
      "source": [
        "ECCOM_DATA_FEATURES_FILE = \"ECCOM_DATA_FEATURES-v3.h5\"\n",
        "ECCOM_DATA_FEATURES_DATASET = \"ECCOM_DATA_FEATURES_DATASET\""
      ]
    },
    {
      "cell_type": "code",
      "execution_count": null,
      "id": "adef1d6b-4095-4447-908c-5d86c5dd8c78",
      "metadata": {
        "collapsed": true,
        "jupyter": {
          "outputs_hidden": true
        },
        "id": "adef1d6b-4095-4447-908c-5d86c5dd8c78",
        "outputId": "03debcb6-482c-4e4d-f4fc-aa60abf8d746"
      },
      "outputs": [
        {
          "name": "stderr",
          "output_type": "stream",
          "text": [
            "100%|████████████████████████████████████████████████████████████████████████████████████████████████████████████████████████████████████████████████████████████████████████████████████████████████████████████████████████████████▊| 1561/1562 [2:33:24<00:05,  5.78s/it]2024-12-07 01:47:43.350952: W external/local_xla/xla/tsl/framework/bfc_allocator.cc:497] Allocator (GPU_0_bfc) ran out of memory trying to allocate 144.00MiB (rounded to 150994944)requested by op Softmax\n",
            "If the cause is memory fragmentation maybe the environment variable 'TF_GPU_ALLOCATOR=cuda_malloc_async' will improve the situation. \n",
            "Current allocation summary follows.\n",
            "Current allocation summary follows.\n",
            "2024-12-07 01:47:43.351005: I external/local_xla/xla/tsl/framework/bfc_allocator.cc:1053] BFCAllocator dump for GPU_0_bfc\n",
            "2024-12-07 01:47:43.351017: I external/local_xla/xla/tsl/framework/bfc_allocator.cc:1060] Bin (256): \tTotal Chunks: 12, Chunks in use: 12. 3.0KiB allocated for chunks. 3.0KiB in use in bin. 52B client-requested in use in bin.\n",
            "2024-12-07 01:47:43.351022: I external/local_xla/xla/tsl/framework/bfc_allocator.cc:1060] Bin (512): \tTotal Chunks: 0, Chunks in use: 0. 0B allocated for chunks. 0B in use in bin. 0B client-requested in use in bin.\n",
            "2024-12-07 01:47:43.351028: I external/local_xla/xla/tsl/framework/bfc_allocator.cc:1060] Bin (1024): \tTotal Chunks: 1, Chunks in use: 1. 1.2KiB allocated for chunks. 1.2KiB in use in bin. 1.0KiB client-requested in use in bin.\n",
            "2024-12-07 01:47:43.351034: I external/local_xla/xla/tsl/framework/bfc_allocator.cc:1060] Bin (2048): \tTotal Chunks: 111, Chunks in use: 111. 333.0KiB allocated for chunks. 333.0KiB in use in bin. 333.0KiB client-requested in use in bin.\n",
            "2024-12-07 01:47:43.351039: I external/local_xla/xla/tsl/framework/bfc_allocator.cc:1060] Bin (4096): \tTotal Chunks: 1, Chunks in use: 1. 6.0KiB allocated for chunks. 6.0KiB in use in bin. 6.0KiB client-requested in use in bin.\n",
            "2024-12-07 01:47:43.351044: I external/local_xla/xla/tsl/framework/bfc_allocator.cc:1060] Bin (8192): \tTotal Chunks: 13, Chunks in use: 12. 157.2KiB allocated for chunks. 147.0KiB in use in bin. 144.0KiB client-requested in use in bin.\n",
            "2024-12-07 01:47:43.351048: I external/local_xla/xla/tsl/framework/bfc_allocator.cc:1060] Bin (16384): \tTotal Chunks: 0, Chunks in use: 0. 0B allocated for chunks. 0B in use in bin. 0B client-requested in use in bin.\n",
            "2024-12-07 01:47:43.351054: I external/local_xla/xla/tsl/framework/bfc_allocator.cc:1060] Bin (32768): \tTotal Chunks: 2, Chunks in use: 2. 96.0KiB allocated for chunks. 96.0KiB in use in bin. 96.0KiB client-requested in use in bin.\n",
            "2024-12-07 01:47:43.351059: I external/local_xla/xla/tsl/framework/bfc_allocator.cc:1060] Bin (65536): \tTotal Chunks: 4, Chunks in use: 3. 368.0KiB allocated for chunks. 272.0KiB in use in bin. 240.0KiB client-requested in use in bin.\n",
            "2024-12-07 01:47:43.351063: I external/local_xla/xla/tsl/framework/bfc_allocator.cc:1060] Bin (131072): \tTotal Chunks: 1, Chunks in use: 0. 137.2KiB allocated for chunks. 0B in use in bin. 0B client-requested in use in bin.\n",
            "2024-12-07 01:47:43.351068: I external/local_xla/xla/tsl/framework/bfc_allocator.cc:1060] Bin (262144): \tTotal Chunks: 0, Chunks in use: 0. 0B allocated for chunks. 0B in use in bin. 0B client-requested in use in bin.\n",
            "2024-12-07 01:47:43.351072: I external/local_xla/xla/tsl/framework/bfc_allocator.cc:1060] Bin (524288): \tTotal Chunks: 0, Chunks in use: 0. 0B allocated for chunks. 0B in use in bin. 0B client-requested in use in bin.\n",
            "2024-12-07 01:47:43.351077: I external/local_xla/xla/tsl/framework/bfc_allocator.cc:1060] Bin (1048576): \tTotal Chunks: 2, Chunks in use: 1. 3.64MiB allocated for chunks. 1.99MiB in use in bin. 1.50MiB client-requested in use in bin.\n",
            "2024-12-07 01:47:43.351083: I external/local_xla/xla/tsl/framework/bfc_allocator.cc:1060] Bin (2097152): \tTotal Chunks: 50, Chunks in use: 49. 112.79MiB allocated for chunks. 110.54MiB in use in bin. 110.25MiB client-requested in use in bin.\n",
            "2024-12-07 01:47:43.351087: I external/local_xla/xla/tsl/framework/bfc_allocator.cc:1060] Bin (4194304): \tTotal Chunks: 1, Chunks in use: 0. 6.75MiB allocated for chunks. 0B in use in bin. 0B client-requested in use in bin.\n",
            "2024-12-07 01:47:43.351093: I external/local_xla/xla/tsl/framework/bfc_allocator.cc:1060] Bin (8388608): \tTotal Chunks: 26, Chunks in use: 24. 241.75MiB allocated for chunks. 223.75MiB in use in bin. 216.00MiB client-requested in use in bin.\n",
            "2024-12-07 01:47:43.351098: I external/local_xla/xla/tsl/framework/bfc_allocator.cc:1060] Bin (16777216): \tTotal Chunks: 1, Chunks in use: 1. 31.58MiB allocated for chunks. 31.58MiB in use in bin. 24.00MiB client-requested in use in bin.\n",
            "2024-12-07 01:47:43.351103: I external/local_xla/xla/tsl/framework/bfc_allocator.cc:1060] Bin (33554432): \tTotal Chunks: 6, Chunks in use: 5. 224.42MiB allocated for chunks. 180.00MiB in use in bin. 180.00MiB client-requested in use in bin.\n",
            "2024-12-07 01:47:43.351111: I external/local_xla/xla/tsl/framework/bfc_allocator.cc:1060] Bin (67108864): \tTotal Chunks: 1, Chunks in use: 1. 89.42MiB allocated for chunks. 89.42MiB in use in bin. 89.42MiB client-requested in use in bin.\n",
            "2024-12-07 01:47:43.351116: I external/local_xla/xla/tsl/framework/bfc_allocator.cc:1060] Bin (134217728): \tTotal Chunks: 5, Chunks in use: 3. 703.58MiB allocated for chunks. 432.00MiB in use in bin. 432.00MiB client-requested in use in bin.\n",
            "2024-12-07 01:47:43.351120: I external/local_xla/xla/tsl/framework/bfc_allocator.cc:1060] Bin (268435456): \tTotal Chunks: 0, Chunks in use: 0. 0B allocated for chunks. 0B in use in bin. 0B client-requested in use in bin.\n",
            "2024-12-07 01:47:43.351125: I external/local_xla/xla/tsl/framework/bfc_allocator.cc:1076] Bin for 144.00MiB was 128.00MiB, Chunk State: \n",
            "2024-12-07 01:47:43.351134: I external/local_xla/xla/tsl/framework/bfc_allocator.cc:1082]   Size: 134.58MiB | Requested Size: 48.0KiB | in_use: 0 | bin_num: 19, prev:   Size: 144.00MiB | Requested Size: 144.00MiB | in_use: 1 | bin_num: -1\n",
            "2024-12-07 01:47:43.351140: I external/local_xla/xla/tsl/framework/bfc_allocator.cc:1082]   Size: 137.00MiB | Requested Size: 24.00MiB | in_use: 0 | bin_num: 19, prev:   Size: 144.00MiB | Requested Size: 144.00MiB | in_use: 1 | bin_num: -1\n",
            "2024-12-07 01:47:43.351144: I external/local_xla/xla/tsl/framework/bfc_allocator.cc:1089] Next region of size 2097152\n",
            "2024-12-07 01:47:43.351150: I external/local_xla/xla/tsl/framework/bfc_allocator.cc:1109] InUse at 501a00000 of size 256 next 1\n",
            "2024-12-07 01:47:43.351154: I external/local_xla/xla/tsl/framework/bfc_allocator.cc:1109] InUse at 501a00100 of size 1280 next 2\n",
            "2024-12-07 01:47:43.351158: I external/local_xla/xla/tsl/framework/bfc_allocator.cc:1109] InUse at 501a00600 of size 256 next 3\n",
            "2024-12-07 01:47:43.351161: I external/local_xla/xla/tsl/framework/bfc_allocator.cc:1109] InUse at 501a00700 of size 256 next 4\n",
            "2024-12-07 01:47:43.351165: I external/local_xla/xla/tsl/framework/bfc_allocator.cc:1109] InUse at 501a00800 of size 256 next 6\n",
            "2024-12-07 01:47:43.351168: I external/local_xla/xla/tsl/framework/bfc_allocator.cc:1109] InUse at 501a00900 of size 3072 next 11\n",
            "2024-12-07 01:47:43.351172: I external/local_xla/xla/tsl/framework/bfc_allocator.cc:1109] InUse at 501a01500 of size 256 next 15\n",
            "2024-12-07 01:47:43.351176: I external/local_xla/xla/tsl/framework/bfc_allocator.cc:1109] InUse at 501a01600 of size 3072 next 16\n",
            "2024-12-07 01:47:43.351180: I external/local_xla/xla/tsl/framework/bfc_allocator.cc:1109] InUse at 501a02200 of size 3072 next 19\n",
            "2024-12-07 01:47:43.351184: I external/local_xla/xla/tsl/framework/bfc_allocator.cc:1109] InUse at 501a02e00 of size 3072 next 12\n",
            "2024-12-07 01:47:43.351188: I external/local_xla/xla/tsl/framework/bfc_allocator.cc:1109] InUse at 501a03a00 of size 2082304 next 18446744073709551615\n",
            "2024-12-07 01:47:43.351192: I external/local_xla/xla/tsl/framework/bfc_allocator.cc:1089] Next region of size 134217728\n",
            "2024-12-07 01:47:43.351196: I external/local_xla/xla/tsl/framework/bfc_allocator.cc:1109] InUse at 501c00000 of size 3072 next 18\n",
            "2024-12-07 01:47:43.351200: I external/local_xla/xla/tsl/framework/bfc_allocator.cc:1109] InUse at 501c00c00 of size 3072 next 25\n",
            "2024-12-07 01:47:43.351203: I external/local_xla/xla/tsl/framework/bfc_allocator.cc:1109] InUse at 501c01800 of size 3072 next 22\n",
            "2024-12-07 01:47:43.351231: I external/local_xla/xla/tsl/framework/bfc_allocator.cc:1109] InUse at 501c02400 of size 3072 next 17\n",
            "2024-12-07 01:47:43.351235: I external/local_xla/xla/tsl/framework/bfc_allocator.cc:1109] InUse at 501c03000 of size 3072 next 29\n",
            "2024-12-07 01:47:43.351240: I external/local_xla/xla/tsl/framework/bfc_allocator.cc:1109] InUse at 501c03c00 of size 3072 next 32\n",
            "2024-12-07 01:47:43.351249: I external/local_xla/xla/tsl/framework/bfc_allocator.cc:1109] InUse at 501c04800 of size 3072 next 26\n",
            "2024-12-07 01:47:43.351257: I external/local_xla/xla/tsl/framework/bfc_allocator.cc:1109] InUse at 501c05400 of size 3072 next 215\n",
            "2024-12-07 01:47:43.351262: I external/local_xla/xla/tsl/framework/bfc_allocator.cc:1109] InUse at 501c06000 of size 3072 next 36\n",
            "2024-12-07 01:47:43.351266: I external/local_xla/xla/tsl/framework/bfc_allocator.cc:1109] InUse at 501c06c00 of size 3072 next 38\n",
            "2024-12-07 01:47:43.351269: I external/local_xla/xla/tsl/framework/bfc_allocator.cc:1109] InUse at 501c07800 of size 3072 next 40\n",
            "2024-12-07 01:47:43.351273: I external/local_xla/xla/tsl/framework/bfc_allocator.cc:1109] InUse at 501c08400 of size 3072 next 42\n",
            "2024-12-07 01:47:43.351277: I external/local_xla/xla/tsl/framework/bfc_allocator.cc:1109] InUse at 501c09000 of size 15360 next 35\n",
            "2024-12-07 01:47:43.351281: I external/local_xla/xla/tsl/framework/bfc_allocator.cc:1109] InUse at 501c0cc00 of size 3072 next 34\n",
            "2024-12-07 01:47:43.351285: I external/local_xla/xla/tsl/framework/bfc_allocator.cc:1109] InUse at 501c0d800 of size 3072 next 44\n",
            "2024-12-07 01:47:43.351289: I external/local_xla/xla/tsl/framework/bfc_allocator.cc:1109] InUse at 501c0e400 of size 3072 next 45\n",
            "2024-12-07 01:47:43.351293: I external/local_xla/xla/tsl/framework/bfc_allocator.cc:1109] InUse at 501c0f000 of size 3072 next 48\n",
            "2024-12-07 01:47:43.351297: I external/local_xla/xla/tsl/framework/bfc_allocator.cc:1109] InUse at 501c0fc00 of size 3072 next 50\n",
            "2024-12-07 01:47:43.351301: I external/local_xla/xla/tsl/framework/bfc_allocator.cc:1109] InUse at 501c10800 of size 3072 next 53\n",
            "2024-12-07 01:47:43.351304: I external/local_xla/xla/tsl/framework/bfc_allocator.cc:1109] InUse at 501c11400 of size 3072 next 55\n",
            "2024-12-07 01:47:43.351308: I external/local_xla/xla/tsl/framework/bfc_allocator.cc:1109] InUse at 501c12000 of size 3072 next 57\n",
            "2024-12-07 01:47:43.351312: I external/local_xla/xla/tsl/framework/bfc_allocator.cc:1109] InUse at 501c12c00 of size 3072 next 51\n",
            "2024-12-07 01:47:43.351316: I external/local_xla/xla/tsl/framework/bfc_allocator.cc:1109] InUse at 501c13800 of size 12288 next 60\n",
            "2024-12-07 01:47:43.351320: I external/local_xla/xla/tsl/framework/bfc_allocator.cc:1109] InUse at 501c16800 of size 3072 next 52\n",
            "2024-12-07 01:47:43.351324: I external/local_xla/xla/tsl/framework/bfc_allocator.cc:1109] InUse at 501c17400 of size 3072 next 61\n",
            "2024-12-07 01:47:43.351328: I external/local_xla/xla/tsl/framework/bfc_allocator.cc:1109] InUse at 501c18000 of size 3072 next 62\n",
            "2024-12-07 01:47:43.351331: I external/local_xla/xla/tsl/framework/bfc_allocator.cc:1109] InUse at 501c18c00 of size 3072 next 33\n",
            "2024-12-07 01:47:43.351335: I external/local_xla/xla/tsl/framework/bfc_allocator.cc:1109] InUse at 501c19800 of size 3072 next 70\n",
            "2024-12-07 01:47:43.351339: I external/local_xla/xla/tsl/framework/bfc_allocator.cc:1109] InUse at 501c1a400 of size 3072 next 72\n",
            "2024-12-07 01:47:43.351343: I external/local_xla/xla/tsl/framework/bfc_allocator.cc:1109] InUse at 501c1b000 of size 3072 next 74\n",
            "2024-12-07 01:47:43.351347: I external/local_xla/xla/tsl/framework/bfc_allocator.cc:1109] InUse at 501c1bc00 of size 3072 next 71\n",
            "2024-12-07 01:47:43.351351: I external/local_xla/xla/tsl/framework/bfc_allocator.cc:1109] InUse at 501c1c800 of size 3072 next 73\n",
            "2024-12-07 01:47:43.351355: I external/local_xla/xla/tsl/framework/bfc_allocator.cc:1109] InUse at 501c1d400 of size 12288 next 76\n",
            "2024-12-07 01:47:43.351359: I external/local_xla/xla/tsl/framework/bfc_allocator.cc:1109] InUse at 501c20400 of size 3072 next 68\n",
            "2024-12-07 01:47:43.351362: I external/local_xla/xla/tsl/framework/bfc_allocator.cc:1109] InUse at 501c21000 of size 3072 next 77\n",
            "2024-12-07 01:47:43.351366: I external/local_xla/xla/tsl/framework/bfc_allocator.cc:1109] InUse at 501c21c00 of size 3072 next 78\n",
            "2024-12-07 01:47:43.351370: I external/local_xla/xla/tsl/framework/bfc_allocator.cc:1109] InUse at 501c22800 of size 3072 next 65\n",
            "2024-12-07 01:47:43.351374: I external/local_xla/xla/tsl/framework/bfc_allocator.cc:1109] InUse at 501c23400 of size 3072 next 82\n",
            "2024-12-07 01:47:43.351378: I external/local_xla/xla/tsl/framework/bfc_allocator.cc:1109] InUse at 501c24000 of size 3072 next 83\n",
            "2024-12-07 01:47:43.351382: I external/local_xla/xla/tsl/framework/bfc_allocator.cc:1109] InUse at 501c24c00 of size 3072 next 84\n",
            "2024-12-07 01:47:43.351386: I external/local_xla/xla/tsl/framework/bfc_allocator.cc:1109] InUse at 501c25800 of size 3072 next 86\n",
            "2024-12-07 01:47:43.351390: I external/local_xla/xla/tsl/framework/bfc_allocator.cc:1109] InUse at 501c26400 of size 3072 next 88\n",
            "2024-12-07 01:47:43.351394: I external/local_xla/xla/tsl/framework/bfc_allocator.cc:1109] InUse at 501c27000 of size 12288 next 91\n",
            "2024-12-07 01:47:43.351398: I external/local_xla/xla/tsl/framework/bfc_allocator.cc:1109] InUse at 501c2a000 of size 3072 next 90\n",
            "2024-12-07 01:47:43.351401: I external/local_xla/xla/tsl/framework/bfc_allocator.cc:1109] InUse at 501c2ac00 of size 3072 next 92\n",
            "2024-12-07 01:47:43.351405: I external/local_xla/xla/tsl/framework/bfc_allocator.cc:1109] InUse at 501c2b800 of size 3072 next 93\n",
            "2024-12-07 01:47:43.351409: I external/local_xla/xla/tsl/framework/bfc_allocator.cc:1109] InUse at 501c2c400 of size 3072 next 66\n",
            "2024-12-07 01:47:43.351413: I external/local_xla/xla/tsl/framework/bfc_allocator.cc:1109] InUse at 501c2d000 of size 3072 next 101\n",
            "2024-12-07 01:47:43.351417: I external/local_xla/xla/tsl/framework/bfc_allocator.cc:1109] InUse at 501c2dc00 of size 3072 next 103\n",
            "2024-12-07 01:47:43.351421: I external/local_xla/xla/tsl/framework/bfc_allocator.cc:1109] InUse at 501c2e800 of size 3072 next 105\n",
            "2024-12-07 01:47:43.351425: I external/local_xla/xla/tsl/framework/bfc_allocator.cc:1109] InUse at 501c2f400 of size 3072 next 102\n",
            "2024-12-07 01:47:43.351428: I external/local_xla/xla/tsl/framework/bfc_allocator.cc:1109] InUse at 501c30000 of size 3072 next 104\n",
            "2024-12-07 01:47:43.351432: I external/local_xla/xla/tsl/framework/bfc_allocator.cc:1109] InUse at 501c30c00 of size 12288 next 107\n",
            "2024-12-07 01:47:43.351436: I external/local_xla/xla/tsl/framework/bfc_allocator.cc:1109] InUse at 501c33c00 of size 3072 next 106\n",
            "2024-12-07 01:47:43.351440: I external/local_xla/xla/tsl/framework/bfc_allocator.cc:1109] InUse at 501c34800 of size 3072 next 108\n",
            "2024-12-07 01:47:43.351444: I external/local_xla/xla/tsl/framework/bfc_allocator.cc:1109] InUse at 501c35400 of size 3072 next 109\n",
            "2024-12-07 01:47:43.351448: I external/local_xla/xla/tsl/framework/bfc_allocator.cc:1109] InUse at 501c36000 of size 3072 next 96\n",
            "2024-12-07 01:47:43.351453: I external/local_xla/xla/tsl/framework/bfc_allocator.cc:1109] InUse at 501c36c00 of size 3072 next 114\n",
            "2024-12-07 01:47:43.351458: I external/local_xla/xla/tsl/framework/bfc_allocator.cc:1109] InUse at 501c37800 of size 3072 next 115\n",
            "2024-12-07 01:47:43.351462: I external/local_xla/xla/tsl/framework/bfc_allocator.cc:1109] InUse at 501c38400 of size 3072 next 116\n",
            "2024-12-07 01:47:43.351466: I external/local_xla/xla/tsl/framework/bfc_allocator.cc:1109] InUse at 501c39000 of size 3072 next 118\n",
            "2024-12-07 01:47:43.351471: I external/local_xla/xla/tsl/framework/bfc_allocator.cc:1109] InUse at 501c39c00 of size 3072 next 120\n",
            "2024-12-07 01:47:43.351476: I external/local_xla/xla/tsl/framework/bfc_allocator.cc:1109] InUse at 501c3a800 of size 12288 next 123\n",
            "2024-12-07 01:47:43.351480: I external/local_xla/xla/tsl/framework/bfc_allocator.cc:1109] InUse at 501c3d800 of size 3072 next 122\n",
            "2024-12-07 01:47:43.351485: I external/local_xla/xla/tsl/framework/bfc_allocator.cc:1109] InUse at 501c3e400 of size 3072 next 124\n",
            "2024-12-07 01:47:43.351497: I external/local_xla/xla/tsl/framework/bfc_allocator.cc:1109] InUse at 501c3f000 of size 3072 next 125\n",
            "2024-12-07 01:47:43.351505: I external/local_xla/xla/tsl/framework/bfc_allocator.cc:1109] InUse at 501c3fc00 of size 3072 next 128\n",
            "2024-12-07 01:47:43.351515: I external/local_xla/xla/tsl/framework/bfc_allocator.cc:1109] InUse at 501c40800 of size 3072 next 130\n",
            "2024-12-07 01:47:43.351520: I external/local_xla/xla/tsl/framework/bfc_allocator.cc:1109] InUse at 501c41400 of size 3072 next 131\n",
            "2024-12-07 01:47:43.351524: I external/local_xla/xla/tsl/framework/bfc_allocator.cc:1109] InUse at 501c42000 of size 3072 next 132\n",
            "2024-12-07 01:47:43.351528: I external/local_xla/xla/tsl/framework/bfc_allocator.cc:1109] InUse at 501c42c00 of size 3072 next 134\n",
            "2024-12-07 01:47:43.351532: I external/local_xla/xla/tsl/framework/bfc_allocator.cc:1109] InUse at 501c43800 of size 3072 next 136\n",
            "2024-12-07 01:47:43.351536: I external/local_xla/xla/tsl/framework/bfc_allocator.cc:1109] InUse at 501c44400 of size 12288 next 139\n",
            "2024-12-07 01:47:43.351540: I external/local_xla/xla/tsl/framework/bfc_allocator.cc:1109] InUse at 501c47400 of size 3072 next 138\n",
            "2024-12-07 01:47:43.351544: I external/local_xla/xla/tsl/framework/bfc_allocator.cc:1109] InUse at 501c48000 of size 3072 next 140\n",
            "2024-12-07 01:47:43.351548: I external/local_xla/xla/tsl/framework/bfc_allocator.cc:1109] InUse at 501c48c00 of size 3072 next 141\n",
            "2024-12-07 01:47:43.351551: I external/local_xla/xla/tsl/framework/bfc_allocator.cc:1109] InUse at 501c49800 of size 3072 next 144\n",
            "2024-12-07 01:47:43.351555: I external/local_xla/xla/tsl/framework/bfc_allocator.cc:1109] InUse at 501c4a400 of size 3072 next 146\n",
            "2024-12-07 01:47:43.351559: I external/local_xla/xla/tsl/framework/bfc_allocator.cc:1109] InUse at 501c4b000 of size 3072 next 147\n",
            "2024-12-07 01:47:43.351563: I external/local_xla/xla/tsl/framework/bfc_allocator.cc:1109] InUse at 501c4bc00 of size 3072 next 148\n",
            "2024-12-07 01:47:43.351567: I external/local_xla/xla/tsl/framework/bfc_allocator.cc:1109] InUse at 501c4c800 of size 3072 next 150\n",
            "2024-12-07 01:47:43.351573: I external/local_xla/xla/tsl/framework/bfc_allocator.cc:1109] InUse at 501c4d400 of size 3072 next 152\n",
            "2024-12-07 01:47:43.351577: I external/local_xla/xla/tsl/framework/bfc_allocator.cc:1109] InUse at 501c4e000 of size 12288 next 155\n",
            "2024-12-07 01:47:43.351582: I external/local_xla/xla/tsl/framework/bfc_allocator.cc:1109] InUse at 501c51000 of size 3072 next 158\n",
            "2024-12-07 01:47:43.351587: I external/local_xla/xla/tsl/framework/bfc_allocator.cc:1109] InUse at 501c51c00 of size 3072 next 156\n",
            "2024-12-07 01:47:43.351592: I external/local_xla/xla/tsl/framework/bfc_allocator.cc:1109] InUse at 501c52800 of size 3072 next 157\n",
            "2024-12-07 01:47:43.351597: I external/local_xla/xla/tsl/framework/bfc_allocator.cc:1109] InUse at 501c53400 of size 3072 next 159\n",
            "2024-12-07 01:47:43.351602: I external/local_xla/xla/tsl/framework/bfc_allocator.cc:1109] InUse at 501c54000 of size 3072 next 161\n",
            "2024-12-07 01:47:43.351608: I external/local_xla/xla/tsl/framework/bfc_allocator.cc:1109] InUse at 501c54c00 of size 3072 next 162\n",
            "2024-12-07 01:47:43.351613: I external/local_xla/xla/tsl/framework/bfc_allocator.cc:1109] InUse at 501c55800 of size 3072 next 163\n",
            "2024-12-07 01:47:43.351618: I external/local_xla/xla/tsl/framework/bfc_allocator.cc:1109] InUse at 501c56400 of size 3072 next 165\n",
            "2024-12-07 01:47:43.351622: I external/local_xla/xla/tsl/framework/bfc_allocator.cc:1109] InUse at 501c57000 of size 3072 next 167\n",
            "2024-12-07 01:47:43.351626: I external/local_xla/xla/tsl/framework/bfc_allocator.cc:1109] InUse at 501c57c00 of size 12288 next 170\n",
            "2024-12-07 01:47:43.351630: I external/local_xla/xla/tsl/framework/bfc_allocator.cc:1109] InUse at 501c5ac00 of size 3072 next 154\n",
            "2024-12-07 01:47:43.351634: I external/local_xla/xla/tsl/framework/bfc_allocator.cc:1109] InUse at 501c5b800 of size 3072 next 171\n",
            "2024-12-07 01:47:43.351638: I external/local_xla/xla/tsl/framework/bfc_allocator.cc:1109] InUse at 501c5c400 of size 3072 next 172\n",
            "2024-12-07 01:47:43.351642: I external/local_xla/xla/tsl/framework/bfc_allocator.cc:1109] InUse at 501c5d000 of size 3072 next 160\n",
            "2024-12-07 01:47:43.351646: I external/local_xla/xla/tsl/framework/bfc_allocator.cc:1109] InUse at 501c5dc00 of size 3072 next 180\n",
            "2024-12-07 01:47:43.351651: I external/local_xla/xla/tsl/framework/bfc_allocator.cc:1109] InUse at 501c5e800 of size 3072 next 182\n",
            "2024-12-07 01:47:43.351663: I external/local_xla/xla/tsl/framework/bfc_allocator.cc:1109] InUse at 501c5f400 of size 3072 next 184\n",
            "2024-12-07 01:47:43.351669: I external/local_xla/xla/tsl/framework/bfc_allocator.cc:1109] InUse at 501c60000 of size 3072 next 181\n",
            "2024-12-07 01:47:43.351680: I external/local_xla/xla/tsl/framework/bfc_allocator.cc:1109] InUse at 501c60c00 of size 3072 next 183\n",
            "2024-12-07 01:47:43.351689: I external/local_xla/xla/tsl/framework/bfc_allocator.cc:1109] InUse at 501c61800 of size 12288 next 186\n",
            "2024-12-07 01:47:43.351694: I external/local_xla/xla/tsl/framework/bfc_allocator.cc:1109] InUse at 501c64800 of size 3072 next 178\n",
            "2024-12-07 01:47:43.351699: I external/local_xla/xla/tsl/framework/bfc_allocator.cc:1109] InUse at 501c65400 of size 3072 next 187\n",
            "2024-12-07 01:47:43.351704: I external/local_xla/xla/tsl/framework/bfc_allocator.cc:1109] InUse at 501c66000 of size 3072 next 188\n",
            "2024-12-07 01:47:43.351709: I external/local_xla/xla/tsl/framework/bfc_allocator.cc:1109] InUse at 501c66c00 of size 3072 next 176\n",
            "2024-12-07 01:47:43.351713: I external/local_xla/xla/tsl/framework/bfc_allocator.cc:1109] InUse at 501c67800 of size 3072 next 196\n",
            "2024-12-07 01:47:43.351718: I external/local_xla/xla/tsl/framework/bfc_allocator.cc:1109] InUse at 501c68400 of size 3072 next 198\n",
            "2024-12-07 01:47:43.351723: I external/local_xla/xla/tsl/framework/bfc_allocator.cc:1109] InUse at 501c69000 of size 3072 next 200\n",
            "2024-12-07 01:47:43.351728: I external/local_xla/xla/tsl/framework/bfc_allocator.cc:1109] InUse at 501c69c00 of size 3072 next 197\n",
            "2024-12-07 01:47:43.351733: I external/local_xla/xla/tsl/framework/bfc_allocator.cc:1109] InUse at 501c6a800 of size 3072 next 199\n",
            "2024-12-07 01:47:43.351738: I external/local_xla/xla/tsl/framework/bfc_allocator.cc:1109] InUse at 501c6b400 of size 12288 next 202\n",
            "2024-12-07 01:47:43.351743: I external/local_xla/xla/tsl/framework/bfc_allocator.cc:1109] InUse at 501c6e400 of size 3072 next 194\n",
            "2024-12-07 01:47:43.351747: I external/local_xla/xla/tsl/framework/bfc_allocator.cc:1109] InUse at 501c6f000 of size 3072 next 203\n",
            "2024-12-07 01:47:43.351752: I external/local_xla/xla/tsl/framework/bfc_allocator.cc:1109] InUse at 501c6fc00 of size 3072 next 204\n",
            "2024-12-07 01:47:43.351762: I external/local_xla/xla/tsl/framework/bfc_allocator.cc:1109] InUse at 501c70800 of size 3072 next 192\n",
            "2024-12-07 01:47:43.351768: I external/local_xla/xla/tsl/framework/bfc_allocator.cc:1109] InUse at 501c71400 of size 256 next 220\n",
            "2024-12-07 01:47:43.351773: I external/local_xla/xla/tsl/framework/bfc_allocator.cc:1109] InUse at 501c71500 of size 256 next 221\n",
            "2024-12-07 01:47:43.351778: I external/local_xla/xla/tsl/framework/bfc_allocator.cc:1109] InUse at 501c71600 of size 256 next 228\n",
            "2024-12-07 01:47:43.351783: I external/local_xla/xla/tsl/framework/bfc_allocator.cc:1109] InUse at 501c71700 of size 256 next 175\n",
            "2024-12-07 01:47:43.351788: I external/local_xla/xla/tsl/framework/bfc_allocator.cc:1109] InUse at 501c71800 of size 256 next 223\n",
            "2024-12-07 01:47:43.351793: I external/local_xla/xla/tsl/framework/bfc_allocator.cc:1109] InUse at 501c71900 of size 256 next 229\n",
            "2024-12-07 01:47:43.351798: I external/local_xla/xla/tsl/framework/bfc_allocator.cc:1109] InUse at 501c71a00 of size 256 next 230\n",
            "2024-12-07 01:47:43.351803: I external/local_xla/xla/tsl/framework/bfc_allocator.cc:1109] Free  at 501c71b00 of size 10496 next 210\n",
            "2024-12-07 01:47:43.351808: I external/local_xla/xla/tsl/framework/bfc_allocator.cc:1109] InUse at 501c74400 of size 6144 next 214\n",
            "2024-12-07 01:47:43.351813: I external/local_xla/xla/tsl/framework/bfc_allocator.cc:1109] InUse at 501c75c00 of size 12288 next 30\n",
            "2024-12-07 01:47:43.351819: I external/local_xla/xla/tsl/framework/bfc_allocator.cc:1109] InUse at 501c78c00 of size 49152 next 216\n",
            "2024-12-07 01:47:43.351825: I external/local_xla/xla/tsl/framework/bfc_allocator.cc:1109] InUse at 501c84c00 of size 81920 next 222\n",
            "2024-12-07 01:47:43.351836: I external/local_xla/xla/tsl/framework/bfc_allocator.cc:1109] InUse at 501c98c00 of size 98304 next 224\n",
            "2024-12-07 01:47:43.351842: I external/local_xla/xla/tsl/framework/bfc_allocator.cc:1109] Free  at 501cb0c00 of size 98304 next 238\n",
            "2024-12-07 01:47:43.351847: I external/local_xla/xla/tsl/framework/bfc_allocator.cc:1109] InUse at 501cc8c00 of size 49152 next 237\n",
            "2024-12-07 01:47:43.351852: I external/local_xla/xla/tsl/framework/bfc_allocator.cc:1109] Free  at 501cd4c00 of size 140544 next 225\n",
            "2024-12-07 01:47:43.351857: I external/local_xla/xla/tsl/framework/bfc_allocator.cc:1109] InUse at 501cf7100 of size 98304 next 227\n",
            "2024-12-07 01:47:43.351862: I external/local_xla/xla/tsl/framework/bfc_allocator.cc:1109] Free  at 501d0f100 of size 1731328 next 14\n",
            "2024-12-07 01:47:43.351867: I external/local_xla/xla/tsl/framework/bfc_allocator.cc:1109] InUse at 501eb5c00 of size 2663424 next 59\n",
            "2024-12-07 01:47:43.351872: I external/local_xla/xla/tsl/framework/bfc_allocator.cc:1109] Free  at 502140000 of size 2359296 next 20\n",
            "2024-12-07 01:47:43.351877: I external/local_xla/xla/tsl/framework/bfc_allocator.cc:1109] InUse at 502380000 of size 2359296 next 21\n",
            "2024-12-07 01:47:43.351882: I external/local_xla/xla/tsl/framework/bfc_allocator.cc:1109] InUse at 5025c0000 of size 2359296 next 23\n",
            "2024-12-07 01:47:43.351887: I external/local_xla/xla/tsl/framework/bfc_allocator.cc:1109] InUse at 502800000 of size 2359296 next 24\n",
            "2024-12-07 01:47:43.351892: I external/local_xla/xla/tsl/framework/bfc_allocator.cc:1109] InUse at 502a40000 of size 2359296 next 28\n",
            "2024-12-07 01:47:43.351897: I external/local_xla/xla/tsl/framework/bfc_allocator.cc:1109] InUse at 502c80000 of size 2359296 next 37\n",
            "2024-12-07 01:47:43.351902: I external/local_xla/xla/tsl/framework/bfc_allocator.cc:1109] InUse at 502ec0000 of size 2359296 next 39\n",
            "2024-12-07 01:47:43.351907: I external/local_xla/xla/tsl/framework/bfc_allocator.cc:1109] InUse at 503100000 of size 2359296 next 41\n",
            "2024-12-07 01:47:43.351912: I external/local_xla/xla/tsl/framework/bfc_allocator.cc:1109] InUse at 503340000 of size 2359296 next 43\n",
            "2024-12-07 01:47:43.351916: I external/local_xla/xla/tsl/framework/bfc_allocator.cc:1109] InUse at 503580000 of size 2359296 next 54\n",
            "2024-12-07 01:47:43.351922: I external/local_xla/xla/tsl/framework/bfc_allocator.cc:1109] InUse at 5037c0000 of size 2359296 next 56\n",
            "2024-12-07 01:47:43.351927: I external/local_xla/xla/tsl/framework/bfc_allocator.cc:1109] InUse at 503a00000 of size 2359296 next 58\n",
            "2024-12-07 01:47:43.351932: I external/local_xla/xla/tsl/framework/bfc_allocator.cc:1109] InUse at 503c40000 of size 3072 next 5\n",
            "2024-12-07 01:47:43.351937: I external/local_xla/xla/tsl/framework/bfc_allocator.cc:1109] InUse at 503c40c00 of size 11793408 next 31\n",
            "100%|████████████████████████████████████████████████████████████████████████████████████████████████████████████████████████████████████████████████████████████████████████████████████████████████████████████████████████████████▊| 1561/1562 [2:33:34<00:05,  5.90s/it]4780000 of size 2359296 next 179\n",
            "2024-12-07 01:47:43.351947: I external/local_xla/xla/tsl/framework/bfc_allocator.cc:1109] InUse at 5049c0000 of size 2359296 next 191\n",
            "2024-12-07 01:47:43.351953: I external/local_xla/xla/tsl/framework/bfc_allocator.cc:1109] InUse at 504c00000 of size 2359296 next 193\n",
            "2024-12-07 01:47:43.351957: I external/local_xla/xla/tsl/framework/bfc_allocator.cc:1109] InUse at 504e40000 of size 2359296 next 75\n",
            "2024-12-07 01:47:43.351962: I external/local_xla/xla/tsl/framework/bfc_allocator.cc:1109] InUse at 505080000 of size 9437184 next 46\n",
            "2024-12-07 01:47:43.351967: I external/local_xla/xla/tsl/framework/bfc_allocator.cc:1109] InUse at 505980000 of size 9437184 next 47\n",
            "2024-12-07 01:47:43.351972: I external/local_xla/xla/tsl/framework/bfc_allocator.cc:1109] InUse at 506280000 of size 9437184 next 49\n",
            "2024-12-07 01:47:43.351977: I external/local_xla/xla/tsl/framework/bfc_allocator.cc:1109] InUse at 506b80000 of size 2359296 next 85\n",
            "2024-12-07 01:47:43.351982: I external/local_xla/xla/tsl/framework/bfc_allocator.cc:1109] InUse at 506dc0000 of size 2359296 next 87\n",
            "2024-12-07 01:47:43.351988: I external/local_xla/xla/tsl/framework/bfc_allocator.cc:1109] InUse at 507000000 of size 2359296 next 89\n",
            "2024-12-07 01:47:43.351992: I external/local_xla/xla/tsl/framework/bfc_allocator.cc:1109] InUse at 507240000 of size 2359296 next 63\n",
            "2024-12-07 01:47:43.351998: I external/local_xla/xla/tsl/framework/bfc_allocator.cc:1109] InUse at 507480000 of size 9437184 next 64\n",
            "2024-12-07 01:47:43.352002: I external/local_xla/xla/tsl/framework/bfc_allocator.cc:1109] InUse at 507d80000 of size 2359296 next 69\n",
            "2024-12-07 01:47:43.352006: I external/local_xla/xla/tsl/framework/bfc_allocator.cc:1109] InUse at 507fc0000 of size 2359296 next 80\n",
            "2024-12-07 01:47:43.352011: I external/local_xla/xla/tsl/framework/bfc_allocator.cc:1109] InUse at 508200000 of size 2359296 next 98\n",
            "2024-12-07 01:47:43.352015: I external/local_xla/xla/tsl/framework/bfc_allocator.cc:1109] InUse at 5084\n",
            "40000 of size 2359296 next 99\n",
            "2024-12-07 01:47:43.352019: I external/local_xla/xla/tsl/framework/bfc_allocator.cc:1109] InUse at 508680000 of size 2359296 next 100\n",
            "2024-12-07 01:47:43.352024: I external/local_xla/xla/tsl/framework/bfc_allocator.cc:1109] InUse at 5088c0000 of size 2359296 next 112\n",
            "2024-12-07 01:47:43.352028: I external/local_xla/xla/tsl/framework/bfc_allocator.cc:1109] InUse at 508b00000 of size 2359296 next 177\n",
            "2024-12-07 01:47:43.352032: I external/local_xla/xla/tsl/framework/bfc_allocator.cc:1109] InUse at 508d40000 of size 2359296 next 79\n",
            "2024-12-07 01:47:43.352038: I external/local_xla/xla/tsl/framework/bfc_allocator.cc:1109] InUse at 508f80000 of size 13107200 next 18446744073709551615\n",
            "2024-12-07 01:47:43.352047: I external/local_xla/xla/tsl/framework/bfc_allocator.cc:1089] Next region of size 134217728\n",
            "2024-12-07 01:47:43.352052: I external/local_xla/xla/tsl/framework/bfc_allocator.cc:1109] InUse at 509e00000 of size 9437184 next 81\n",
            "2024-12-07 01:47:43.352060: I external/local_xla/xla/tsl/framework/bfc_allocator.cc:1109] InUse at 50a700000 of size 2359296 next 117\n",
            "2024-12-07 01:47:43.352068: I external/local_xla/xla/tsl/framework/bfc_allocator.cc:1109] InUse at 50a940000 of size 2359296 next 119\n",
            "2024-12-07 01:47:43.352072: I external/local_xla/xla/tsl/framework/bfc_allocator.cc:1109] InUse at 50ab80000 of size 2359296 next 121\n",
            "2024-12-07 01:47:43.352077: I external/local_xla/xla/tsl/framework/bfc_allocator.cc:1109] InUse at 50adc0000 of size 2359296 next 94\n",
            "2024-12-07 01:47:43.352081: I external/local_xla/xla/tsl/framework/bfc_allocator.cc:1109] InUse at 50b000000 of size 9437184 next 95\n",
            "2024-12-07 01:47:43.352086: I external/local_xla/xla/tsl/framework/bfc_allocator.cc:1109] InUse at 50b900000 of size 9437184 next 97\n",
            "2024-12-07 01:47:43.352091: I external/local_xla/xla/tsl/framework/bfc_allocator.cc:1109] InUse at 50c200000 of size 2359296 next 133\n",
            "2024-12-07 01:47:43.352099: I external/local_xla/xla/tsl/framework/bfc_allocator.cc:1109] InUse at 50c440000 of size 2359296 next 135\n",
            "2024-12-07 01:47:43.352106: I external/local_xla/xla/tsl/framework/bfc_allocator.cc:1109] InUse at 50c680000 of size 2359296 next 137\n",
            "2024-12-07 01:47:43.352110: I external/local_xla/xla/tsl/framework/bfc_allocator.cc:1109] InUse at 50c8c0000 of size 2359296 next 110\n",
            "2024-12-07 01:47:43.352115: I external/local_xla/xla/tsl/framework/bfc_allocator.cc:1109] InUse at 50cb00000 of size 9437184 next 111\n",
            "2024-12-07 01:47:43.352142: I external/local_xla/xla/tsl/framework/bfc_allocator.cc:1109] InUse at 50d400000 of size 9437184 next 113\n",
            "2024-12-07 01:47:43.352150: I external/local_xla/xla/tsl/framework/bfc_allocator.cc:1109] InUse at 50dd00000 of size 2359296 next 149\n",
            "2024-12-07 01:47:43.352155: I external/local_xla/xla/tsl/framework/bfc_allocator.cc:1109] InUse at 50df40000 of size 2359296 next 151\n",
            "2024-12-07 01:47:43.352159: I external/local_xla/xla/tsl/framework/bfc_allocator.cc:1109] InUse at 50e180000 of size 2359296 next 153\n",
            "2024-12-07 01:47:43.352164: I external/local_xla/xla/tsl/framework/bfc_allocator.cc:1109] InUse at 50e3c0000 of size 2359296 next 126\n",
            "2024-12-07 01:47:43.352168: I external/local_xla/xla/tsl/framework/bfc_allocator.cc:1109] InUse at 50e600000 of size 9437184 next 127\n",
            "2024-12-07 01:47:43.352173: I external/local_xla/xla/tsl/framework/bfc_allocator.cc:1109] InUse at 50ef00000 of size 9437184 next 129\n",
            "2024-12-07 01:47:43.352178: I external/local_xla/xla/tsl/framework/bfc_allocator.cc:1109] InUse at 50f800000 of size 2359296 next 164\n",
            "2024-12-07 01:47:43.352182: I external/local_xla/xla/tsl/framework/bfc_allocator.cc:1109] InUse at 50fa40000 of size 2359296 next 166\n",
            "2024-12-07 01:47:43.352186: I external/local_xla/xla/tsl/framework/bfc_allocator.cc:1109] InUse at 50fc80000 of size 2359296 next 168\n",
            "2024-12-07 01:47:43.352190: I external/local_xla/xla/tsl/framework/bfc_allocator.cc:1109] InUse at 50fec0000 of size 2359296 next 142\n",
            "2024-12-07 01:47:43.352195: I external/local_xla/xla/tsl/framework/bfc_allocator.cc:1109] InUse at 510100000 of size 9437184 next 143\n",
            "2024-12-07 01:47:43.352199: I external/local_xla/xla/tsl/framework/bfc_allocator.cc:1109] InUse at 510a00000 of size 9437184 next 145\n",
            "2024-12-07 01:47:43.352204: I external/local_xla/xla/tsl/framework/bfc_allocator.cc:1109] InUse at 511300000 of size 11534336 next 18446744073709551615\n",
            "2024-12-07 01:47:43.352209: I external/local_xla/xla/tsl/framework/bfc_allocator.cc:1089] Next region of size 268435456\n",
            "2024-12-07 01:47:43.352213: I external/local_xla/xla/tsl/framework/bfc_allocator.cc:1109] InUse at 511e00000 of size 37748736 next 240\n",
            "2024-12-07 01:47:43.352220: I external/local_xla/xla/tsl/framework/bfc_allocator.cc:1109] InUse at 514200000 of size 37748736 next 239\n",
            "2024-12-07 01:47:43.352230: I external/local_xla/xla/tsl/framework/bfc_allocator.cc:1109] Free  at 516600000 of size 46577664 next 173\n",
            "2024-12-07 01:47:43.352235: I external/local_xla/xla/tsl/framework/bfc_allocator.cc:1109] InUse at 51926b800 of size 9437184 next 174\n",
            "2024-12-07 01:47:43.352239: I external/local_xla/xla/tsl/framework/bfc_allocator.cc:1109] Free  at 519b6b800 of size 9437184 next 201\n",
            "2024-12-07 01:47:43.352244: I external/local_xla/xla/tsl/framework/bfc_allocator.cc:1109] InUse at 51a46b800 of size 9437184 next 189\n",
            "2024-12-07 01:47:43.352249: I external/local_xla/xla/tsl/framework/bfc_allocator.cc:1109] InUse at 51ad6b800 of size 9437184 next 190\n",
            "2024-12-07 01:47:43.352253: I external/local_xla/xla/tsl/framework/bfc_allocator.cc:1109] InUse at 51b66b800 of size 2359296 next 195\n",
            "2024-12-07 01:47:43.352257: I external/local_xla/xla/tsl/framework/bfc_allocator.cc:1109] InUse at 51b8ab800 of size 2359296 next 207\n",
            "2024-12-07 01:47:43.352266: I external/local_xla/xla/tsl/framework/bfc_allocator.cc:1109] Free  at 51baeb800 of size 7077888 next 212\n",
            "2024-12-07 01:47:43.352273: I external/local_xla/xla/tsl/framework/bfc_allocator.cc:1109] InUse at 51c1ab800 of size 2359296 next 27\n",
            "2024-12-07 01:47:43.352278: I external/local_xla/xla/tsl/framework/bfc_allocator.cc:1109] InUse at 51c3eb800 of size 2359296 next 67\n",
            "2024-12-07 01:47:43.352282: I external/local_xla/xla/tsl/framework/bfc_allocator.cc:1109] InUse at 51c62b800 of size 2359296 next 205\n",
            "2024-12-07 01:47:43.352286: I external/local_xla/xla/tsl/framework/bfc_allocator.cc:1109] InUse at 51c86b800 of size 9437184 next 206\n",
            "2024-12-07 01:47:43.352291: I external/local_xla/xla/tsl/framework/bfc_allocator.cc:1109] Free  at 51d16b800 of size 9437184 next 208\n",
            "2024-12-07 01:47:43.352295: I external/local_xla/xla/tsl/framework/bfc_allocator.cc:1109] InUse at 51da6b800 of size 9437184 next 13\n",
            "2024-12-07 01:47:43.352300: I external/local_xla/xla/tsl/framework/bfc_allocator.cc:1109] InUse at 51e36b800 of size 9437184 next 10\n",
            "2024-12-07 01:47:43.352305: I external/local_xla/xla/tsl/framework/bfc_allocator.cc:1109] InUse at 51ec6b800 of size 9437184 next 169\n",
            "2024-12-07 01:47:43.352309: I external/local_xla/xla/tsl/framework/bfc_allocator.cc:1109] InUse at 51f56b800 of size 9437184 next 185\n",
            "2024-12-07 01:47:43.352314: I external/local_xla/xla/tsl/framework/bfc_allocator.cc:1109] InUse at 51fe6b800 of size 33114112 next 18446744073709551615\n",
            "2024-12-07 01:47:43.352319: I external/local_xla/xla/tsl/framework/bfc_allocator.cc:1089] Next region of size 536870912\n",
            "2024-12-07 01:47:43.352324: I external/local_xla/xla/tsl/framework/bfc_allocator.cc:1109] InUse at 521e00000 of size 93763584 next 213\n",
            "2024-12-07 01:47:43.352329: I external/local_xla/xla/tsl/framework/bfc_allocator.cc:1109] InUse at 52776b800 of size 150994944 next 241\n",
            "2024-12-07 01:47:43.352333: I external/local_xla/xla/tsl/framework/bfc_allocator.cc:1109] InUse at 53076b800 of size 150994944 next 219\n",
            "2024-12-07 01:47:43.352338: I external/local_xla/xla/tsl/framework/bfc_allocator.cc:1109] Free  at 53976b800 of size 141117440 next 18446744073709551615\n",
            "2024-12-07 01:47:43.352343: I external/local_xla/xla/tsl/framework/bfc_allocator.cc:1089] Next region of size 407892224\n",
            "2024-12-07 01:47:43.352347: I external/local_xla/xla/tsl/framework/bfc_allocator.cc:1109] InUse at 542800000 of size 37748736 next 233\n",
            "2024-12-07 01:47:43.352352: I external/local_xla/xla/tsl/framework/bfc_allocator.cc:1109] InUse at 544c00000 of size 37748736 next 209\n",
            "2024-12-07 01:47:43.352357: I external/local_xla/xla/tsl/framework/bfc_allocator.cc:1109] InUse at 547000000 of size 37748736 next 242\n",
            "2024-12-07 01:47:43.352361: I external/local_xla/xla/tsl/framework/bfc_allocator.cc:1109] InUse at 549400000 of size 150994944 next 217\n",
            "2024-12-07 01:47:43.352366: I external/local_xla/xla/tsl/framework/bfc_allocator.cc:1109] Free  at 552400000 of size 143651072 next 18446744073709551615\n",
            "2024-12-07 01:47:43.352371: I external/local_xla/xla/tsl/framework/bfc_allocator.cc:1114]      Summary of in-use Chunks by size: \n",
            "2024-12-07 01:47:43.352379: I external/local_xla/xla/tsl/framework/bfc_allocator.cc:1117] 12 Chunks of size 256 totalling 3.0KiB\n",
            "2024-12-07 01:47:43.352384: I external/local_xla/xla/tsl/framework/bfc_allocator.cc:1117] 1 Chunks of size 1280 totalling 1.2KiB\n",
            "2024-12-07 01:47:43.352390: I external/local_xla/xla/tsl/framework/bfc_allocator.cc:1117] 111 Chunks of size 3072 totalling 333.0KiB\n",
            "2024-12-07 01:47:43.352395: I external/local_xla/xla/tsl/framework/bfc_allocator.cc:1117] 1 Chunks of size 6144 totalling 6.0KiB\n",
            "2024-12-07 01:47:43.352401: I external/local_xla/xla/tsl/framework/bfc_allocator.cc:1117] 11 Chunks of size 12288 totalling 132.0KiB\n",
            "2024-12-07 01:47:43.352406: I external/local_xla/xla/tsl/framework/bfc_allocator.cc:1117] 1 Chunks of size 15360 totalling 15.0KiB\n",
            "2024-12-07 01:47:43.352411: I external/local_xla/xla/tsl/framework/bfc_allocator.cc:1117] 2 Chunks of size 49152 totalling 96.0KiB\n",
            "2024-12-07 01:47:43.352416: I external/local_xla/xla/tsl/framework/bfc_allocator.cc:1117] 1 Chunks of size 81920 totalling 80.0KiB\n",
            "2024-12-07 01:47:43.352422: I external/local_xla/xla/tsl/framework/bfc_allocator.cc:1117] 2 Chunks of size 98304 totalling 192.0KiB\n",
            "2024-12-07 01:47:43.352427: I external/local_xla/xla/tsl/framework/bfc_allocator.cc:1117] 1 Chunks of size 2082304 totalling 1.99MiB\n",
            "2024-12-07 01:47:43.352432: I external/local_xla/xla/tsl/framework/bfc_allocator.cc:1117] 48 Chunks of size 2359296 totalling 108.00MiB\n",
            "2024-12-07 01:47:43.352437: I external/local_xla/xla/tsl/framework/bfc_allocator.cc:1117] 1 Chunks of size 2663424 totalling 2.54MiB\n",
            "2024-12-07 01:47:43.352442: I external/local_xla/xla/tsl/framework/bfc_allocator.cc:1117] 21 Chunks of size 9437184 totalling 189.00MiB\n",
            "2024-12-07 01:47:43.352447: I external/local_xla/xla/tsl/framework/bfc_allocator.cc:1117] 1 Chunks of size 11534336 totalling 11.00MiB\n",
            "2024-12-07 01:47:43.352452: I external/local_xla/xla/tsl/framework/bfc_allocator.cc:1117] 1 Chunks of size 11793408 totalling 11.25MiB\n",
            "2024-12-07 01:47:43.352457: I external/local_xla/xla/tsl/framework/bfc_allocator.cc:1117] 1 Chunks of size 13107200 totalling 12.50MiB\n",
            "2024-12-07 01:47:43.352462: I external/local_xla/xla/tsl/framework/bfc_allocator.cc:1117] 1 Chunks of size 33114112 totalling 31.58MiB\n",
            "2024-12-07 01:47:43.352467: I external/local_xla/xla/tsl/framework/bfc_allocator.cc:1117] 5 Chunks of size 37748736 totalling 180.00MiB\n",
            "2024-12-07 01:47:43.352472: I external/local_xla/xla/tsl/framework/bfc_allocator.cc:1117] 1 Chunks of size 93763584 totalling 89.42MiB\n",
            "2024-12-07 01:47:43.352477: I external/local_xla/xla/tsl/framework/bfc_allocator.cc:1117] 3 Chunks of size 150994944 totalling 432.00MiB\n",
            "2024-12-07 01:47:43.352483: I external/local_xla/xla/tsl/framework/bfc_allocator.cc:1121] Sum Total of in-use chunks: 1.04GiB\n",
            "2024-12-07 01:47:43.352487: I external/local_xla/xla/tsl/framework/bfc_allocator.cc:1123] Total bytes in pool: 1483731200 memory_limit_: 1483731355 available bytes: 155 curr_region_allocation_bytes_: 2147483648\n",
            "2024-12-07 01:47:43.352495: I external/local_xla/xla/tsl/framework/bfc_allocator.cc:1128] Stats: \n",
            "Limit:                      1483731355\n",
            "InUse:                      1122092800\n",
            "MaxInUse:                   1286506240\n",
            "NumAllocs:                     1002981\n",
            "MaxAllocSize:                200146944\n",
            "Reserved:                            0\n",
            "PeakReserved:                        0\n",
            "LargestFreeBlock:                    0\n",
            "\n",
            "2024-12-07 01:47:43.352506: W external/local_xla/xla/tsl/framework/bfc_allocator.cc:508] ************************__*************************************_________*******************_________\n",
            "2024-12-07 01:47:43.352530: W tensorflow/core/framework/op_kernel.cc:1841] OP_REQUIRES failed at softmax_op_gpu.cu.cc:200 : RESOURCE_EXHAUSTED: OOM when allocating tensor with shape[48,12,256,256] and type float on /job:localhost/replica:0/task:0/device:GPU:0 by allocator GPU_0_bfc\n",
            "2024-12-07 01:47:43.352550: I tensorflow/core/framework/local_rendezvous.cc:405] Local rendezvous is aborting with status: RESOURCE_EXHAUSTED: OOM when allocating tensor with shape[48,12,256,256] and type float on /job:localhost/replica:0/task:0/device:GPU:0 by allocator GPU_0_bfc\n"
          ]
        },
        {
          "ename": "ResourceExhaustedError",
          "evalue": "Exception encountered when calling layer 'self' (type TFBertSelfAttention).\n\n{{function_node __wrapped__Softmax_device_/job:localhost/replica:0/task:0/device:GPU:0}} OOM when allocating tensor with shape[48,12,256,256] and type float on /job:localhost/replica:0/task:0/device:GPU:0 by allocator GPU_0_bfc [Op:Softmax] name: \n\nCall arguments received by layer 'self' (type TFBertSelfAttention):\n  • hidden_states=tf.Tensor(shape=(48, 256, 768), dtype=float32)\n  • attention_mask=tf.Tensor(shape=(48, 1, 1, 256), dtype=float32)\n  • head_mask=None\n  • encoder_hidden_states=None\n  • encoder_attention_mask=None\n  • past_key_value=None\n  • output_attentions=False\n  • training=False",
          "output_type": "error",
          "traceback": [
            "\u001b[0;31m---------------------------------------------------------------------------\u001b[0m",
            "\u001b[0;31mResourceExhaustedError\u001b[0m                    Traceback (most recent call last)",
            "Cell \u001b[0;32mIn[15], line 9\u001b[0m\n\u001b[1;32m      5\u001b[0m batch \u001b[38;5;241m=\u001b[39m X[i \u001b[38;5;241m*\u001b[39m BATCH_SIZE: (i \u001b[38;5;241m+\u001b[39m \u001b[38;5;241m1\u001b[39m) \u001b[38;5;241m*\u001b[39m BATCH_SIZE] \u001b[38;5;28;01mif\u001b[39;00m i \u001b[38;5;241m<\u001b[39m ALL_BATCHES \u001b[38;5;241m-\u001b[39m \u001b[38;5;241m1\u001b[39m \u001b[38;5;28;01melse\u001b[39;00m X[i \u001b[38;5;241m*\u001b[39m BATCH_SIZE:]\n\u001b[1;32m      7\u001b[0m tokenized_inputs \u001b[38;5;241m=\u001b[39m preprocess_texts(batch\u001b[38;5;241m.\u001b[39mtolist())\n\u001b[0;32m----> 9\u001b[0m outputs \u001b[38;5;241m=\u001b[39m \u001b[43mbackbone\u001b[49m\u001b[43m(\u001b[49m\n\u001b[1;32m     10\u001b[0m \u001b[43m    \u001b[49m\u001b[43minput_ids\u001b[49m\u001b[38;5;241;43m=\u001b[39;49m\u001b[43mtokenized_inputs\u001b[49m\u001b[43m[\u001b[49m\u001b[38;5;124;43m'\u001b[39;49m\u001b[38;5;124;43minput_ids\u001b[39;49m\u001b[38;5;124;43m'\u001b[39;49m\u001b[43m]\u001b[49m\u001b[43m,\u001b[49m\n\u001b[1;32m     11\u001b[0m \u001b[43m    \u001b[49m\u001b[43mattention_mask\u001b[49m\u001b[38;5;241;43m=\u001b[39;49m\u001b[43mtokenized_inputs\u001b[49m\u001b[43m[\u001b[49m\u001b[38;5;124;43m'\u001b[39;49m\u001b[38;5;124;43mattention_mask\u001b[39;49m\u001b[38;5;124;43m'\u001b[39;49m\u001b[43m]\u001b[49m\n\u001b[1;32m     12\u001b[0m \u001b[43m\u001b[49m\u001b[43m)\u001b[49m\n\u001b[1;32m     14\u001b[0m cls_embeddings \u001b[38;5;241m=\u001b[39m outputs\u001b[38;5;241m.\u001b[39mlast_hidden_state[:, \u001b[38;5;241m0\u001b[39m, :]  \u001b[38;5;66;03m# Признаки токена [CLS]\u001b[39;00m\n\u001b[1;32m     16\u001b[0m dset\u001b[38;5;241m.\u001b[39mresize((dset\u001b[38;5;241m.\u001b[39mshape[\u001b[38;5;241m0\u001b[39m] \u001b[38;5;241m+\u001b[39m cls_embeddings\u001b[38;5;241m.\u001b[39mshape[\u001b[38;5;241m0\u001b[39m]), axis\u001b[38;5;241m=\u001b[39m\u001b[38;5;241m0\u001b[39m)\n",
            "File \u001b[0;32m~/miniconda3/envs/tf-3/lib/python3.10/site-packages/tf_keras/src/utils/traceback_utils.py:70\u001b[0m, in \u001b[0;36mfilter_traceback.<locals>.error_handler\u001b[0;34m(*args, **kwargs)\u001b[0m\n\u001b[1;32m     67\u001b[0m     filtered_tb \u001b[38;5;241m=\u001b[39m _process_traceback_frames(e\u001b[38;5;241m.\u001b[39m__traceback__)\n\u001b[1;32m     68\u001b[0m     \u001b[38;5;66;03m# To get the full stack trace, call:\u001b[39;00m\n\u001b[1;32m     69\u001b[0m     \u001b[38;5;66;03m# `tf.debugging.disable_traceback_filtering()`\u001b[39;00m\n\u001b[0;32m---> 70\u001b[0m     \u001b[38;5;28;01mraise\u001b[39;00m e\u001b[38;5;241m.\u001b[39mwith_traceback(filtered_tb) \u001b[38;5;28;01mfrom\u001b[39;00m \u001b[38;5;28;01mNone\u001b[39;00m\n\u001b[1;32m     71\u001b[0m \u001b[38;5;28;01mfinally\u001b[39;00m:\n\u001b[1;32m     72\u001b[0m     \u001b[38;5;28;01mdel\u001b[39;00m filtered_tb\n",
            "File \u001b[0;32m~/miniconda3/envs/tf-3/lib/python3.10/site-packages/transformers/modeling_tf_utils.py:437\u001b[0m, in \u001b[0;36munpack_inputs.<locals>.run_call_with_unpacked_inputs\u001b[0;34m(self, *args, **kwargs)\u001b[0m\n\u001b[1;32m    434\u001b[0m     config \u001b[38;5;241m=\u001b[39m \u001b[38;5;28mself\u001b[39m\u001b[38;5;241m.\u001b[39mconfig\n\u001b[1;32m    436\u001b[0m unpacked_inputs \u001b[38;5;241m=\u001b[39m input_processing(func, config, \u001b[38;5;241m*\u001b[39m\u001b[38;5;241m*\u001b[39mfn_args_and_kwargs)\n\u001b[0;32m--> 437\u001b[0m \u001b[38;5;28;01mreturn\u001b[39;00m \u001b[43mfunc\u001b[49m\u001b[43m(\u001b[49m\u001b[38;5;28;43mself\u001b[39;49m\u001b[43m,\u001b[49m\u001b[43m \u001b[49m\u001b[38;5;241;43m*\u001b[39;49m\u001b[38;5;241;43m*\u001b[39;49m\u001b[43munpacked_inputs\u001b[49m\u001b[43m)\u001b[49m\n",
            "File \u001b[0;32m~/miniconda3/envs/tf-3/lib/python3.10/site-packages/transformers/models/bert/modeling_tf_bert.py:1209\u001b[0m, in \u001b[0;36mTFBertModel.call\u001b[0;34m(self, input_ids, attention_mask, token_type_ids, position_ids, head_mask, inputs_embeds, encoder_hidden_states, encoder_attention_mask, past_key_values, use_cache, output_attentions, output_hidden_states, return_dict, training)\u001b[0m\n\u001b[1;32m   1165\u001b[0m \u001b[38;5;129m@unpack_inputs\u001b[39m\n\u001b[1;32m   1166\u001b[0m \u001b[38;5;129m@add_start_docstrings_to_model_forward\u001b[39m(BERT_INPUTS_DOCSTRING\u001b[38;5;241m.\u001b[39mformat(\u001b[38;5;124m\"\u001b[39m\u001b[38;5;124mbatch_size, sequence_length\u001b[39m\u001b[38;5;124m\"\u001b[39m))\n\u001b[1;32m   1167\u001b[0m \u001b[38;5;129m@add_code_sample_docstrings\u001b[39m(\n\u001b[0;32m   (...)\u001b[0m\n\u001b[1;32m   1187\u001b[0m     training: Optional[\u001b[38;5;28mbool\u001b[39m] \u001b[38;5;241m=\u001b[39m \u001b[38;5;28;01mFalse\u001b[39;00m,\n\u001b[1;32m   1188\u001b[0m ) \u001b[38;5;241m-\u001b[39m\u001b[38;5;241m>\u001b[39m Union[TFBaseModelOutputWithPoolingAndCrossAttentions, Tuple[tf\u001b[38;5;241m.\u001b[39mTensor]]:\n\u001b[1;32m   1189\u001b[0m \u001b[38;5;250m    \u001b[39m\u001b[38;5;124mr\u001b[39m\u001b[38;5;124;03m\"\"\"\u001b[39;00m\n\u001b[1;32m   1190\u001b[0m \u001b[38;5;124;03m    encoder_hidden_states  (`tf.Tensor` of shape `(batch_size, sequence_length, hidden_size)`, *optional*):\u001b[39;00m\n\u001b[1;32m   1191\u001b[0m \u001b[38;5;124;03m        Sequence of hidden-states at the output of the last layer of the encoder. Used in the cross-attention if\u001b[39;00m\n\u001b[0;32m   (...)\u001b[0m\n\u001b[1;32m   1207\u001b[0m \u001b[38;5;124;03m        `past_key_values`). Set to `False` during training, `True` during generation\u001b[39;00m\n\u001b[1;32m   1208\u001b[0m \u001b[38;5;124;03m    \"\"\"\u001b[39;00m\n\u001b[0;32m-> 1209\u001b[0m     outputs \u001b[38;5;241m=\u001b[39m \u001b[38;5;28;43mself\u001b[39;49m\u001b[38;5;241;43m.\u001b[39;49m\u001b[43mbert\u001b[49m\u001b[43m(\u001b[49m\n\u001b[1;32m   1210\u001b[0m \u001b[43m        \u001b[49m\u001b[43minput_ids\u001b[49m\u001b[38;5;241;43m=\u001b[39;49m\u001b[43minput_ids\u001b[49m\u001b[43m,\u001b[49m\n\u001b[1;32m   1211\u001b[0m \u001b[43m        \u001b[49m\u001b[43mattention_mask\u001b[49m\u001b[38;5;241;43m=\u001b[39;49m\u001b[43mattention_mask\u001b[49m\u001b[43m,\u001b[49m\n\u001b[1;32m   1212\u001b[0m \u001b[43m        \u001b[49m\u001b[43mtoken_type_ids\u001b[49m\u001b[38;5;241;43m=\u001b[39;49m\u001b[43mtoken_type_ids\u001b[49m\u001b[43m,\u001b[49m\n\u001b[1;32m   1213\u001b[0m \u001b[43m        \u001b[49m\u001b[43mposition_ids\u001b[49m\u001b[38;5;241;43m=\u001b[39;49m\u001b[43mposition_ids\u001b[49m\u001b[43m,\u001b[49m\n\u001b[1;32m   1214\u001b[0m \u001b[43m        \u001b[49m\u001b[43mhead_mask\u001b[49m\u001b[38;5;241;43m=\u001b[39;49m\u001b[43mhead_mask\u001b[49m\u001b[43m,\u001b[49m\n\u001b[1;32m   1215\u001b[0m \u001b[43m        \u001b[49m\u001b[43minputs_embeds\u001b[49m\u001b[38;5;241;43m=\u001b[39;49m\u001b[43minputs_embeds\u001b[49m\u001b[43m,\u001b[49m\n\u001b[1;32m   1216\u001b[0m \u001b[43m        \u001b[49m\u001b[43mencoder_hidden_states\u001b[49m\u001b[38;5;241;43m=\u001b[39;49m\u001b[43mencoder_hidden_states\u001b[49m\u001b[43m,\u001b[49m\n\u001b[1;32m   1217\u001b[0m \u001b[43m        \u001b[49m\u001b[43mencoder_attention_mask\u001b[49m\u001b[38;5;241;43m=\u001b[39;49m\u001b[43mencoder_attention_mask\u001b[49m\u001b[43m,\u001b[49m\n\u001b[1;32m   1218\u001b[0m \u001b[43m        \u001b[49m\u001b[43mpast_key_values\u001b[49m\u001b[38;5;241;43m=\u001b[39;49m\u001b[43mpast_key_values\u001b[49m\u001b[43m,\u001b[49m\n\u001b[1;32m   1219\u001b[0m \u001b[43m        \u001b[49m\u001b[43muse_cache\u001b[49m\u001b[38;5;241;43m=\u001b[39;49m\u001b[43muse_cache\u001b[49m\u001b[43m,\u001b[49m\n\u001b[1;32m   1220\u001b[0m \u001b[43m        \u001b[49m\u001b[43moutput_attentions\u001b[49m\u001b[38;5;241;43m=\u001b[39;49m\u001b[43moutput_attentions\u001b[49m\u001b[43m,\u001b[49m\n\u001b[1;32m   1221\u001b[0m \u001b[43m        \u001b[49m\u001b[43moutput_hidden_states\u001b[49m\u001b[38;5;241;43m=\u001b[39;49m\u001b[43moutput_hidden_states\u001b[49m\u001b[43m,\u001b[49m\n\u001b[1;32m   1222\u001b[0m \u001b[43m        \u001b[49m\u001b[43mreturn_dict\u001b[49m\u001b[38;5;241;43m=\u001b[39;49m\u001b[43mreturn_dict\u001b[49m\u001b[43m,\u001b[49m\n\u001b[1;32m   1223\u001b[0m \u001b[43m        \u001b[49m\u001b[43mtraining\u001b[49m\u001b[38;5;241;43m=\u001b[39;49m\u001b[43mtraining\u001b[49m\u001b[43m,\u001b[49m\n\u001b[1;32m   1224\u001b[0m \u001b[43m    \u001b[49m\u001b[43m)\u001b[49m\n\u001b[1;32m   1225\u001b[0m     \u001b[38;5;28;01mreturn\u001b[39;00m outputs\n",
            "File \u001b[0;32m~/miniconda3/envs/tf-3/lib/python3.10/site-packages/transformers/modeling_tf_utils.py:437\u001b[0m, in \u001b[0;36munpack_inputs.<locals>.run_call_with_unpacked_inputs\u001b[0;34m(self, *args, **kwargs)\u001b[0m\n\u001b[1;32m    434\u001b[0m     config \u001b[38;5;241m=\u001b[39m \u001b[38;5;28mself\u001b[39m\u001b[38;5;241m.\u001b[39mconfig\n\u001b[1;32m    436\u001b[0m unpacked_inputs \u001b[38;5;241m=\u001b[39m input_processing(func, config, \u001b[38;5;241m*\u001b[39m\u001b[38;5;241m*\u001b[39mfn_args_and_kwargs)\n\u001b[0;32m--> 437\u001b[0m \u001b[38;5;28;01mreturn\u001b[39;00m \u001b[43mfunc\u001b[49m\u001b[43m(\u001b[49m\u001b[38;5;28;43mself\u001b[39;49m\u001b[43m,\u001b[49m\u001b[43m \u001b[49m\u001b[38;5;241;43m*\u001b[39;49m\u001b[38;5;241;43m*\u001b[39;49m\u001b[43munpacked_inputs\u001b[49m\u001b[43m)\u001b[49m\n",
            "File \u001b[0;32m~/miniconda3/envs/tf-3/lib/python3.10/site-packages/transformers/models/bert/modeling_tf_bert.py:969\u001b[0m, in \u001b[0;36mTFBertMainLayer.call\u001b[0;34m(self, input_ids, attention_mask, token_type_ids, position_ids, head_mask, inputs_embeds, encoder_hidden_states, encoder_attention_mask, past_key_values, use_cache, output_attentions, output_hidden_states, return_dict, training)\u001b[0m\n\u001b[1;32m    966\u001b[0m \u001b[38;5;28;01melse\u001b[39;00m:\n\u001b[1;32m    967\u001b[0m     head_mask \u001b[38;5;241m=\u001b[39m [\u001b[38;5;28;01mNone\u001b[39;00m] \u001b[38;5;241m*\u001b[39m \u001b[38;5;28mself\u001b[39m\u001b[38;5;241m.\u001b[39mconfig\u001b[38;5;241m.\u001b[39mnum_hidden_layers\n\u001b[0;32m--> 969\u001b[0m encoder_outputs \u001b[38;5;241m=\u001b[39m \u001b[38;5;28;43mself\u001b[39;49m\u001b[38;5;241;43m.\u001b[39;49m\u001b[43mencoder\u001b[49m\u001b[43m(\u001b[49m\n\u001b[1;32m    970\u001b[0m \u001b[43m    \u001b[49m\u001b[43mhidden_states\u001b[49m\u001b[38;5;241;43m=\u001b[39;49m\u001b[43membedding_output\u001b[49m\u001b[43m,\u001b[49m\n\u001b[1;32m    971\u001b[0m \u001b[43m    \u001b[49m\u001b[43mattention_mask\u001b[49m\u001b[38;5;241;43m=\u001b[39;49m\u001b[43mextended_attention_mask\u001b[49m\u001b[43m,\u001b[49m\n\u001b[1;32m    972\u001b[0m \u001b[43m    \u001b[49m\u001b[43mhead_mask\u001b[49m\u001b[38;5;241;43m=\u001b[39;49m\u001b[43mhead_mask\u001b[49m\u001b[43m,\u001b[49m\n\u001b[1;32m    973\u001b[0m \u001b[43m    \u001b[49m\u001b[43mencoder_hidden_states\u001b[49m\u001b[38;5;241;43m=\u001b[39;49m\u001b[43mencoder_hidden_states\u001b[49m\u001b[43m,\u001b[49m\n\u001b[1;32m    974\u001b[0m \u001b[43m    \u001b[49m\u001b[43mencoder_attention_mask\u001b[49m\u001b[38;5;241;43m=\u001b[39;49m\u001b[43mencoder_extended_attention_mask\u001b[49m\u001b[43m,\u001b[49m\n\u001b[1;32m    975\u001b[0m \u001b[43m    \u001b[49m\u001b[43mpast_key_values\u001b[49m\u001b[38;5;241;43m=\u001b[39;49m\u001b[43mpast_key_values\u001b[49m\u001b[43m,\u001b[49m\n\u001b[1;32m    976\u001b[0m \u001b[43m    \u001b[49m\u001b[43muse_cache\u001b[49m\u001b[38;5;241;43m=\u001b[39;49m\u001b[43muse_cache\u001b[49m\u001b[43m,\u001b[49m\n\u001b[1;32m    977\u001b[0m \u001b[43m    \u001b[49m\u001b[43moutput_attentions\u001b[49m\u001b[38;5;241;43m=\u001b[39;49m\u001b[43moutput_attentions\u001b[49m\u001b[43m,\u001b[49m\n\u001b[1;32m    978\u001b[0m \u001b[43m    \u001b[49m\u001b[43moutput_hidden_states\u001b[49m\u001b[38;5;241;43m=\u001b[39;49m\u001b[43moutput_hidden_states\u001b[49m\u001b[43m,\u001b[49m\n\u001b[1;32m    979\u001b[0m \u001b[43m    \u001b[49m\u001b[43mreturn_dict\u001b[49m\u001b[38;5;241;43m=\u001b[39;49m\u001b[43mreturn_dict\u001b[49m\u001b[43m,\u001b[49m\n\u001b[1;32m    980\u001b[0m \u001b[43m    \u001b[49m\u001b[43mtraining\u001b[49m\u001b[38;5;241;43m=\u001b[39;49m\u001b[43mtraining\u001b[49m\u001b[43m,\u001b[49m\n\u001b[1;32m    981\u001b[0m \u001b[43m\u001b[49m\u001b[43m)\u001b[49m\n\u001b[1;32m    983\u001b[0m sequence_output \u001b[38;5;241m=\u001b[39m encoder_outputs[\u001b[38;5;241m0\u001b[39m]\n\u001b[1;32m    984\u001b[0m pooled_output \u001b[38;5;241m=\u001b[39m \u001b[38;5;28mself\u001b[39m\u001b[38;5;241m.\u001b[39mpooler(hidden_states\u001b[38;5;241m=\u001b[39msequence_output) \u001b[38;5;28;01mif\u001b[39;00m \u001b[38;5;28mself\u001b[39m\u001b[38;5;241m.\u001b[39mpooler \u001b[38;5;129;01mis\u001b[39;00m \u001b[38;5;129;01mnot\u001b[39;00m \u001b[38;5;28;01mNone\u001b[39;00m \u001b[38;5;28;01melse\u001b[39;00m \u001b[38;5;28;01mNone\u001b[39;00m\n",
            "File \u001b[0;32m~/miniconda3/envs/tf-3/lib/python3.10/site-packages/transformers/models/bert/modeling_tf_bert.py:609\u001b[0m, in \u001b[0;36mTFBertEncoder.call\u001b[0;34m(self, hidden_states, attention_mask, head_mask, encoder_hidden_states, encoder_attention_mask, past_key_values, use_cache, output_attentions, output_hidden_states, return_dict, training)\u001b[0m\n\u001b[1;32m    605\u001b[0m     all_hidden_states \u001b[38;5;241m=\u001b[39m all_hidden_states \u001b[38;5;241m+\u001b[39m (hidden_states,)\n\u001b[1;32m    607\u001b[0m past_key_value \u001b[38;5;241m=\u001b[39m past_key_values[i] \u001b[38;5;28;01mif\u001b[39;00m past_key_values \u001b[38;5;129;01mis\u001b[39;00m \u001b[38;5;129;01mnot\u001b[39;00m \u001b[38;5;28;01mNone\u001b[39;00m \u001b[38;5;28;01melse\u001b[39;00m \u001b[38;5;28;01mNone\u001b[39;00m\n\u001b[0;32m--> 609\u001b[0m layer_outputs \u001b[38;5;241m=\u001b[39m \u001b[43mlayer_module\u001b[49m\u001b[43m(\u001b[49m\n\u001b[1;32m    610\u001b[0m \u001b[43m    \u001b[49m\u001b[43mhidden_states\u001b[49m\u001b[38;5;241;43m=\u001b[39;49m\u001b[43mhidden_states\u001b[49m\u001b[43m,\u001b[49m\n\u001b[1;32m    611\u001b[0m \u001b[43m    \u001b[49m\u001b[43mattention_mask\u001b[49m\u001b[38;5;241;43m=\u001b[39;49m\u001b[43mattention_mask\u001b[49m\u001b[43m,\u001b[49m\n\u001b[1;32m    612\u001b[0m \u001b[43m    \u001b[49m\u001b[43mhead_mask\u001b[49m\u001b[38;5;241;43m=\u001b[39;49m\u001b[43mhead_mask\u001b[49m\u001b[43m[\u001b[49m\u001b[43mi\u001b[49m\u001b[43m]\u001b[49m\u001b[43m,\u001b[49m\n\u001b[1;32m    613\u001b[0m \u001b[43m    \u001b[49m\u001b[43mencoder_hidden_states\u001b[49m\u001b[38;5;241;43m=\u001b[39;49m\u001b[43mencoder_hidden_states\u001b[49m\u001b[43m,\u001b[49m\n\u001b[1;32m    614\u001b[0m \u001b[43m    \u001b[49m\u001b[43mencoder_attention_mask\u001b[49m\u001b[38;5;241;43m=\u001b[39;49m\u001b[43mencoder_attention_mask\u001b[49m\u001b[43m,\u001b[49m\n\u001b[1;32m    615\u001b[0m \u001b[43m    \u001b[49m\u001b[43mpast_key_value\u001b[49m\u001b[38;5;241;43m=\u001b[39;49m\u001b[43mpast_key_value\u001b[49m\u001b[43m,\u001b[49m\n\u001b[1;32m    616\u001b[0m \u001b[43m    \u001b[49m\u001b[43moutput_attentions\u001b[49m\u001b[38;5;241;43m=\u001b[39;49m\u001b[43moutput_attentions\u001b[49m\u001b[43m,\u001b[49m\n\u001b[1;32m    617\u001b[0m \u001b[43m    \u001b[49m\u001b[43mtraining\u001b[49m\u001b[38;5;241;43m=\u001b[39;49m\u001b[43mtraining\u001b[49m\u001b[43m,\u001b[49m\n\u001b[1;32m    618\u001b[0m \u001b[43m\u001b[49m\u001b[43m)\u001b[49m\n\u001b[1;32m    619\u001b[0m hidden_states \u001b[38;5;241m=\u001b[39m layer_outputs[\u001b[38;5;241m0\u001b[39m]\n\u001b[1;32m    621\u001b[0m \u001b[38;5;28;01mif\u001b[39;00m use_cache:\n",
            "File \u001b[0;32m~/miniconda3/envs/tf-3/lib/python3.10/site-packages/transformers/models/bert/modeling_tf_bert.py:502\u001b[0m, in \u001b[0;36mTFBertLayer.call\u001b[0;34m(self, hidden_states, attention_mask, head_mask, encoder_hidden_states, encoder_attention_mask, past_key_value, output_attentions, training)\u001b[0m\n\u001b[1;32m    489\u001b[0m \u001b[38;5;28;01mdef\u001b[39;00m \u001b[38;5;21mcall\u001b[39m(\n\u001b[1;32m    490\u001b[0m     \u001b[38;5;28mself\u001b[39m,\n\u001b[1;32m    491\u001b[0m     hidden_states: tf\u001b[38;5;241m.\u001b[39mTensor,\n\u001b[0;32m   (...)\u001b[0m\n\u001b[1;32m    499\u001b[0m ) \u001b[38;5;241m-\u001b[39m\u001b[38;5;241m>\u001b[39m Tuple[tf\u001b[38;5;241m.\u001b[39mTensor]:\n\u001b[1;32m    500\u001b[0m     \u001b[38;5;66;03m# decoder uni-directional self-attention cached key/values tuple is at positions 1,2\u001b[39;00m\n\u001b[1;32m    501\u001b[0m     self_attn_past_key_value \u001b[38;5;241m=\u001b[39m past_key_value[:\u001b[38;5;241m2\u001b[39m] \u001b[38;5;28;01mif\u001b[39;00m past_key_value \u001b[38;5;129;01mis\u001b[39;00m \u001b[38;5;129;01mnot\u001b[39;00m \u001b[38;5;28;01mNone\u001b[39;00m \u001b[38;5;28;01melse\u001b[39;00m \u001b[38;5;28;01mNone\u001b[39;00m\n\u001b[0;32m--> 502\u001b[0m     self_attention_outputs \u001b[38;5;241m=\u001b[39m \u001b[38;5;28;43mself\u001b[39;49m\u001b[38;5;241;43m.\u001b[39;49m\u001b[43mattention\u001b[49m\u001b[43m(\u001b[49m\n\u001b[1;32m    503\u001b[0m \u001b[43m        \u001b[49m\u001b[43minput_tensor\u001b[49m\u001b[38;5;241;43m=\u001b[39;49m\u001b[43mhidden_states\u001b[49m\u001b[43m,\u001b[49m\n\u001b[1;32m    504\u001b[0m \u001b[43m        \u001b[49m\u001b[43mattention_mask\u001b[49m\u001b[38;5;241;43m=\u001b[39;49m\u001b[43mattention_mask\u001b[49m\u001b[43m,\u001b[49m\n\u001b[1;32m    505\u001b[0m \u001b[43m        \u001b[49m\u001b[43mhead_mask\u001b[49m\u001b[38;5;241;43m=\u001b[39;49m\u001b[43mhead_mask\u001b[49m\u001b[43m,\u001b[49m\n\u001b[1;32m    506\u001b[0m \u001b[43m        \u001b[49m\u001b[43mencoder_hidden_states\u001b[49m\u001b[38;5;241;43m=\u001b[39;49m\u001b[38;5;28;43;01mNone\u001b[39;49;00m\u001b[43m,\u001b[49m\n\u001b[1;32m    507\u001b[0m \u001b[43m        \u001b[49m\u001b[43mencoder_attention_mask\u001b[49m\u001b[38;5;241;43m=\u001b[39;49m\u001b[38;5;28;43;01mNone\u001b[39;49;00m\u001b[43m,\u001b[49m\n\u001b[1;32m    508\u001b[0m \u001b[43m        \u001b[49m\u001b[43mpast_key_value\u001b[49m\u001b[38;5;241;43m=\u001b[39;49m\u001b[43mself_attn_past_key_value\u001b[49m\u001b[43m,\u001b[49m\n\u001b[1;32m    509\u001b[0m \u001b[43m        \u001b[49m\u001b[43moutput_attentions\u001b[49m\u001b[38;5;241;43m=\u001b[39;49m\u001b[43moutput_attentions\u001b[49m\u001b[43m,\u001b[49m\n\u001b[1;32m    510\u001b[0m \u001b[43m        \u001b[49m\u001b[43mtraining\u001b[49m\u001b[38;5;241;43m=\u001b[39;49m\u001b[43mtraining\u001b[49m\u001b[43m,\u001b[49m\n\u001b[1;32m    511\u001b[0m \u001b[43m    \u001b[49m\u001b[43m)\u001b[49m\n\u001b[1;32m    512\u001b[0m     attention_output \u001b[38;5;241m=\u001b[39m self_attention_outputs[\u001b[38;5;241m0\u001b[39m]\n\u001b[1;32m    514\u001b[0m     \u001b[38;5;66;03m# if decoder, the last output is tuple of self-attn cache\u001b[39;00m\n",
            "File \u001b[0;32m~/miniconda3/envs/tf-3/lib/python3.10/site-packages/transformers/models/bert/modeling_tf_bert.py:386\u001b[0m, in \u001b[0;36mTFBertAttention.call\u001b[0;34m(self, input_tensor, attention_mask, head_mask, encoder_hidden_states, encoder_attention_mask, past_key_value, output_attentions, training)\u001b[0m\n\u001b[1;32m    375\u001b[0m \u001b[38;5;28;01mdef\u001b[39;00m \u001b[38;5;21mcall\u001b[39m(\n\u001b[1;32m    376\u001b[0m     \u001b[38;5;28mself\u001b[39m,\n\u001b[1;32m    377\u001b[0m     input_tensor: tf\u001b[38;5;241m.\u001b[39mTensor,\n\u001b[0;32m   (...)\u001b[0m\n\u001b[1;32m    384\u001b[0m     training: \u001b[38;5;28mbool\u001b[39m \u001b[38;5;241m=\u001b[39m \u001b[38;5;28;01mFalse\u001b[39;00m,\n\u001b[1;32m    385\u001b[0m ) \u001b[38;5;241m-\u001b[39m\u001b[38;5;241m>\u001b[39m Tuple[tf\u001b[38;5;241m.\u001b[39mTensor]:\n\u001b[0;32m--> 386\u001b[0m     self_outputs \u001b[38;5;241m=\u001b[39m \u001b[38;5;28;43mself\u001b[39;49m\u001b[38;5;241;43m.\u001b[39;49m\u001b[43mself_attention\u001b[49m\u001b[43m(\u001b[49m\n\u001b[1;32m    387\u001b[0m \u001b[43m        \u001b[49m\u001b[43mhidden_states\u001b[49m\u001b[38;5;241;43m=\u001b[39;49m\u001b[43minput_tensor\u001b[49m\u001b[43m,\u001b[49m\n\u001b[1;32m    388\u001b[0m \u001b[43m        \u001b[49m\u001b[43mattention_mask\u001b[49m\u001b[38;5;241;43m=\u001b[39;49m\u001b[43mattention_mask\u001b[49m\u001b[43m,\u001b[49m\n\u001b[1;32m    389\u001b[0m \u001b[43m        \u001b[49m\u001b[43mhead_mask\u001b[49m\u001b[38;5;241;43m=\u001b[39;49m\u001b[43mhead_mask\u001b[49m\u001b[43m,\u001b[49m\n\u001b[1;32m    390\u001b[0m \u001b[43m        \u001b[49m\u001b[43mencoder_hidden_states\u001b[49m\u001b[38;5;241;43m=\u001b[39;49m\u001b[43mencoder_hidden_states\u001b[49m\u001b[43m,\u001b[49m\n\u001b[1;32m    391\u001b[0m \u001b[43m        \u001b[49m\u001b[43mencoder_attention_mask\u001b[49m\u001b[38;5;241;43m=\u001b[39;49m\u001b[43mencoder_attention_mask\u001b[49m\u001b[43m,\u001b[49m\n\u001b[1;32m    392\u001b[0m \u001b[43m        \u001b[49m\u001b[43mpast_key_value\u001b[49m\u001b[38;5;241;43m=\u001b[39;49m\u001b[43mpast_key_value\u001b[49m\u001b[43m,\u001b[49m\n\u001b[1;32m    393\u001b[0m \u001b[43m        \u001b[49m\u001b[43moutput_attentions\u001b[49m\u001b[38;5;241;43m=\u001b[39;49m\u001b[43moutput_attentions\u001b[49m\u001b[43m,\u001b[49m\n\u001b[1;32m    394\u001b[0m \u001b[43m        \u001b[49m\u001b[43mtraining\u001b[49m\u001b[38;5;241;43m=\u001b[39;49m\u001b[43mtraining\u001b[49m\u001b[43m,\u001b[49m\n\u001b[1;32m    395\u001b[0m \u001b[43m    \u001b[49m\u001b[43m)\u001b[49m\n\u001b[1;32m    396\u001b[0m     attention_output \u001b[38;5;241m=\u001b[39m \u001b[38;5;28mself\u001b[39m\u001b[38;5;241m.\u001b[39mdense_output(\n\u001b[1;32m    397\u001b[0m         hidden_states\u001b[38;5;241m=\u001b[39mself_outputs[\u001b[38;5;241m0\u001b[39m], input_tensor\u001b[38;5;241m=\u001b[39minput_tensor, training\u001b[38;5;241m=\u001b[39mtraining\n\u001b[1;32m    398\u001b[0m     )\n\u001b[1;32m    399\u001b[0m     \u001b[38;5;66;03m# add attentions (possibly with past_key_value) if we output them\u001b[39;00m\n",
            "File \u001b[0;32m~/miniconda3/envs/tf-3/lib/python3.10/site-packages/transformers/models/bert/modeling_tf_bert.py:299\u001b[0m, in \u001b[0;36mTFBertSelfAttention.call\u001b[0;34m(self, hidden_states, attention_mask, head_mask, encoder_hidden_states, encoder_attention_mask, past_key_value, output_attentions, training)\u001b[0m\n\u001b[1;32m    296\u001b[0m     attention_scores \u001b[38;5;241m=\u001b[39m tf\u001b[38;5;241m.\u001b[39madd(attention_scores, attention_mask)\n\u001b[1;32m    298\u001b[0m \u001b[38;5;66;03m# Normalize the attention scores to probabilities.\u001b[39;00m\n\u001b[0;32m--> 299\u001b[0m attention_probs \u001b[38;5;241m=\u001b[39m \u001b[43mstable_softmax\u001b[49m\u001b[43m(\u001b[49m\u001b[43mlogits\u001b[49m\u001b[38;5;241;43m=\u001b[39;49m\u001b[43mattention_scores\u001b[49m\u001b[43m,\u001b[49m\u001b[43m \u001b[49m\u001b[43maxis\u001b[49m\u001b[38;5;241;43m=\u001b[39;49m\u001b[38;5;241;43m-\u001b[39;49m\u001b[38;5;241;43m1\u001b[39;49m\u001b[43m)\u001b[49m\n\u001b[1;32m    301\u001b[0m \u001b[38;5;66;03m# This is actually dropping out entire tokens to attend to, which might\u001b[39;00m\n\u001b[1;32m    302\u001b[0m \u001b[38;5;66;03m# seem a bit unusual, but is taken from the original Transformer paper.\u001b[39;00m\n\u001b[1;32m    303\u001b[0m attention_probs \u001b[38;5;241m=\u001b[39m \u001b[38;5;28mself\u001b[39m\u001b[38;5;241m.\u001b[39mdropout(inputs\u001b[38;5;241m=\u001b[39mattention_probs, training\u001b[38;5;241m=\u001b[39mtraining)\n",
            "File \u001b[0;32m~/miniconda3/envs/tf-3/lib/python3.10/site-packages/transformers/tf_utils.py:72\u001b[0m, in \u001b[0;36mstable_softmax\u001b[0;34m(logits, axis, name)\u001b[0m\n\u001b[1;32m     52\u001b[0m \u001b[38;5;250m\u001b[39m\u001b[38;5;124;03m\"\"\"\u001b[39;00m\n\u001b[1;32m     53\u001b[0m \u001b[38;5;124;03mStable wrapper that returns the same output as `tf.nn.softmax`, but that works reliably with XLA on CPU. It is\u001b[39;00m\n\u001b[1;32m     54\u001b[0m \u001b[38;5;124;03mmeant as a workaround for the [following issue](https://github.com/tensorflow/tensorflow/issues/55682), and will be\u001b[39;00m\n\u001b[0;32m   (...)\u001b[0m\n\u001b[1;32m     68\u001b[0m \u001b[38;5;124;03m        A Tensor. Has the same type and shape as logits.\u001b[39;00m\n\u001b[1;32m     69\u001b[0m \u001b[38;5;124;03m\"\"\"\u001b[39;00m\n\u001b[1;32m     70\u001b[0m \u001b[38;5;66;03m# TODO: When the issue linked above gets sorted, add a check on TF version here and use the original function if\u001b[39;00m\n\u001b[1;32m     71\u001b[0m \u001b[38;5;66;03m# it has the fix. After we drop the support for unfixed versions, remove this function.\u001b[39;00m\n\u001b[0;32m---> 72\u001b[0m \u001b[38;5;28;01mreturn\u001b[39;00m \u001b[43mtf\u001b[49m\u001b[38;5;241;43m.\u001b[39;49m\u001b[43mnn\u001b[49m\u001b[38;5;241;43m.\u001b[39;49m\u001b[43msoftmax\u001b[49m\u001b[43m(\u001b[49m\u001b[43mlogits\u001b[49m\u001b[38;5;241;43m=\u001b[39;49m\u001b[43mlogits\u001b[49m\u001b[43m \u001b[49m\u001b[38;5;241;43m+\u001b[39;49m\u001b[43m \u001b[49m\u001b[38;5;241;43m1e-9\u001b[39;49m\u001b[43m,\u001b[49m\u001b[43m \u001b[49m\u001b[43maxis\u001b[49m\u001b[38;5;241;43m=\u001b[39;49m\u001b[43maxis\u001b[49m\u001b[43m,\u001b[49m\u001b[43m \u001b[49m\u001b[43mname\u001b[49m\u001b[38;5;241;43m=\u001b[39;49m\u001b[43mname\u001b[49m\u001b[43m)\u001b[49m\n",
            "\u001b[0;31mResourceExhaustedError\u001b[0m: Exception encountered when calling layer 'self' (type TFBertSelfAttention).\n\n{{function_node __wrapped__Softmax_device_/job:localhost/replica:0/task:0/device:GPU:0}} OOM when allocating tensor with shape[48,12,256,256] and type float on /job:localhost/replica:0/task:0/device:GPU:0 by allocator GPU_0_bfc [Op:Softmax] name: \n\nCall arguments received by layer 'self' (type TFBertSelfAttention):\n  • hidden_states=tf.Tensor(shape=(48, 256, 768), dtype=float32)\n  • attention_mask=tf.Tensor(shape=(48, 1, 1, 256), dtype=float32)\n  • head_mask=None\n  • encoder_hidden_states=None\n  • encoder_attention_mask=None\n  • past_key_value=None\n  • output_attentions=False\n  • training=False"
          ]
        }
      ],
      "source": [
        "with h5py.File(ECCOM_DATA_FEATURES_FILE, \"w\") as h5file:\n",
        "    dset = h5file.create_dataset(ECCOM_DATA_FEATURES_DATASET, shape=(0, 768), maxshape=(None, 768))\n",
        "\n",
        "    for i in tqdm(range(0, ALL_BATCHES)):\n",
        "        batch = X[i * BATCH_SIZE: (i + 1) * BATCH_SIZE] if i < ALL_BATCHES - 1 else X[i * BATCH_SIZE:]\n",
        "\n",
        "        tokenized_inputs = preprocess_texts(batch.tolist())\n",
        "\n",
        "        outputs = backbone(\n",
        "            input_ids=tokenized_inputs['input_ids'],\n",
        "            attention_mask=tokenized_inputs['attention_mask']\n",
        "        )\n",
        "\n",
        "        cls_embeddings = outputs.last_hidden_state[:, 0, :]  # Признаки токена [CLS]\n",
        "\n",
        "        dset.resize((dset.shape[0] + cls_embeddings.shape[0]), axis=0)\n",
        "        dset[-cls_embeddings.shape[0]:] = cls_embeddings"
      ]
    },
    {
      "cell_type": "code",
      "execution_count": null,
      "id": "28edbcec-b696-47de-89c3-381e0601d58c",
      "metadata": {
        "id": "28edbcec-b696-47de-89c3-381e0601d58c",
        "outputId": "16137abd-d006-4938-ee85-c9608c87237a"
      },
      "outputs": [
        {
          "name": "stdout",
          "output_type": "stream",
          "text": [
            "Example:  (49952, 768)\n"
          ]
        }
      ],
      "source": [
        "with h5py.File(ECCOM_DATA_FEATURES_FILE, \"r\") as h5file:\n",
        "    dataset = h5file[ECCOM_DATA_FEATURES_DATASET]\n",
        "    partial_data = dataset[:, :]\n",
        "    print(\"Example: \", partial_data.shape)\n"
      ]
    },
    {
      "cell_type": "markdown",
      "id": "4a2b4b64-ee2e-4a2a-8d81-161f8bf1aae4",
      "metadata": {
        "id": "4a2b4b64-ee2e-4a2a-8d81-161f8bf1aae4"
      },
      "source": [
        "Run the backbone on the sequences and save the extracted features. The extracted features should be a vector containing information about the whole text. If the features are too large to be stored in memory, lazily save them on disk."
      ]
    },
    {
      "cell_type": "markdown",
      "id": "2543fcff-46b0-4c05-b297-c3102f998205",
      "metadata": {
        "id": "2543fcff-46b0-4c05-b297-c3102f998205"
      },
      "source": [
        "# Prepare train/test data"
      ]
    },
    {
      "cell_type": "markdown",
      "id": "2c985c7d-9123-477e-9988-15ff5a7b26eb",
      "metadata": {
        "id": "2c985c7d-9123-477e-9988-15ff5a7b26eb"
      },
      "source": [
        "Split your data (extracted features and labels) into train and test subsets."
      ]
    },
    {
      "cell_type": "code",
      "execution_count": 11,
      "id": "7e08dc56-16d3-492e-a537-96a66e2b3d23",
      "metadata": {
        "id": "7e08dc56-16d3-492e-a537-96a66e2b3d23"
      },
      "outputs": [],
      "source": [
        "LEN_TOKENS = 49952"
      ]
    },
    {
      "cell_type": "code",
      "execution_count": 13,
      "id": "e614fd5e-f470-4973-b1cf-1abdce7e8016",
      "metadata": {
        "id": "e614fd5e-f470-4973-b1cf-1abdce7e8016"
      },
      "outputs": [],
      "source": [
        "description_embedings = None\n",
        "\n",
        "with h5py.File(ECCOM_DATA_FEATURES_FILE, \"r\") as h5file:\n",
        "    dataset = h5file[ECCOM_DATA_FEATURES_DATASET]\n",
        "    description_embedings = dataset[:LEN_TOKENS, :768]"
      ]
    },
    {
      "cell_type": "code",
      "execution_count": 14,
      "id": "c49581b5-cdcc-4380-8a0b-d1258e49fb39",
      "metadata": {
        "id": "c49581b5-cdcc-4380-8a0b-d1258e49fb39"
      },
      "outputs": [],
      "source": [
        "labels = y[:LEN_TOKENS]"
      ]
    },
    {
      "cell_type": "code",
      "execution_count": 15,
      "id": "e2a7748a-f977-4648-963b-93cea1f0eb7a",
      "metadata": {
        "id": "e2a7748a-f977-4648-963b-93cea1f0eb7a",
        "outputId": "8f071dad-087f-4162-eb71-e87e6b62cb11",
        "colab": {
          "base_uri": "https://localhost:8080/"
        }
      },
      "outputs": [
        {
          "output_type": "execute_result",
          "data": {
            "text/plain": [
              "(49952,)"
            ]
          },
          "metadata": {},
          "execution_count": 15
        }
      ],
      "source": [
        "labels.shape"
      ]
    },
    {
      "cell_type": "code",
      "execution_count": 16,
      "id": "5460c05a-f5e7-4935-a6ff-074ca21fa01b",
      "metadata": {
        "id": "5460c05a-f5e7-4935-a6ff-074ca21fa01b"
      },
      "outputs": [],
      "source": [
        "X_train, X_test, y_train, y_test = train_test_split(description_embedings, labels, test_size=0.3, random_state=RANDOM_SEED)\n",
        "X_test, X_validation, y_test, y_validation = train_test_split(X_test, y_test, test_size=0.5, random_state=RANDOM_SEED)"
      ]
    },
    {
      "cell_type": "markdown",
      "id": "b1a65639-50d0-4f89-8bfe-33b7a483e406",
      "metadata": {
        "id": "b1a65639-50d0-4f89-8bfe-33b7a483e406"
      },
      "source": [
        "Prepare `tf.data.Dataset` or some other way for the data to be used during training."
      ]
    },
    {
      "cell_type": "code",
      "execution_count": 17,
      "id": "07849c2e-c7d1-4620-9590-962fa554ed8f",
      "metadata": {
        "id": "07849c2e-c7d1-4620-9590-962fa554ed8f"
      },
      "outputs": [],
      "source": [
        "train_dataset = tf.data.Dataset.from_tensor_slices((X_train, y_train)).batch(BATCH_SIZE).shuffle(buffer_size=BATCH_SIZE)\n",
        "validation_dataset = tf.data.Dataset.from_tensor_slices((X_validation, y_validation)).batch(BATCH_SIZE)\n",
        "test_dataset = tf.data.Dataset.from_tensor_slices((X_test, y_test)).batch(BATCH_SIZE)"
      ]
    },
    {
      "cell_type": "markdown",
      "id": "e8f74abd-ce1a-4a68-be6c-89b1abd0caa5",
      "metadata": {
        "id": "e8f74abd-ce1a-4a68-be6c-89b1abd0caa5"
      },
      "source": [
        "# Build the model"
      ]
    },
    {
      "cell_type": "markdown",
      "id": "78885e31-c91e-4ee5-acbf-00a107069da9",
      "metadata": {
        "id": "78885e31-c91e-4ee5-acbf-00a107069da9"
      },
      "source": [
        "Build a simple model. The model should accept an extracted feature vector and return a vector of class logits (or probabilities). Model should only have a couple (or even 1) layer with weights."
      ]
    },
    {
      "cell_type": "code",
      "execution_count": null,
      "id": "4522f1a0-1555-4dcd-9117-3e975d6f781b",
      "metadata": {
        "id": "4522f1a0-1555-4dcd-9117-3e975d6f781b"
      },
      "outputs": [],
      "source": [
        "def get_model():\n",
        "    input_layer = tf.keras.layers.Input(shape=(768,), batch_size=BATCH_SIZE)\n",
        "    output = tf.keras.layers.Dense(CLASS_COUNT, activation=\"softmax\")(input_layer)\n",
        "    model = tf.keras.Model(inputs=input_layer, outputs=output)\n",
        "\n",
        "    return model"
      ]
    },
    {
      "cell_type": "code",
      "execution_count": null,
      "id": "2145fff1-2446-4b2e-a08b-f9002bf645ab",
      "metadata": {
        "id": "2145fff1-2446-4b2e-a08b-f9002bf645ab"
      },
      "outputs": [],
      "source": [
        "model = get_model()"
      ]
    },
    {
      "cell_type": "code",
      "source": [
        "model = tf.keras.models.load_model(f'./model-bert-backbone-v2-2.h5')"
      ],
      "metadata": {
        "id": "jASEYaamaLXt",
        "outputId": "a43fc7da-d657-438a-8406-2b6e0278c6b7",
        "colab": {
          "base_uri": "https://localhost:8080/"
        }
      },
      "id": "jASEYaamaLXt",
      "execution_count": 22,
      "outputs": [
        {
          "output_type": "stream",
          "name": "stderr",
          "text": [
            "WARNING:absl:Compiled the loaded model, but the compiled metrics have yet to be built. `model.compile_metrics` will be empty until you train or evaluate the model.\n",
            "WARNING:absl:Error in loading the saved optimizer state. As a result, your model is starting with a freshly initialized optimizer.\n"
          ]
        }
      ]
    },
    {
      "cell_type": "markdown",
      "id": "a5cacc4e-9876-40ff-8cd0-f1a4bfbc5c1a",
      "metadata": {
        "id": "a5cacc4e-9876-40ff-8cd0-f1a4bfbc5c1a"
      },
      "source": [
        "Compile the model. Choose loss and metrics."
      ]
    },
    {
      "cell_type": "code",
      "execution_count": 23,
      "id": "ad74527b-c793-40da-af8e-66172db170f1",
      "metadata": {
        "id": "ad74527b-c793-40da-af8e-66172db170f1"
      },
      "outputs": [],
      "source": [
        "model.compile(\n",
        "    optimizer=tf.keras.optimizers.Adam(learning_rate=3e-5),\n",
        "    loss=\"sparse_categorical_crossentropy\",\n",
        "    metrics=[\"accuracy\"]\n",
        ")"
      ]
    },
    {
      "cell_type": "markdown",
      "id": "3e08006d-be0a-4828-aca9-a9f37218b8de",
      "metadata": {
        "id": "3e08006d-be0a-4828-aca9-a9f37218b8de"
      },
      "source": [
        "# Train the model"
      ]
    },
    {
      "cell_type": "code",
      "execution_count": null,
      "id": "e100a4fe-8737-4806-b2a5-e4fa93cb745f",
      "metadata": {
        "id": "e100a4fe-8737-4806-b2a5-e4fa93cb745f"
      },
      "outputs": [],
      "source": [
        "HISTORY_DIR = './history'\n",
        "os.makedirs(HISTORY_DIR, exist_ok=True)"
      ]
    },
    {
      "cell_type": "code",
      "execution_count": null,
      "id": "c4a5109d-e562-486a-9ada-4e3e3b658757",
      "metadata": {
        "id": "c4a5109d-e562-486a-9ada-4e3e3b658757"
      },
      "outputs": [],
      "source": [
        "logdir = os.path.join(HISTORY_DIR, datetime.datetime.now().strftime(\"%Y%m%d-%H%M%S\"))"
      ]
    },
    {
      "cell_type": "code",
      "execution_count": null,
      "id": "a2e68d3a-07eb-419f-b311-dd20273d88a5",
      "metadata": {
        "id": "a2e68d3a-07eb-419f-b311-dd20273d88a5"
      },
      "outputs": [],
      "source": [
        "def get_callbacks(model_name: str):\n",
        "    model_checkpoint_callback = tf.keras.callbacks.ModelCheckpoint(\n",
        "        os.path.join(logdir, f'model-{model_name}.keras'),\n",
        "        save_best_only=True\n",
        "    )\n",
        "\n",
        "    tensorboard_callback = tf.keras.callbacks.TensorBoard(\n",
        "        os.path.join(logdir, f'logs-{model_name}.keras'),\n",
        "    )\n",
        "\n",
        "    return model_checkpoint_callback, tensorboard_callback"
      ]
    },
    {
      "cell_type": "code",
      "execution_count": null,
      "id": "c2994d4a-7243-4a42-bdd1-6bfb19a4c285",
      "metadata": {
        "id": "c2994d4a-7243-4a42-bdd1-6bfb19a4c285"
      },
      "outputs": [],
      "source": [
        "model_checkpoint_callback, tensorboard_callback = get_callbacks('bert-backbone')"
      ]
    },
    {
      "cell_type": "code",
      "execution_count": null,
      "id": "6a30787b-7ac4-4dd3-9ea5-62c94e9aa628",
      "metadata": {
        "id": "6a30787b-7ac4-4dd3-9ea5-62c94e9aa628",
        "outputId": "f3d06e74-0440-46cb-c6c3-a51321c47676"
      },
      "outputs": [
        {
          "name": "stdout",
          "output_type": "stream",
          "text": [
            "Epoch 1/20\n"
          ]
        },
        {
          "name": "stderr",
          "output_type": "stream",
          "text": [
            "WARNING: All log messages before absl::InitializeLog() is called are written to STDERR\n",
            "I0000 00:00:1733527650.341645  150702 service.cc:148] XLA service 0x7efab8248770 initialized for platform CUDA (this does not guarantee that XLA will be used). Devices:\n",
            "I0000 00:00:1733527650.342750  150702 service.cc:156]   StreamExecutor device (0): NVIDIA GeForce GT 1030, Compute Capability 6.1\n",
            "2024-12-07 09:27:30.373401: I tensorflow/compiler/mlir/tensorflow/utils/dump_mlir_util.cc:268] disabling MLIR crash reproducer, set env var `MLIR_CRASH_REPRODUCER_DIRECTORY` to enable.\n",
            "I0000 00:00:1733527650.426676  150702 cuda_dnn.cc:529] Loaded cuDNN version 90300\n"
          ]
        },
        {
          "name": "stdout",
          "output_type": "stream",
          "text": [
            "  12/1093 [..............................] - ETA: 5s - loss: 1.7670 - accuracy: 0.2318   "
          ]
        },
        {
          "name": "stderr",
          "output_type": "stream",
          "text": [
            "I0000 00:00:1733527650.548433  150702 device_compiler.h:188] Compiled cluster using XLA!  This line is logged at most once for the lifetime of the process.\n"
          ]
        },
        {
          "name": "stdout",
          "output_type": "stream",
          "text": [
            "1093/1093 [==============================] - 5s 4ms/step - loss: 0.9948 - accuracy: 0.6270 - val_loss: 0.7282 - val_accuracy: 0.7798\n",
            "Epoch 2/20\n",
            "1093/1093 [==============================] - 4s 4ms/step - loss: 0.6045 - accuracy: 0.8356 - val_loss: 0.5356 - val_accuracy: 0.8545\n",
            "Epoch 3/20\n",
            "1093/1093 [==============================] - 4s 4ms/step - loss: 0.4725 - accuracy: 0.8734 - val_loss: 0.4501 - val_accuracy: 0.8768\n",
            "Epoch 4/20\n",
            "1093/1093 [==============================] - 4s 4ms/step - loss: 0.4080 - accuracy: 0.8881 - val_loss: 0.4039 - val_accuracy: 0.8863\n",
            "Epoch 5/20\n",
            "1093/1093 [==============================] - 4s 4ms/step - loss: 0.3710 - accuracy: 0.8956 - val_loss: 0.3753 - val_accuracy: 0.8907\n",
            "Epoch 6/20\n",
            "1093/1093 [==============================] - 5s 5ms/step - loss: 0.3474 - accuracy: 0.9009 - val_loss: 0.3562 - val_accuracy: 0.8948\n",
            "Epoch 7/20\n",
            "1093/1093 [==============================] - 4s 4ms/step - loss: 0.3311 - accuracy: 0.9042 - val_loss: 0.3424 - val_accuracy: 0.8983\n",
            "Epoch 8/20\n",
            "1093/1093 [==============================] - 4s 4ms/step - loss: 0.3190 - accuracy: 0.9072 - val_loss: 0.3319 - val_accuracy: 0.9020\n",
            "Epoch 9/20\n",
            "1093/1093 [==============================] - 5s 4ms/step - loss: 0.3098 - accuracy: 0.9100 - val_loss: 0.3235 - val_accuracy: 0.9046\n",
            "Epoch 10/20\n",
            "1093/1093 [==============================] - 5s 4ms/step - loss: 0.3024 - accuracy: 0.9121 - val_loss: 0.3168 - val_accuracy: 0.9055\n",
            "Epoch 11/20\n",
            "1093/1093 [==============================] - 5s 4ms/step - loss: 0.2963 - accuracy: 0.9131 - val_loss: 0.3112 - val_accuracy: 0.9070\n",
            "Epoch 12/20\n",
            "1093/1093 [==============================] - 4s 4ms/step - loss: 0.2911 - accuracy: 0.9150 - val_loss: 0.3063 - val_accuracy: 0.9083\n",
            "Epoch 13/20\n",
            "1093/1093 [==============================] - 5s 5ms/step - loss: 0.2866 - accuracy: 0.9162 - val_loss: 0.3020 - val_accuracy: 0.9095\n",
            "Epoch 14/20\n",
            "1093/1093 [==============================] - 5s 4ms/step - loss: 0.2828 - accuracy: 0.9171 - val_loss: 0.2985 - val_accuracy: 0.9100\n",
            "Epoch 15/20\n",
            "1093/1093 [==============================] - 4s 4ms/step - loss: 0.2793 - accuracy: 0.9183 - val_loss: 0.2950 - val_accuracy: 0.9118\n",
            "Epoch 16/20\n",
            "1093/1093 [==============================] - 4s 4ms/step - loss: 0.2762 - accuracy: 0.9194 - val_loss: 0.2921 - val_accuracy: 0.9129\n",
            "Epoch 17/20\n",
            "1093/1093 [==============================] - 4s 4ms/step - loss: 0.2734 - accuracy: 0.9202 - val_loss: 0.2894 - val_accuracy: 0.9127\n",
            "Epoch 18/20\n",
            "1093/1093 [==============================] - 5s 4ms/step - loss: 0.2708 - accuracy: 0.9214 - val_loss: 0.2871 - val_accuracy: 0.9139\n",
            "Epoch 19/20\n",
            "1093/1093 [==============================] - 5s 4ms/step - loss: 0.2684 - accuracy: 0.9220 - val_loss: 0.2847 - val_accuracy: 0.9139\n",
            "Epoch 20/20\n",
            "1093/1093 [==============================] - 6s 5ms/step - loss: 0.2663 - accuracy: 0.9224 - val_loss: 0.2827 - val_accuracy: 0.9151\n"
          ]
        },
        {
          "data": {
            "text/plain": [
              "<tf_keras.src.callbacks.History at 0x7efa9042a1d0>"
            ]
          },
          "execution_count": 38,
          "metadata": {},
          "output_type": "execute_result"
        }
      ],
      "source": [
        "model.fit(train_dataset, validation_data=validation_dataset, epochs=EPOCH_COUNT, callbacks=[model_checkpoint_callback, tensorboard_callback])"
      ]
    },
    {
      "cell_type": "markdown",
      "id": "3980f062-220a-4a11-b9f5-3b0e41804533",
      "metadata": {
        "id": "3980f062-220a-4a11-b9f5-3b0e41804533"
      },
      "source": [
        "# Evaluation"
      ]
    },
    {
      "cell_type": "markdown",
      "id": "4b6008a2-9882-44f2-946c-23827aa5fa49",
      "metadata": {
        "id": "4b6008a2-9882-44f2-946c-23827aa5fa49"
      },
      "source": [
        "Evalute the model on test data."
      ]
    },
    {
      "cell_type": "code",
      "execution_count": 24,
      "id": "1b4ddf9e-5710-4c7f-ac58-4d94742c0d14",
      "metadata": {
        "id": "1b4ddf9e-5710-4c7f-ac58-4d94742c0d14",
        "outputId": "69c89342-73e6-43af-cf7a-27d74dbe46a6",
        "colab": {
          "base_uri": "https://localhost:8080/"
        }
      },
      "outputs": [
        {
          "output_type": "stream",
          "name": "stdout",
          "text": [
            "\u001b[1m235/235\u001b[0m \u001b[32m━━━━━━━━━━━━━━━━━━━━\u001b[0m\u001b[37m\u001b[0m \u001b[1m1s\u001b[0m 2ms/step - accuracy: 0.9242 - loss: 0.2685\n"
          ]
        },
        {
          "output_type": "execute_result",
          "data": {
            "text/plain": [
              "[0.26464518904685974, 0.9249966740608215]"
            ]
          },
          "metadata": {},
          "execution_count": 24
        }
      ],
      "source": [
        "model.evaluate(test_dataset)"
      ]
    },
    {
      "cell_type": "markdown",
      "id": "c96f4ae8-6b6c-4c4d-94dc-be8062b7e982",
      "metadata": {
        "id": "c96f4ae8-6b6c-4c4d-94dc-be8062b7e982"
      },
      "source": [
        "Plot confusion matrix."
      ]
    },
    {
      "cell_type": "code",
      "execution_count": 25,
      "id": "b092eae2-5f9a-42cc-ba04-ae9b9f67df7e",
      "metadata": {
        "id": "b092eae2-5f9a-42cc-ba04-ae9b9f67df7e",
        "outputId": "98a67ee2-5438-47cd-e889-161ee5114ce4",
        "colab": {
          "base_uri": "https://localhost:8080/"
        }
      },
      "outputs": [
        {
          "output_type": "stream",
          "name": "stdout",
          "text": [
            "\u001b[1m235/235\u001b[0m \u001b[32m━━━━━━━━━━━━━━━━━━━━\u001b[0m\u001b[37m\u001b[0m \u001b[1m1s\u001b[0m 3ms/step\n"
          ]
        }
      ],
      "source": [
        "predictions = model.predict(test_dataset)"
      ]
    },
    {
      "cell_type": "code",
      "execution_count": 26,
      "id": "e5b38889-e4ca-491f-9992-c5810e6aff62",
      "metadata": {
        "id": "e5b38889-e4ca-491f-9992-c5810e6aff62"
      },
      "outputs": [],
      "source": [
        "true_labels = y_test"
      ]
    },
    {
      "cell_type": "code",
      "execution_count": 27,
      "id": "b3e24681-e424-4e8e-a76d-80e23b3d9ed7",
      "metadata": {
        "id": "b3e24681-e424-4e8e-a76d-80e23b3d9ed7",
        "outputId": "2f6b909d-8238-4aeb-acd1-d987f78c8e3c",
        "colab": {
          "base_uri": "https://localhost:8080/",
          "height": 472
        }
      },
      "outputs": [
        {
          "output_type": "display_data",
          "data": {
            "text/plain": [
              "<Figure size 640x480 with 2 Axes>"
            ],
            "image/png": "[encoded data removed]"
          },
          "metadata": {}
        }
      ],
      "source": [
        "predicted_labels = np.argmax(predictions, axis=1)\n",
        "conf_matrix = confusion_matrix(true_labels, predicted_labels)\n",
        "\n",
        "disp = ConfusionMatrixDisplay(confusion_matrix=conf_matrix, display_labels=[0, 1, 2, 3])\n",
        "disp.plot(cmap=\"Blues\", values_format=\"d\")\n",
        "plt.title(\"Confusion Matrix\")\n",
        "plt.show()"
      ]
    },
    {
      "cell_type": "markdown",
      "id": "6997d559-de7f-4e67-96f1-85df047dcbb7",
      "metadata": {
        "id": "6997d559-de7f-4e67-96f1-85df047dcbb7"
      },
      "source": [
        "Write a function to classify a piece of text."
      ]
    },
    {
      "cell_type": "code",
      "execution_count": 32,
      "id": "21a748d8-b5a2-4f90-a3d8-ee36d69d34fb",
      "metadata": {
        "id": "21a748d8-b5a2-4f90-a3d8-ee36d69d34fb"
      },
      "outputs": [],
      "source": [
        "def classify_text(text: str) -> tuple[int | str, np.ndarray]:\n",
        "    tokenized_input = preprocess_texts(text)\n",
        "\n",
        "    outputs = backbone(\n",
        "        input_ids=tokenized_input['input_ids'],\n",
        "        attention_mask=tokenized_input['attention_mask']\n",
        "    )\n",
        "\n",
        "    cls_embeddings = outputs.last_hidden_state[:, 0, :]\n",
        "\n",
        "    predictions = model.predict(cls_embeddings)\n",
        "    predicted_labels = np.argmax(predictions, axis=1)\n",
        "\n",
        "    return LABELS[int(predicted_labels)], predictions"
      ]
    },
    {
      "cell_type": "markdown",
      "id": "8f2043ad-8f1b-4c17-8f11-23487f66db5f",
      "metadata": {
        "id": "8f2043ad-8f1b-4c17-8f11-23487f66db5f"
      },
      "source": [
        "Evaluate the model on text not present in training and test data (come up with the text yourself). Try to get an input for each class."
      ]
    },
    {
      "cell_type": "code",
      "execution_count": 37,
      "id": "b27c5386-cc1b-4040-a5b7-cb8d26965fd4",
      "metadata": {
        "id": "b27c5386-cc1b-4040-a5b7-cb8d26965fd4",
        "outputId": "db725c31-da29-4371-c015-2b51b439afa6",
        "colab": {
          "base_uri": "https://localhost:8080/"
        }
      },
      "outputs": [
        {
          "output_type": "stream",
          "name": "stdout",
          "text": [
            "\u001b[1m1/1\u001b[0m \u001b[32m━━━━━━━━━━━━━━━━━━━━\u001b[0m\u001b[37m\u001b[0m \u001b[1m0s\u001b[0m 74ms/step\n"
          ]
        },
        {
          "output_type": "stream",
          "name": "stderr",
          "text": [
            "<ipython-input-32-ff58a16d96fa>:14: DeprecationWarning: Conversion of an array with ndim > 0 to a scalar is deprecated, and will error in future. Ensure you extract a single element from your array before performing this operation. (Deprecated NumPy 1.25.)\n",
            "  return LABELS[int(predicted_labels)], predictions\n"
          ]
        }
      ],
      "source": [
        "result_class = classify_text(ads['electronics'][5])"
      ]
    },
    {
      "cell_type": "code",
      "execution_count": 38,
      "id": "5f85b6d8-d287-4ae2-96b9-ad26621d5cf6",
      "metadata": {
        "id": "5f85b6d8-d287-4ae2-96b9-ad26621d5cf6",
        "outputId": "8adbbdff-0d76-47d6-dfa8-70eb291a8f0e",
        "colab": {
          "base_uri": "https://localhost:8080/"
        }
      },
      "outputs": [
        {
          "output_type": "execute_result",
          "data": {
            "text/plain": [
              "('Electronics',\n",
              " array([[0.01491535, 0.23042999, 0.01506093, 0.73959374]], dtype=float32))"
            ]
          },
          "metadata": {},
          "execution_count": 38
        }
      ],
      "source": [
        "result_class"
      ]
    },
    {
      "cell_type": "markdown",
      "id": "dd49c775-eded-4a49-b7f4-9903185a7b9d",
      "metadata": {
        "id": "dd49c775-eded-4a49-b7f4-9903185a7b9d"
      },
      "source": [
        "# Bonus"
      ]
    },
    {
      "cell_type": "markdown",
      "id": "726c617b-7110-4761-9806-975d5f84bf41",
      "metadata": {
        "id": "726c617b-7110-4761-9806-975d5f84bf41"
      },
      "source": [
        "Write a function that computes word impact on text label."
      ]
    },
    {
      "cell_type": "code",
      "execution_count": 39,
      "id": "e55243d7-df29-4ff6-8db5-ff029269cb5e",
      "metadata": {
        "id": "e55243d7-df29-4ff6-8db5-ff029269cb5e"
      },
      "outputs": [],
      "source": [
        "ITEM_INDEX = 1"
      ]
    },
    {
      "cell_type": "code",
      "execution_count": 40,
      "id": "7aed5cd7-c770-4341-a2fe-211b55b6100d",
      "metadata": {
        "id": "7aed5cd7-c770-4341-a2fe-211b55b6100d"
      },
      "outputs": [],
      "source": [
        "descriptions, labels = get_raw_data()"
      ]
    },
    {
      "cell_type": "code",
      "execution_count": 41,
      "id": "01a46658-8770-4d53-94ec-b7651dbde221",
      "metadata": {
        "id": "01a46658-8770-4d53-94ec-b7651dbde221"
      },
      "outputs": [],
      "source": [
        "def get_words_impact(text: str) -> list[tuple[str, np.ndarray]]:\n",
        "    def get_predicted_probabilities(text):\n",
        "        tokenized_input = preprocess_texts(text)\n",
        "\n",
        "        outputs = backbone(\n",
        "            input_ids=tokenized_input['input_ids'],\n",
        "            attention_mask=tokenized_input['attention_mask']\n",
        "        )\n",
        "\n",
        "        cls_embeddings = outputs.last_hidden_state[:, 0, :]\n",
        "\n",
        "        predictions = model.predict(cls_embeddings)\n",
        "\n",
        "        return predictions\n",
        "\n",
        "    all_sequence_predicted_probabilities = get_predicted_probabilities(text)[0]\n",
        "\n",
        "    impacts = []\n",
        "    words = text.split()\n",
        "\n",
        "    print(words)\n",
        "\n",
        "    for i, word in enumerate(words):\n",
        "        modified_text = \" \".join(words[:i] + words[i+1:])\n",
        "\n",
        "        predicted_probabilities = get_predicted_probabilities(modified_text)[0]\n",
        "        difference = all_sequence_predicted_probabilities - predicted_probabilities\n",
        "        impacts.append((word, difference))\n",
        "\n",
        "    return impacts"
      ]
    },
    {
      "cell_type": "code",
      "execution_count": 42,
      "id": "a55960df-7527-41de-ae04-fa3c3102296b",
      "metadata": {
        "collapsed": true,
        "jupyter": {
          "outputs_hidden": true
        },
        "scrolled": true,
        "id": "a55960df-7527-41de-ae04-fa3c3102296b",
        "outputId": "7e55b619-16ca-40bc-9e56-6219098409f1",
        "colab": {
          "base_uri": "https://localhost:8080/"
        }
      },
      "outputs": [
        {
          "output_type": "stream",
          "name": "stdout",
          "text": [
            "\u001b[1m1/1\u001b[0m \u001b[32m━━━━━━━━━━━━━━━━━━━━\u001b[0m\u001b[37m\u001b[0m \u001b[1m0s\u001b[0m 21ms/step\n",
            "['SAF', \"'Floral'\", 'Framed', 'Painting', '(Wood,', '30', 'inch', 'x', '10', 'inch,', 'Special', 'Effect', 'UV', 'Print', 'Textured,', 'SAO297)', 'Painting', 'made', 'up', 'in', 'synthetic', 'frame', 'with', 'UV', 'textured', 'print', 'which', 'gives', 'multi', 'effects', 'and', 'attracts', 'towards', 'it.', 'This', 'is', 'an', 'special', 'series', 'of', 'paintings', 'which', 'makes', 'your', 'wall', 'very', 'beautiful', 'and', 'gives', 'a', 'royal', 'touch', '(A', 'perfect', 'gift', 'for', 'your', 'special', 'ones).']\n",
            "\u001b[1m1/1\u001b[0m \u001b[32m━━━━━━━━━━━━━━━━━━━━\u001b[0m\u001b[37m\u001b[0m \u001b[1m0s\u001b[0m 22ms/step\n",
            "\u001b[1m1/1\u001b[0m \u001b[32m━━━━━━━━━━━━━━━━━━━━\u001b[0m\u001b[37m\u001b[0m \u001b[1m0s\u001b[0m 20ms/step\n",
            "\u001b[1m1/1\u001b[0m \u001b[32m━━━━━━━━━━━━━━━━━━━━\u001b[0m\u001b[37m\u001b[0m \u001b[1m0s\u001b[0m 21ms/step\n",
            "\u001b[1m1/1\u001b[0m \u001b[32m━━━━━━━━━━━━━━━━━━━━\u001b[0m\u001b[37m\u001b[0m \u001b[1m0s\u001b[0m 21ms/step\n",
            "\u001b[1m1/1\u001b[0m \u001b[32m━━━━━━━━━━━━━━━━━━━━\u001b[0m\u001b[37m\u001b[0m \u001b[1m0s\u001b[0m 20ms/step\n",
            "\u001b[1m1/1\u001b[0m \u001b[32m━━━━━━━━━━━━━━━━━━━━\u001b[0m\u001b[37m\u001b[0m \u001b[1m0s\u001b[0m 23ms/step\n",
            "\u001b[1m1/1\u001b[0m \u001b[32m━━━━━━━━━━━━━━━━━━━━\u001b[0m\u001b[37m\u001b[0m \u001b[1m0s\u001b[0m 32ms/step\n",
            "\u001b[1m1/1\u001b[0m \u001b[32m━━━━━━━━━━━━━━━━━━━━\u001b[0m\u001b[37m\u001b[0m \u001b[1m0s\u001b[0m 29ms/step\n",
            "\u001b[1m1/1\u001b[0m \u001b[32m━━━━━━━━━━━━━━━━━━━━\u001b[0m\u001b[37m\u001b[0m \u001b[1m0s\u001b[0m 41ms/step\n",
            "\u001b[1m1/1\u001b[0m \u001b[32m━━━━━━━━━━━━━━━━━━━━\u001b[0m\u001b[37m\u001b[0m \u001b[1m0s\u001b[0m 32ms/step\n",
            "\u001b[1m1/1\u001b[0m \u001b[32m━━━━━━━━━━━━━━━━━━━━\u001b[0m\u001b[37m\u001b[0m \u001b[1m0s\u001b[0m 20ms/step\n",
            "\u001b[1m1/1\u001b[0m \u001b[32m━━━━━━━━━━━━━━━━━━━━\u001b[0m\u001b[37m\u001b[0m \u001b[1m0s\u001b[0m 21ms/step\n",
            "\u001b[1m1/1\u001b[0m \u001b[32m━━━━━━━━━━━━━━━━━━━━\u001b[0m\u001b[37m\u001b[0m \u001b[1m0s\u001b[0m 21ms/step\n",
            "\u001b[1m1/1\u001b[0m \u001b[32m━━━━━━━━━━━━━━━━━━━━\u001b[0m\u001b[37m\u001b[0m \u001b[1m0s\u001b[0m 20ms/step\n",
            "\u001b[1m1/1\u001b[0m \u001b[32m━━━━━━━━━━━━━━━━━━━━\u001b[0m\u001b[37m\u001b[0m \u001b[1m0s\u001b[0m 25ms/step\n",
            "\u001b[1m1/1\u001b[0m \u001b[32m━━━━━━━━━━━━━━━━━━━━\u001b[0m\u001b[37m\u001b[0m \u001b[1m0s\u001b[0m 22ms/step\n",
            "\u001b[1m1/1\u001b[0m \u001b[32m━━━━━━━━━━━━━━━━━━━━\u001b[0m\u001b[37m\u001b[0m \u001b[1m0s\u001b[0m 24ms/step\n",
            "\u001b[1m1/1\u001b[0m \u001b[32m━━━━━━━━━━━━━━━━━━━━\u001b[0m\u001b[37m\u001b[0m \u001b[1m0s\u001b[0m 24ms/step\n",
            "\u001b[1m1/1\u001b[0m \u001b[32m━━━━━━━━━━━━━━━━━━━━\u001b[0m\u001b[37m\u001b[0m \u001b[1m0s\u001b[0m 23ms/step\n",
            "\u001b[1m1/1\u001b[0m \u001b[32m━━━━━━━━━━━━━━━━━━━━\u001b[0m\u001b[37m\u001b[0m \u001b[1m0s\u001b[0m 21ms/step\n",
            "\u001b[1m1/1\u001b[0m \u001b[32m━━━━━━━━━━━━━━━━━━━━\u001b[0m\u001b[37m\u001b[0m \u001b[1m0s\u001b[0m 23ms/step\n",
            "\u001b[1m1/1\u001b[0m \u001b[32m━━━━━━━━━━━━━━━━━━━━\u001b[0m\u001b[37m\u001b[0m \u001b[1m0s\u001b[0m 20ms/step\n",
            "\u001b[1m1/1\u001b[0m \u001b[32m━━━━━━━━━━━━━━━━━━━━\u001b[0m\u001b[37m\u001b[0m \u001b[1m0s\u001b[0m 22ms/step\n",
            "\u001b[1m1/1\u001b[0m \u001b[32m━━━━━━━━━━━━━━━━━━━━\u001b[0m\u001b[37m\u001b[0m \u001b[1m0s\u001b[0m 20ms/step\n",
            "\u001b[1m1/1\u001b[0m \u001b[32m━━━━━━━━━━━━━━━━━━━━\u001b[0m\u001b[37m\u001b[0m \u001b[1m0s\u001b[0m 38ms/step\n",
            "\u001b[1m1/1\u001b[0m \u001b[32m━━━━━━━━━━━━━━━━━━━━\u001b[0m\u001b[37m\u001b[0m \u001b[1m0s\u001b[0m 35ms/step\n",
            "\u001b[1m1/1\u001b[0m \u001b[32m━━━━━━━━━━━━━━━━━━━━\u001b[0m\u001b[37m\u001b[0m \u001b[1m0s\u001b[0m 29ms/step\n",
            "\u001b[1m1/1\u001b[0m \u001b[32m━━━━━━━━━━━━━━━━━━━━\u001b[0m\u001b[37m\u001b[0m \u001b[1m0s\u001b[0m 33ms/step\n",
            "\u001b[1m1/1\u001b[0m \u001b[32m━━━━━━━━━━━━━━━━━━━━\u001b[0m\u001b[37m\u001b[0m \u001b[1m0s\u001b[0m 22ms/step\n",
            "\u001b[1m1/1\u001b[0m \u001b[32m━━━━━━━━━━━━━━━━━━━━\u001b[0m\u001b[37m\u001b[0m \u001b[1m0s\u001b[0m 21ms/step\n",
            "\u001b[1m1/1\u001b[0m \u001b[32m━━━━━━━━━━━━━━━━━━━━\u001b[0m\u001b[37m\u001b[0m \u001b[1m0s\u001b[0m 21ms/step\n",
            "\u001b[1m1/1\u001b[0m \u001b[32m━━━━━━━━━━━━━━━━━━━━\u001b[0m\u001b[37m\u001b[0m \u001b[1m0s\u001b[0m 24ms/step\n",
            "\u001b[1m1/1\u001b[0m \u001b[32m━━━━━━━━━━━━━━━━━━━━\u001b[0m\u001b[37m\u001b[0m \u001b[1m0s\u001b[0m 22ms/step\n",
            "\u001b[1m1/1\u001b[0m \u001b[32m━━━━━━━━━━━━━━━━━━━━\u001b[0m\u001b[37m\u001b[0m \u001b[1m0s\u001b[0m 22ms/step\n",
            "\u001b[1m1/1\u001b[0m \u001b[32m━━━━━━━━━━━━━━━━━━━━\u001b[0m\u001b[37m\u001b[0m \u001b[1m0s\u001b[0m 22ms/step\n",
            "\u001b[1m1/1\u001b[0m \u001b[32m━━━━━━━━━━━━━━━━━━━━\u001b[0m\u001b[37m\u001b[0m \u001b[1m0s\u001b[0m 20ms/step\n",
            "\u001b[1m1/1\u001b[0m \u001b[32m━━━━━━━━━━━━━━━━━━━━\u001b[0m\u001b[37m\u001b[0m \u001b[1m0s\u001b[0m 26ms/step\n",
            "\u001b[1m1/1\u001b[0m \u001b[32m━━━━━━━━━━━━━━━━━━━━\u001b[0m\u001b[37m\u001b[0m \u001b[1m0s\u001b[0m 21ms/step\n",
            "\u001b[1m1/1\u001b[0m \u001b[32m━━━━━━━━━━━━━━━━━━━━\u001b[0m\u001b[37m\u001b[0m \u001b[1m0s\u001b[0m 19ms/step\n",
            "\u001b[1m1/1\u001b[0m \u001b[32m━━━━━━━━━━━━━━━━━━━━\u001b[0m\u001b[37m\u001b[0m \u001b[1m0s\u001b[0m 22ms/step\n",
            "\u001b[1m1/1\u001b[0m \u001b[32m━━━━━━━━━━━━━━━━━━━━\u001b[0m\u001b[37m\u001b[0m \u001b[1m0s\u001b[0m 21ms/step\n",
            "\u001b[1m1/1\u001b[0m \u001b[32m━━━━━━━━━━━━━━━━━━━━\u001b[0m\u001b[37m\u001b[0m \u001b[1m0s\u001b[0m 47ms/step\n",
            "\u001b[1m1/1\u001b[0m \u001b[32m━━━━━━━━━━━━━━━━━━━━\u001b[0m\u001b[37m\u001b[0m \u001b[1m0s\u001b[0m 30ms/step\n",
            "\u001b[1m1/1\u001b[0m \u001b[32m━━━━━━━━━━━━━━━━━━━━\u001b[0m\u001b[37m\u001b[0m \u001b[1m0s\u001b[0m 39ms/step\n",
            "\u001b[1m1/1\u001b[0m \u001b[32m━━━━━━━━━━━━━━━━━━━━\u001b[0m\u001b[37m\u001b[0m \u001b[1m0s\u001b[0m 46ms/step\n",
            "\u001b[1m1/1\u001b[0m \u001b[32m━━━━━━━━━━━━━━━━━━━━\u001b[0m\u001b[37m\u001b[0m \u001b[1m0s\u001b[0m 37ms/step\n",
            "\u001b[1m1/1\u001b[0m \u001b[32m━━━━━━━━━━━━━━━━━━━━\u001b[0m\u001b[37m\u001b[0m \u001b[1m0s\u001b[0m 38ms/step\n",
            "\u001b[1m1/1\u001b[0m \u001b[32m━━━━━━━━━━━━━━━━━━━━\u001b[0m\u001b[37m\u001b[0m \u001b[1m0s\u001b[0m 23ms/step\n",
            "\u001b[1m1/1\u001b[0m \u001b[32m━━━━━━━━━━━━━━━━━━━━\u001b[0m\u001b[37m\u001b[0m \u001b[1m0s\u001b[0m 20ms/step\n",
            "\u001b[1m1/1\u001b[0m \u001b[32m━━━━━━━━━━━━━━━━━━━━\u001b[0m\u001b[37m\u001b[0m \u001b[1m0s\u001b[0m 21ms/step\n",
            "\u001b[1m1/1\u001b[0m \u001b[32m━━━━━━━━━━━━━━━━━━━━\u001b[0m\u001b[37m\u001b[0m \u001b[1m0s\u001b[0m 21ms/step\n",
            "\u001b[1m1/1\u001b[0m \u001b[32m━━━━━━━━━━━━━━━━━━━━\u001b[0m\u001b[37m\u001b[0m \u001b[1m0s\u001b[0m 23ms/step\n",
            "\u001b[1m1/1\u001b[0m \u001b[32m━━━━━━━━━━━━━━━━━━━━\u001b[0m\u001b[37m\u001b[0m \u001b[1m0s\u001b[0m 19ms/step\n",
            "\u001b[1m1/1\u001b[0m \u001b[32m━━━━━━━━━━━━━━━━━━━━\u001b[0m\u001b[37m\u001b[0m \u001b[1m0s\u001b[0m 21ms/step\n",
            "\u001b[1m1/1\u001b[0m \u001b[32m━━━━━━━━━━━━━━━━━━━━\u001b[0m\u001b[37m\u001b[0m \u001b[1m0s\u001b[0m 21ms/step\n",
            "\u001b[1m1/1\u001b[0m \u001b[32m━━━━━━━━━━━━━━━━━━━━\u001b[0m\u001b[37m\u001b[0m \u001b[1m0s\u001b[0m 20ms/step\n",
            "\u001b[1m1/1\u001b[0m \u001b[32m━━━━━━━━━━━━━━━━━━━━\u001b[0m\u001b[37m\u001b[0m \u001b[1m0s\u001b[0m 21ms/step\n",
            "\u001b[1m1/1\u001b[0m \u001b[32m━━━━━━━━━━━━━━━━━━━━\u001b[0m\u001b[37m\u001b[0m \u001b[1m0s\u001b[0m 24ms/step\n",
            "\u001b[1m1/1\u001b[0m \u001b[32m━━━━━━━━━━━━━━━━━━━━\u001b[0m\u001b[37m\u001b[0m \u001b[1m0s\u001b[0m 22ms/step\n"
          ]
        }
      ],
      "source": [
        "impacts = get_words_impact(descriptions[ITEM_INDEX])"
      ]
    },
    {
      "cell_type": "code",
      "execution_count": 45,
      "id": "7e0f117d-7a33-4840-990e-0659ba8e6c23",
      "metadata": {
        "id": "7e0f117d-7a33-4840-990e-0659ba8e6c23"
      },
      "outputs": [],
      "source": [
        "true_label_seq = labels[ITEM_INDEX]"
      ]
    },
    {
      "cell_type": "markdown",
      "id": "1c6dbd69-ea3c-41df-943c-16a379384b16",
      "metadata": {
        "id": "1c6dbd69-ea3c-41df-943c-16a379384b16"
      },
      "source": [
        "Try to find out words that make text have a specific label."
      ]
    },
    {
      "cell_type": "code",
      "execution_count": 50,
      "id": "84e72ccb-63cf-43ed-bc2f-5026897e721f",
      "metadata": {
        "id": "84e72ccb-63cf-43ed-bc2f-5026897e721f"
      },
      "outputs": [],
      "source": [
        "def get_word_biggest_impact(label, impacts):\n",
        "    words = []\n",
        "    predicted_probabilities = []\n",
        "\n",
        "    for impact in impacts:\n",
        "        words.append(impact[0])\n",
        "        predicted_probabilities.append(impact[1])\n",
        "\n",
        "    words = np.array(words)\n",
        "    predicted_probabilities = np.array(predicted_probabilities)\n",
        "\n",
        "    true_label_probabilities = predicted_probabilities[:,label]\n",
        "    max_impact_index = np.argwhere(true_label_probabilities > 0).reshape(-1)\n",
        "\n",
        "    return words[max_impact_index]"
      ]
    },
    {
      "cell_type": "code",
      "execution_count": 51,
      "id": "3b7629c2-d39d-4ea7-b726-31230faee0d0",
      "metadata": {
        "id": "3b7629c2-d39d-4ea7-b726-31230faee0d0",
        "outputId": "642db02e-4b10-4c53-d522-bf0655017570",
        "colab": {
          "base_uri": "https://localhost:8080/"
        }
      },
      "outputs": [
        {
          "output_type": "execute_result",
          "data": {
            "text/plain": [
              "array(['Textured,', 'attracts', 'special', 'wall', 'special', 'ones).'],\n",
              "      dtype='<U9')"
            ]
          },
          "metadata": {},
          "execution_count": 51
        }
      ],
      "source": [
        "get_word_biggest_impact(true_label_seq, impacts)"
      ]
    },
    {
      "cell_type": "code",
      "execution_count": null,
      "id": "1d3b6930-dd3f-4865-b8e3-203415885202",
      "metadata": {
        "id": "1d3b6930-dd3f-4865-b8e3-203415885202",
        "outputId": "51b65f7f-5442-4066-9fc5-f1b715708a5e"
      },
      "outputs": [
        {
          "data": {
            "text/plain": [
              "\"SAF 'Floral' Framed Painting (Wood, 30 inch x 10 inch, Special Effect UV Print Textured, SAO297) Painting made up in synthetic frame with UV textured print which gives multi effects and attracts towards it. This is an special series of paintings which makes your wall very beautiful and gives a royal touch (A perfect gift for your special ones).\""
            ]
          },
          "execution_count": 107,
          "metadata": {},
          "output_type": "execute_result"
        }
      ],
      "source": [
        "descriptions[ITEM_INDEX]"
      ]
    },
    {
      "cell_type": "code",
      "execution_count": 29,
      "id": "3d5be15c-bf79-4019-bbf2-23cc4f058299",
      "metadata": {
        "id": "3d5be15c-bf79-4019-bbf2-23cc4f058299"
      },
      "outputs": [],
      "source": [
        "ads = {\n",
        "    \"home_care\": [\n",
        "        \"Transform your home into a sanctuary with our eco-friendly cleaning solutions!\",\n",
        "        \"Simplify your daily chores with our innovative home care products.\",\n",
        "        \"Say goodbye to stubborn stains—welcome to effortless cleaning!\",\n",
        "        \"Fresh scents, spotless results. Try our all-natural home care line today!\",\n",
        "        \"Keep your home cozy and clean with our premium fabric care solutions.\",\n",
        "        \"Cleaning made easy! Discover tools that save you time and effort.\",\n",
        "        \"Your perfect cleaning companion awaits—shop now and save!\",\n",
        "        \"Make every corner of your home shine with our expert care products.\",\n",
        "        \"Gentle on surfaces, tough on dirt. Choose smart cleaning!\",\n",
        "        \"Breathe easier—experience cleaner air with our advanced purifiers.\"\n",
        "    ],\n",
        "    \"electronics\": [\n",
        "        \"Upgrade your tech game with the latest gadgets at unbeatable prices!\",\n",
        "        \"Experience cinema-quality sound and visuals at home—shop our electronics now!\",\n",
        "        \"Stay connected with cutting-edge devices designed for your lifestyle.\",\n",
        "        \"The future is here: discover next-gen smart home electronics today!\",\n",
        "        \"Elevate your productivity with our state-of-the-art laptops and accessories.\",\n",
        "        \"Capture life’s best moments in HD—find the perfect camera for you.\",\n",
        "        \"Stream, surf, and play with lightning-fast devices. Shop now!\",\n",
        "        \"Power meets elegance in our premium smartphone collection.\",\n",
        "        \"Stay ahead with innovative wearables that fit your lifestyle.\",\n",
        "        \"Save big on top-brand electronics—limited time only!\"\n",
        "    ],\n",
        "    \"books\": [\n",
        "        \"Embark on your next adventure—browse our best-selling novels now!\",\n",
        "        \"Expand your horizons with inspiring non-fiction books.\",\n",
        "        \"Cozy up with the perfect story—find your new favorite read today!\",\n",
        "        \"From thrillers to romance, we’ve got every genre covered.\",\n",
        "        \"Feed your mind and soul—shop our curated book collections.\",\n",
        "        \"Unlock new worlds—explore the latest fantasy and sci-fi titles!\",\n",
        "        \"Knowledge is power—find the perfect book to learn and grow.\",\n",
        "        \"Love paperbacks? Check out our exclusive deals on top reads!\",\n",
        "        \"Discover timeless classics and modern masterpieces in one place.\",\n",
        "        \"Books that move you—shop stories that stay with you forever.\"\n",
        "    ],\n",
        "    \"clothing\": [\n",
        "        \"Step out in style with our trendy and affordable clothing!\",\n",
        "        \"Comfort meets fashion—shop our best-selling casual wear.\",\n",
        "        \"Elevate your wardrobe with timeless classics and bold designs.\",\n",
        "        \"Find your perfect fit—explore our new arrivals in all sizes!\",\n",
        "        \"Get cozy this season with our soft and stylish knitwear.\",\n",
        "        \"Make a statement—shop bold and unique fashion pieces now!\",\n",
        "        \"From work to weekend, we’ve got the outfits you’ll love.\",\n",
        "        \"Dress your best without breaking the bank—shop now!\",\n",
        "        \"Refresh your look with our exclusive deals on seasonal must-haves.\",\n",
        "        \"Confidence starts with the right outfit—find yours today!\"\n",
        "    ]\n",
        "}"
      ]
    }
  ],
  "metadata": {
    "kernelspec": {
      "display_name": "Python 3 (ipykernel)",
      "language": "python",
      "name": "python3"
    },
    "language_info": {
      "codemirror_mode": {
        "name": "ipython",
        "version": 3
      },
      "file_extension": ".py",
      "mimetype": "text/x-python",
      "name": "python",
      "nbconvert_exporter": "python",
      "pygments_lexer": "ipython3",
      "version": "3.10.15"
    },
    "colab": {
      "provenance": []
    },
    "widgets": {
      "application/vnd.jupyter.widget-state+json": {
        "56b77ccae28c4c42b25597ceffc76a0b": {
          "model_module": "@jupyter-widgets/controls",
          "model_name": "HBoxModel",
          "model_module_version": "1.5.0",
          "state": {
            "_dom_classes": [],
            "_model_module": "@jupyter-widgets/controls",
            "_model_module_version": "1.5.0",
            "_model_name": "HBoxModel",
            "_view_count": null,
            "_view_module": "@jupyter-widgets/controls",
            "_view_module_version": "1.5.0",
            "_view_name": "HBoxView",
            "box_style": "",
            "children": [
              "IPY_MODEL_ce7d63385e8c4bc1a924e9ae7a8eff6b",
              "IPY_MODEL_e7a7df0012224c31b17d12709a360230",
              "IPY_MODEL_e4835c8ba38b45f3abe4aa29a2d7384a"
            ],
            "layout": "IPY_MODEL_e8239f30a9874c519232e1e67c2ecbb6"
          }
        },
        "ce7d63385e8c4bc1a924e9ae7a8eff6b": {
          "model_module": "@jupyter-widgets/controls",
          "model_name": "HTMLModel",
          "model_module_version": "1.5.0",
          "state": {
            "_dom_classes": [],
            "_model_module": "@jupyter-widgets/controls",
            "_model_module_version": "1.5.0",
            "_model_name": "HTMLModel",
            "_view_count": null,
            "_view_module": "@jupyter-widgets/controls",
            "_view_module_version": "1.5.0",
            "_view_name": "HTMLView",
            "description": "",
            "description_tooltip": null,
            "layout": "IPY_MODEL_03f4e13781ff4aa0b10a013e8334bbec",
            "placeholder": "​",
            "style": "IPY_MODEL_b8de0e7aa0864680819da32f9780e055",
            "value": "model.safetensors: 100%"
          }
        },
        "e7a7df0012224c31b17d12709a360230": {
          "model_module": "@jupyter-widgets/controls",
          "model_name": "FloatProgressModel",
          "model_module_version": "1.5.0",
          "state": {
            "_dom_classes": [],
            "_model_module": "@jupyter-widgets/controls",
            "_model_module_version": "1.5.0",
            "_model_name": "FloatProgressModel",
            "_view_count": null,
            "_view_module": "@jupyter-widgets/controls",
            "_view_module_version": "1.5.0",
            "_view_name": "ProgressView",
            "bar_style": "success",
            "description": "",
            "description_tooltip": null,
            "layout": "IPY_MODEL_a0127421fca1411c9e85f041cd9a8766",
            "max": 440449768,
            "min": 0,
            "orientation": "horizontal",
            "style": "IPY_MODEL_3ba46a25d8374e1eb8acf39eebc9d0a1",
            "value": 440449768
          }
        },
        "e4835c8ba38b45f3abe4aa29a2d7384a": {
          "model_module": "@jupyter-widgets/controls",
          "model_name": "HTMLModel",
          "model_module_version": "1.5.0",
          "state": {
            "_dom_classes": [],
            "_model_module": "@jupyter-widgets/controls",
            "_model_module_version": "1.5.0",
            "_model_name": "HTMLModel",
            "_view_count": null,
            "_view_module": "@jupyter-widgets/controls",
            "_view_module_version": "1.5.0",
            "_view_name": "HTMLView",
            "description": "",
            "description_tooltip": null,
            "layout": "IPY_MODEL_1dac9d4d8912485aa0a044df8016d37a",
            "placeholder": "​",
            "style": "IPY_MODEL_09e15fc2b4624e7085ee4e347683bc39",
            "value": " 440M/440M [00:06&lt;00:00, 110MB/s]"
          }
        },
        "e8239f30a9874c519232e1e67c2ecbb6": {
          "model_module": "@jupyter-widgets/base",
          "model_name": "LayoutModel",
          "model_module_version": "1.2.0",
          "state": {
            "_model_module": "@jupyter-widgets/base",
            "_model_module_version": "1.2.0",
            "_model_name": "LayoutModel",
            "_view_count": null,
            "_view_module": "@jupyter-widgets/base",
            "_view_module_version": "1.2.0",
            "_view_name": "LayoutView",
            "align_content": null,
            "align_items": null,
            "align_self": null,
            "border": null,
            "bottom": null,
            "display": null,
            "flex": null,
            "flex_flow": null,
            "grid_area": null,
            "grid_auto_columns": null,
            "grid_auto_flow": null,
            "grid_auto_rows": null,
            "grid_column": null,
            "grid_gap": null,
            "grid_row": null,
            "grid_template_areas": null,
            "grid_template_columns": null,
            "grid_template_rows": null,
            "height": null,
            "justify_content": null,
            "justify_items": null,
            "left": null,
            "margin": null,
            "max_height": null,
            "max_width": null,
            "min_height": null,
            "min_width": null,
            "object_fit": null,
            "object_position": null,
            "order": null,
            "overflow": null,
            "overflow_x": null,
            "overflow_y": null,
            "padding": null,
            "right": null,
            "top": null,
            "visibility": null,
            "width": null
          }
        },
        "03f4e13781ff4aa0b10a013e8334bbec": {
          "model_module": "@jupyter-widgets/base",
          "model_name": "LayoutModel",
          "model_module_version": "1.2.0",
          "state": {
            "_model_module": "@jupyter-widgets/base",
            "_model_module_version": "1.2.0",
            "_model_name": "LayoutModel",
            "_view_count": null,
            "_view_module": "@jupyter-widgets/base",
            "_view_module_version": "1.2.0",
            "_view_name": "LayoutView",
            "align_content": null,
            "align_items": null,
            "align_self": null,
            "border": null,
            "bottom": null,
            "display": null,
            "flex": null,
            "flex_flow": null,
            "grid_area": null,
            "grid_auto_columns": null,
            "grid_auto_flow": null,
            "grid_auto_rows": null,
            "grid_column": null,
            "grid_gap": null,
            "grid_row": null,
            "grid_template_areas": null,
            "grid_template_columns": null,
            "grid_template_rows": null,
            "height": null,
            "justify_content": null,
            "justify_items": null,
            "left": null,
            "margin": null,
            "max_height": null,
            "max_width": null,
            "min_height": null,
            "min_width": null,
            "object_fit": null,
            "object_position": null,
            "order": null,
            "overflow": null,
            "overflow_x": null,
            "overflow_y": null,
            "padding": null,
            "right": null,
            "top": null,
            "visibility": null,
            "width": null
          }
        },
        "b8de0e7aa0864680819da32f9780e055": {
          "model_module": "@jupyter-widgets/controls",
          "model_name": "DescriptionStyleModel",
          "model_module_version": "1.5.0",
          "state": {
            "_model_module": "@jupyter-widgets/controls",
            "_model_module_version": "1.5.0",
            "_model_name": "DescriptionStyleModel",
            "_view_count": null,
            "_view_module": "@jupyter-widgets/base",
            "_view_module_version": "1.2.0",
            "_view_name": "StyleView",
            "description_width": ""
          }
        },
        "a0127421fca1411c9e85f041cd9a8766": {
          "model_module": "@jupyter-widgets/base",
          "model_name": "LayoutModel",
          "model_module_version": "1.2.0",
          "state": {
            "_model_module": "@jupyter-widgets/base",
            "_model_module_version": "1.2.0",
            "_model_name": "LayoutModel",
            "_view_count": null,
            "_view_module": "@jupyter-widgets/base",
            "_view_module_version": "1.2.0",
            "_view_name": "LayoutView",
            "align_content": null,
            "align_items": null,
            "align_self": null,
            "border": null,
            "bottom": null,
            "display": null,
            "flex": null,
            "flex_flow": null,
            "grid_area": null,
            "grid_auto_columns": null,
            "grid_auto_flow": null,
            "grid_auto_rows": null,
            "grid_column": null,
            "grid_gap": null,
            "grid_row": null,
            "grid_template_areas": null,
            "grid_template_columns": null,
            "grid_template_rows": null,
            "height": null,
            "justify_content": null,
            "justify_items": null,
            "left": null,
            "margin": null,
            "max_height": null,
            "max_width": null,
            "min_height": null,
            "min_width": null,
            "object_fit": null,
            "object_position": null,
            "order": null,
            "overflow": null,
            "overflow_x": null,
            "overflow_y": null,
            "padding": null,
            "right": null,
            "top": null,
            "visibility": null,
            "width": null
          }
        },
        "3ba46a25d8374e1eb8acf39eebc9d0a1": {
          "model_module": "@jupyter-widgets/controls",
          "model_name": "ProgressStyleModel",
          "model_module_version": "1.5.0",
          "state": {
            "_model_module": "@jupyter-widgets/controls",
            "_model_module_version": "1.5.0",
            "_model_name": "ProgressStyleModel",
            "_view_count": null,
            "_view_module": "@jupyter-widgets/base",
            "_view_module_version": "1.2.0",
            "_view_name": "StyleView",
            "bar_color": null,
            "description_width": ""
          }
        },
        "1dac9d4d8912485aa0a044df8016d37a": {
          "model_module": "@jupyter-widgets/base",
          "model_name": "LayoutModel",
          "model_module_version": "1.2.0",
          "state": {
            "_model_module": "@jupyter-widgets/base",
            "_model_module_version": "1.2.0",
            "_model_name": "LayoutModel",
            "_view_count": null,
            "_view_module": "@jupyter-widgets/base",
            "_view_module_version": "1.2.0",
            "_view_name": "LayoutView",
            "align_content": null,
            "align_items": null,
            "align_self": null,
            "border": null,
            "bottom": null,
            "display": null,
            "flex": null,
            "flex_flow": null,
            "grid_area": null,
            "grid_auto_columns": null,
            "grid_auto_flow": null,
            "grid_auto_rows": null,
            "grid_column": null,
            "grid_gap": null,
            "grid_row": null,
            "grid_template_areas": null,
            "grid_template_columns": null,
            "grid_template_rows": null,
            "height": null,
            "justify_content": null,
            "justify_items": null,
            "left": null,
            "margin": null,
            "max_height": null,
            "max_width": null,
            "min_height": null,
            "min_width": null,
            "object_fit": null,
            "object_position": null,
            "order": null,
            "overflow": null,
            "overflow_x": null,
            "overflow_y": null,
            "padding": null,
            "right": null,
            "top": null,
            "visibility": null,
            "width": null
          }
        },
        "09e15fc2b4624e7085ee4e347683bc39": {
          "model_module": "@jupyter-widgets/controls",
          "model_name": "DescriptionStyleModel",
          "model_module_version": "1.5.0",
          "state": {
            "_model_module": "@jupyter-widgets/controls",
            "_model_module_version": "1.5.0",
            "_model_name": "DescriptionStyleModel",
            "_view_count": null,
            "_view_module": "@jupyter-widgets/base",
            "_view_module_version": "1.2.0",
            "_view_name": "StyleView",
            "description_width": ""
          }
        },
        "0c39d1f2adc146f8b032c2377d7fddc5": {
          "model_module": "@jupyter-widgets/controls",
          "model_name": "HBoxModel",
          "model_module_version": "1.5.0",
          "state": {
            "_dom_classes": [],
            "_model_module": "@jupyter-widgets/controls",
            "_model_module_version": "1.5.0",
            "_model_name": "HBoxModel",
            "_view_count": null,
            "_view_module": "@jupyter-widgets/controls",
            "_view_module_version": "1.5.0",
            "_view_name": "HBoxView",
            "box_style": "",
            "children": [
              "IPY_MODEL_429b7eba2bb64c10b1dd6071ec1fe6aa",
              "IPY_MODEL_43e7b79ca8dd476a86b07155a9c32287",
              "IPY_MODEL_9679e65bc42c4f9ca94d7301972d1233"
            ],
            "layout": "IPY_MODEL_14429520668d42acaca91960c9bf796c"
          }
        },
        "429b7eba2bb64c10b1dd6071ec1fe6aa": {
          "model_module": "@jupyter-widgets/controls",
          "model_name": "HTMLModel",
          "model_module_version": "1.5.0",
          "state": {
            "_dom_classes": [],
            "_model_module": "@jupyter-widgets/controls",
            "_model_module_version": "1.5.0",
            "_model_name": "HTMLModel",
            "_view_count": null,
            "_view_module": "@jupyter-widgets/controls",
            "_view_module_version": "1.5.0",
            "_view_name": "HTMLView",
            "description": "",
            "description_tooltip": null,
            "layout": "IPY_MODEL_048c2a0c16744c99b5da1737c14219aa",
            "placeholder": "​",
            "style": "IPY_MODEL_41c91b0ee03041adb3e200b0bc051378",
            "value": "tokenizer_config.json: 100%"
          }
        },
        "43e7b79ca8dd476a86b07155a9c32287": {
          "model_module": "@jupyter-widgets/controls",
          "model_name": "FloatProgressModel",
          "model_module_version": "1.5.0",
          "state": {
            "_dom_classes": [],
            "_model_module": "@jupyter-widgets/controls",
            "_model_module_version": "1.5.0",
            "_model_name": "FloatProgressModel",
            "_view_count": null,
            "_view_module": "@jupyter-widgets/controls",
            "_view_module_version": "1.5.0",
            "_view_name": "ProgressView",
            "bar_style": "success",
            "description": "",
            "description_tooltip": null,
            "layout": "IPY_MODEL_fffe8e7bd24745849682816b5e402ac6",
            "max": 48,
            "min": 0,
            "orientation": "horizontal",
            "style": "IPY_MODEL_e3bafc7ce48e476ca253f36893a53ecf",
            "value": 48
          }
        },
        "9679e65bc42c4f9ca94d7301972d1233": {
          "model_module": "@jupyter-widgets/controls",
          "model_name": "HTMLModel",
          "model_module_version": "1.5.0",
          "state": {
            "_dom_classes": [],
            "_model_module": "@jupyter-widgets/controls",
            "_model_module_version": "1.5.0",
            "_model_name": "HTMLModel",
            "_view_count": null,
            "_view_module": "@jupyter-widgets/controls",
            "_view_module_version": "1.5.0",
            "_view_name": "HTMLView",
            "description": "",
            "description_tooltip": null,
            "layout": "IPY_MODEL_9e9c8d450af340449c70ca7ebf545501",
            "placeholder": "​",
            "style": "IPY_MODEL_120e46395de54ece990f3bf242f86b0f",
            "value": " 48.0/48.0 [00:00&lt;00:00, 1.97kB/s]"
          }
        },
        "14429520668d42acaca91960c9bf796c": {
          "model_module": "@jupyter-widgets/base",
          "model_name": "LayoutModel",
          "model_module_version": "1.2.0",
          "state": {
            "_model_module": "@jupyter-widgets/base",
            "_model_module_version": "1.2.0",
            "_model_name": "LayoutModel",
            "_view_count": null,
            "_view_module": "@jupyter-widgets/base",
            "_view_module_version": "1.2.0",
            "_view_name": "LayoutView",
            "align_content": null,
            "align_items": null,
            "align_self": null,
            "border": null,
            "bottom": null,
            "display": null,
            "flex": null,
            "flex_flow": null,
            "grid_area": null,
            "grid_auto_columns": null,
            "grid_auto_flow": null,
            "grid_auto_rows": null,
            "grid_column": null,
            "grid_gap": null,
            "grid_row": null,
            "grid_template_areas": null,
            "grid_template_columns": null,
            "grid_template_rows": null,
            "height": null,
            "justify_content": null,
            "justify_items": null,
            "left": null,
            "margin": null,
            "max_height": null,
            "max_width": null,
            "min_height": null,
            "min_width": null,
            "object_fit": null,
            "object_position": null,
            "order": null,
            "overflow": null,
            "overflow_x": null,
            "overflow_y": null,
            "padding": null,
            "right": null,
            "top": null,
            "visibility": null,
            "width": null
          }
        },
        "048c2a0c16744c99b5da1737c14219aa": {
          "model_module": "@jupyter-widgets/base",
          "model_name": "LayoutModel",
          "model_module_version": "1.2.0",
          "state": {
            "_model_module": "@jupyter-widgets/base",
            "_model_module_version": "1.2.0",
            "_model_name": "LayoutModel",
            "_view_count": null,
            "_view_module": "@jupyter-widgets/base",
            "_view_module_version": "1.2.0",
            "_view_name": "LayoutView",
            "align_content": null,
            "align_items": null,
            "align_self": null,
            "border": null,
            "bottom": null,
            "display": null,
            "flex": null,
            "flex_flow": null,
            "grid_area": null,
            "grid_auto_columns": null,
            "grid_auto_flow": null,
            "grid_auto_rows": null,
            "grid_column": null,
            "grid_gap": null,
            "grid_row": null,
            "grid_template_areas": null,
            "grid_template_columns": null,
            "grid_template_rows": null,
            "height": null,
            "justify_content": null,
            "justify_items": null,
            "left": null,
            "margin": null,
            "max_height": null,
            "max_width": null,
            "min_height": null,
            "min_width": null,
            "object_fit": null,
            "object_position": null,
            "order": null,
            "overflow": null,
            "overflow_x": null,
            "overflow_y": null,
            "padding": null,
            "right": null,
            "top": null,
            "visibility": null,
            "width": null
          }
        },
        "41c91b0ee03041adb3e200b0bc051378": {
          "model_module": "@jupyter-widgets/controls",
          "model_name": "DescriptionStyleModel",
          "model_module_version": "1.5.0",
          "state": {
            "_model_module": "@jupyter-widgets/controls",
            "_model_module_version": "1.5.0",
            "_model_name": "DescriptionStyleModel",
            "_view_count": null,
            "_view_module": "@jupyter-widgets/base",
            "_view_module_version": "1.2.0",
            "_view_name": "StyleView",
            "description_width": ""
          }
        },
        "fffe8e7bd24745849682816b5e402ac6": {
          "model_module": "@jupyter-widgets/base",
          "model_name": "LayoutModel",
          "model_module_version": "1.2.0",
          "state": {
            "_model_module": "@jupyter-widgets/base",
            "_model_module_version": "1.2.0",
            "_model_name": "LayoutModel",
            "_view_count": null,
            "_view_module": "@jupyter-widgets/base",
            "_view_module_version": "1.2.0",
            "_view_name": "LayoutView",
            "align_content": null,
            "align_items": null,
            "align_self": null,
            "border": null,
            "bottom": null,
            "display": null,
            "flex": null,
            "flex_flow": null,
            "grid_area": null,
            "grid_auto_columns": null,
            "grid_auto_flow": null,
            "grid_auto_rows": null,
            "grid_column": null,
            "grid_gap": null,
            "grid_row": null,
            "grid_template_areas": null,
            "grid_template_columns": null,
            "grid_template_rows": null,
            "height": null,
            "justify_content": null,
            "justify_items": null,
            "left": null,
            "margin": null,
            "max_height": null,
            "max_width": null,
            "min_height": null,
            "min_width": null,
            "object_fit": null,
            "object_position": null,
            "order": null,
            "overflow": null,
            "overflow_x": null,
            "overflow_y": null,
            "padding": null,
            "right": null,
            "top": null,
            "visibility": null,
            "width": null
          }
        },
        "e3bafc7ce48e476ca253f36893a53ecf": {
          "model_module": "@jupyter-widgets/controls",
          "model_name": "ProgressStyleModel",
          "model_module_version": "1.5.0",
          "state": {
            "_model_module": "@jupyter-widgets/controls",
            "_model_module_version": "1.5.0",
            "_model_name": "ProgressStyleModel",
            "_view_count": null,
            "_view_module": "@jupyter-widgets/base",
            "_view_module_version": "1.2.0",
            "_view_name": "StyleView",
            "bar_color": null,
            "description_width": ""
          }
        },
        "9e9c8d450af340449c70ca7ebf545501": {
          "model_module": "@jupyter-widgets/base",
          "model_name": "LayoutModel",
          "model_module_version": "1.2.0",
          "state": {
            "_model_module": "@jupyter-widgets/base",
            "_model_module_version": "1.2.0",
            "_model_name": "LayoutModel",
            "_view_count": null,
            "_view_module": "@jupyter-widgets/base",
            "_view_module_version": "1.2.0",
            "_view_name": "LayoutView",
            "align_content": null,
            "align_items": null,
            "align_self": null,
            "border": null,
            "bottom": null,
            "display": null,
            "flex": null,
            "flex_flow": null,
            "grid_area": null,
            "grid_auto_columns": null,
            "grid_auto_flow": null,
            "grid_auto_rows": null,
            "grid_column": null,
            "grid_gap": null,
            "grid_row": null,
            "grid_template_areas": null,
            "grid_template_columns": null,
            "grid_template_rows": null,
            "height": null,
            "justify_content": null,
            "justify_items": null,
            "left": null,
            "margin": null,
            "max_height": null,
            "max_width": null,
            "min_height": null,
            "min_width": null,
            "object_fit": null,
            "object_position": null,
            "order": null,
            "overflow": null,
            "overflow_x": null,
            "overflow_y": null,
            "padding": null,
            "right": null,
            "top": null,
            "visibility": null,
            "width": null
          }
        },
        "120e46395de54ece990f3bf242f86b0f": {
          "model_module": "@jupyter-widgets/controls",
          "model_name": "DescriptionStyleModel",
          "model_module_version": "1.5.0",
          "state": {
            "_model_module": "@jupyter-widgets/controls",
            "_model_module_version": "1.5.0",
            "_model_name": "DescriptionStyleModel",
            "_view_count": null,
            "_view_module": "@jupyter-widgets/base",
            "_view_module_version": "1.2.0",
            "_view_name": "StyleView",
            "description_width": ""
          }
        },
        "5308280010504383a8a419bbccc07f1c": {
          "model_module": "@jupyter-widgets/controls",
          "model_name": "HBoxModel",
          "model_module_version": "1.5.0",
          "state": {
            "_dom_classes": [],
            "_model_module": "@jupyter-widgets/controls",
            "_model_module_version": "1.5.0",
            "_model_name": "HBoxModel",
            "_view_count": null,
            "_view_module": "@jupyter-widgets/controls",
            "_view_module_version": "1.5.0",
            "_view_name": "HBoxView",
            "box_style": "",
            "children": [
              "IPY_MODEL_00987f4c30d84308a88d168a7fdca1e3",
              "IPY_MODEL_1e1aa722367840e088aa95021258a2bf",
              "IPY_MODEL_b8ecb32d74a144e2a744af60bde90733"
            ],
            "layout": "IPY_MODEL_5db9fe333ddc4057a0f21daa32511905"
          }
        },
        "00987f4c30d84308a88d168a7fdca1e3": {
          "model_module": "@jupyter-widgets/controls",
          "model_name": "HTMLModel",
          "model_module_version": "1.5.0",
          "state": {
            "_dom_classes": [],
            "_model_module": "@jupyter-widgets/controls",
            "_model_module_version": "1.5.0",
            "_model_name": "HTMLModel",
            "_view_count": null,
            "_view_module": "@jupyter-widgets/controls",
            "_view_module_version": "1.5.0",
            "_view_name": "HTMLView",
            "description": "",
            "description_tooltip": null,
            "layout": "IPY_MODEL_af769aa50f65485fa88b4c2de6c12e9f",
            "placeholder": "​",
            "style": "IPY_MODEL_1638bb7a2c8a4812b1b3140305825bd3",
            "value": "config.json: 100%"
          }
        },
        "1e1aa722367840e088aa95021258a2bf": {
          "model_module": "@jupyter-widgets/controls",
          "model_name": "FloatProgressModel",
          "model_module_version": "1.5.0",
          "state": {
            "_dom_classes": [],
            "_model_module": "@jupyter-widgets/controls",
            "_model_module_version": "1.5.0",
            "_model_name": "FloatProgressModel",
            "_view_count": null,
            "_view_module": "@jupyter-widgets/controls",
            "_view_module_version": "1.5.0",
            "_view_name": "ProgressView",
            "bar_style": "success",
            "description": "",
            "description_tooltip": null,
            "layout": "IPY_MODEL_e62674ba2fef4de4a48328aaa0e38017",
            "max": 570,
            "min": 0,
            "orientation": "horizontal",
            "style": "IPY_MODEL_42d11b29987540a48fd040c40368c2ca",
            "value": 570
          }
        },
        "b8ecb32d74a144e2a744af60bde90733": {
          "model_module": "@jupyter-widgets/controls",
          "model_name": "HTMLModel",
          "model_module_version": "1.5.0",
          "state": {
            "_dom_classes": [],
            "_model_module": "@jupyter-widgets/controls",
            "_model_module_version": "1.5.0",
            "_model_name": "HTMLModel",
            "_view_count": null,
            "_view_module": "@jupyter-widgets/controls",
            "_view_module_version": "1.5.0",
            "_view_name": "HTMLView",
            "description": "",
            "description_tooltip": null,
            "layout": "IPY_MODEL_52820f498cc643fea29bcfcf51476c6e",
            "placeholder": "​",
            "style": "IPY_MODEL_7fb449aa579443148005e124bdc42f08",
            "value": " 570/570 [00:00&lt;00:00, 36.5kB/s]"
          }
        },
        "5db9fe333ddc4057a0f21daa32511905": {
          "model_module": "@jupyter-widgets/base",
          "model_name": "LayoutModel",
          "model_module_version": "1.2.0",
          "state": {
            "_model_module": "@jupyter-widgets/base",
            "_model_module_version": "1.2.0",
            "_model_name": "LayoutModel",
            "_view_count": null,
            "_view_module": "@jupyter-widgets/base",
            "_view_module_version": "1.2.0",
            "_view_name": "LayoutView",
            "align_content": null,
            "align_items": null,
            "align_self": null,
            "border": null,
            "bottom": null,
            "display": null,
            "flex": null,
            "flex_flow": null,
            "grid_area": null,
            "grid_auto_columns": null,
            "grid_auto_flow": null,
            "grid_auto_rows": null,
            "grid_column": null,
            "grid_gap": null,
            "grid_row": null,
            "grid_template_areas": null,
            "grid_template_columns": null,
            "grid_template_rows": null,
            "height": null,
            "justify_content": null,
            "justify_items": null,
            "left": null,
            "margin": null,
            "max_height": null,
            "max_width": null,
            "min_height": null,
            "min_width": null,
            "object_fit": null,
            "object_position": null,
            "order": null,
            "overflow": null,
            "overflow_x": null,
            "overflow_y": null,
            "padding": null,
            "right": null,
            "top": null,
            "visibility": null,
            "width": null
          }
        },
        "af769aa50f65485fa88b4c2de6c12e9f": {
          "model_module": "@jupyter-widgets/base",
          "model_name": "LayoutModel",
          "model_module_version": "1.2.0",
          "state": {
            "_model_module": "@jupyter-widgets/base",
            "_model_module_version": "1.2.0",
            "_model_name": "LayoutModel",
            "_view_count": null,
            "_view_module": "@jupyter-widgets/base",
            "_view_module_version": "1.2.0",
            "_view_name": "LayoutView",
            "align_content": null,
            "align_items": null,
            "align_self": null,
            "border": null,
            "bottom": null,
            "display": null,
            "flex": null,
            "flex_flow": null,
            "grid_area": null,
            "grid_auto_columns": null,
            "grid_auto_flow": null,
            "grid_auto_rows": null,
            "grid_column": null,
            "grid_gap": null,
            "grid_row": null,
            "grid_template_areas": null,
            "grid_template_columns": null,
            "grid_template_rows": null,
            "height": null,
            "justify_content": null,
            "justify_items": null,
            "left": null,
            "margin": null,
            "max_height": null,
            "max_width": null,
            "min_height": null,
            "min_width": null,
            "object_fit": null,
            "object_position": null,
            "order": null,
            "overflow": null,
            "overflow_x": null,
            "overflow_y": null,
            "padding": null,
            "right": null,
            "top": null,
            "visibility": null,
            "width": null
          }
        },
        "1638bb7a2c8a4812b1b3140305825bd3": {
          "model_module": "@jupyter-widgets/controls",
          "model_name": "DescriptionStyleModel",
          "model_module_version": "1.5.0",
          "state": {
            "_model_module": "@jupyter-widgets/controls",
            "_model_module_version": "1.5.0",
            "_model_name": "DescriptionStyleModel",
            "_view_count": null,
            "_view_module": "@jupyter-widgets/base",
            "_view_module_version": "1.2.0",
            "_view_name": "StyleView",
            "description_width": ""
          }
        },
        "e62674ba2fef4de4a48328aaa0e38017": {
          "model_module": "@jupyter-widgets/base",
          "model_name": "LayoutModel",
          "model_module_version": "1.2.0",
          "state": {
            "_model_module": "@jupyter-widgets/base",
            "_model_module_version": "1.2.0",
            "_model_name": "LayoutModel",
            "_view_count": null,
            "_view_module": "@jupyter-widgets/base",
            "_view_module_version": "1.2.0",
            "_view_name": "LayoutView",
            "align_content": null,
            "align_items": null,
            "align_self": null,
            "border": null,
            "bottom": null,
            "display": null,
            "flex": null,
            "flex_flow": null,
            "grid_area": null,
            "grid_auto_columns": null,
            "grid_auto_flow": null,
            "grid_auto_rows": null,
            "grid_column": null,
            "grid_gap": null,
            "grid_row": null,
            "grid_template_areas": null,
            "grid_template_columns": null,
            "grid_template_rows": null,
            "height": null,
            "justify_content": null,
            "justify_items": null,
            "left": null,
            "margin": null,
            "max_height": null,
            "max_width": null,
            "min_height": null,
            "min_width": null,
            "object_fit": null,
            "object_position": null,
            "order": null,
            "overflow": null,
            "overflow_x": null,
            "overflow_y": null,
            "padding": null,
            "right": null,
            "top": null,
            "visibility": null,
            "width": null
          }
        },
        "42d11b29987540a48fd040c40368c2ca": {
          "model_module": "@jupyter-widgets/controls",
          "model_name": "ProgressStyleModel",
          "model_module_version": "1.5.0",
          "state": {
            "_model_module": "@jupyter-widgets/controls",
            "_model_module_version": "1.5.0",
            "_model_name": "ProgressStyleModel",
            "_view_count": null,
            "_view_module": "@jupyter-widgets/base",
            "_view_module_version": "1.2.0",
            "_view_name": "StyleView",
            "bar_color": null,
            "description_width": ""
          }
        },
        "52820f498cc643fea29bcfcf51476c6e": {
          "model_module": "@jupyter-widgets/base",
          "model_name": "LayoutModel",
          "model_module_version": "1.2.0",
          "state": {
            "_model_module": "@jupyter-widgets/base",
            "_model_module_version": "1.2.0",
            "_model_name": "LayoutModel",
            "_view_count": null,
            "_view_module": "@jupyter-widgets/base",
            "_view_module_version": "1.2.0",
            "_view_name": "LayoutView",
            "align_content": null,
            "align_items": null,
            "align_self": null,
            "border": null,
            "bottom": null,
            "display": null,
            "flex": null,
            "flex_flow": null,
            "grid_area": null,
            "grid_auto_columns": null,
            "grid_auto_flow": null,
            "grid_auto_rows": null,
            "grid_column": null,
            "grid_gap": null,
            "grid_row": null,
            "grid_template_areas": null,
            "grid_template_columns": null,
            "grid_template_rows": null,
            "height": null,
            "justify_content": null,
            "justify_items": null,
            "left": null,
            "margin": null,
            "max_height": null,
            "max_width": null,
            "min_height": null,
            "min_width": null,
            "object_fit": null,
            "object_position": null,
            "order": null,
            "overflow": null,
            "overflow_x": null,
            "overflow_y": null,
            "padding": null,
            "right": null,
            "top": null,
            "visibility": null,
            "width": null
          }
        },
        "7fb449aa579443148005e124bdc42f08": {
          "model_module": "@jupyter-widgets/controls",
          "model_name": "DescriptionStyleModel",
          "model_module_version": "1.5.0",
          "state": {
            "_model_module": "@jupyter-widgets/controls",
            "_model_module_version": "1.5.0",
            "_model_name": "DescriptionStyleModel",
            "_view_count": null,
            "_view_module": "@jupyter-widgets/base",
            "_view_module_version": "1.2.0",
            "_view_name": "StyleView",
            "description_width": ""
          }
        },
        "34222be3de81400ab78d6195894ccdcc": {
          "model_module": "@jupyter-widgets/controls",
          "model_name": "HBoxModel",
          "model_module_version": "1.5.0",
          "state": {
            "_dom_classes": [],
            "_model_module": "@jupyter-widgets/controls",
            "_model_module_version": "1.5.0",
            "_model_name": "HBoxModel",
            "_view_count": null,
            "_view_module": "@jupyter-widgets/controls",
            "_view_module_version": "1.5.0",
            "_view_name": "HBoxView",
            "box_style": "",
            "children": [
              "IPY_MODEL_0b995149f38f48529271093d6737169f",
              "IPY_MODEL_1c5351a0470c47958fa6271fcfac6ceb",
              "IPY_MODEL_640f8520acb842d3ac2a348a018958e0"
            ],
            "layout": "IPY_MODEL_bef4f7892351488b81deb8961be494d7"
          }
        },
        "0b995149f38f48529271093d6737169f": {
          "model_module": "@jupyter-widgets/controls",
          "model_name": "HTMLModel",
          "model_module_version": "1.5.0",
          "state": {
            "_dom_classes": [],
            "_model_module": "@jupyter-widgets/controls",
            "_model_module_version": "1.5.0",
            "_model_name": "HTMLModel",
            "_view_count": null,
            "_view_module": "@jupyter-widgets/controls",
            "_view_module_version": "1.5.0",
            "_view_name": "HTMLView",
            "description": "",
            "description_tooltip": null,
            "layout": "IPY_MODEL_f5d609b1c2f94830b42b2cee535f0298",
            "placeholder": "​",
            "style": "IPY_MODEL_7ea8c0d4fa0b4e27ab309e472f568c8b",
            "value": "vocab.txt: 100%"
          }
        },
        "1c5351a0470c47958fa6271fcfac6ceb": {
          "model_module": "@jupyter-widgets/controls",
          "model_name": "FloatProgressModel",
          "model_module_version": "1.5.0",
          "state": {
            "_dom_classes": [],
            "_model_module": "@jupyter-widgets/controls",
            "_model_module_version": "1.5.0",
            "_model_name": "FloatProgressModel",
            "_view_count": null,
            "_view_module": "@jupyter-widgets/controls",
            "_view_module_version": "1.5.0",
            "_view_name": "ProgressView",
            "bar_style": "success",
            "description": "",
            "description_tooltip": null,
            "layout": "IPY_MODEL_e8f45d5348f047d4bf7a2893835f8ba1",
            "max": 231508,
            "min": 0,
            "orientation": "horizontal",
            "style": "IPY_MODEL_a7a2916c65674ad4b856eaea8238df58",
            "value": 231508
          }
        },
        "640f8520acb842d3ac2a348a018958e0": {
          "model_module": "@jupyter-widgets/controls",
          "model_name": "HTMLModel",
          "model_module_version": "1.5.0",
          "state": {
            "_dom_classes": [],
            "_model_module": "@jupyter-widgets/controls",
            "_model_module_version": "1.5.0",
            "_model_name": "HTMLModel",
            "_view_count": null,
            "_view_module": "@jupyter-widgets/controls",
            "_view_module_version": "1.5.0",
            "_view_name": "HTMLView",
            "description": "",
            "description_tooltip": null,
            "layout": "IPY_MODEL_db7e86c3b1dd4fe39fd1ab4d2f39169a",
            "placeholder": "​",
            "style": "IPY_MODEL_17e6e74dd6f147998e32e8b97f95d574",
            "value": " 232k/232k [00:00&lt;00:00, 3.56MB/s]"
          }
        },
        "bef4f7892351488b81deb8961be494d7": {
          "model_module": "@jupyter-widgets/base",
          "model_name": "LayoutModel",
          "model_module_version": "1.2.0",
          "state": {
            "_model_module": "@jupyter-widgets/base",
            "_model_module_version": "1.2.0",
            "_model_name": "LayoutModel",
            "_view_count": null,
            "_view_module": "@jupyter-widgets/base",
            "_view_module_version": "1.2.0",
            "_view_name": "LayoutView",
            "align_content": null,
            "align_items": null,
            "align_self": null,
            "border": null,
            "bottom": null,
            "display": null,
            "flex": null,
            "flex_flow": null,
            "grid_area": null,
            "grid_auto_columns": null,
            "grid_auto_flow": null,
            "grid_auto_rows": null,
            "grid_column": null,
            "grid_gap": null,
            "grid_row": null,
            "grid_template_areas": null,
            "grid_template_columns": null,
            "grid_template_rows": null,
            "height": null,
            "justify_content": null,
            "justify_items": null,
            "left": null,
            "margin": null,
            "max_height": null,
            "max_width": null,
            "min_height": null,
            "min_width": null,
            "object_fit": null,
            "object_position": null,
            "order": null,
            "overflow": null,
            "overflow_x": null,
            "overflow_y": null,
            "padding": null,
            "right": null,
            "top": null,
            "visibility": null,
            "width": null
          }
        },
        "f5d609b1c2f94830b42b2cee535f0298": {
          "model_module": "@jupyter-widgets/base",
          "model_name": "LayoutModel",
          "model_module_version": "1.2.0",
          "state": {
            "_model_module": "@jupyter-widgets/base",
            "_model_module_version": "1.2.0",
            "_model_name": "LayoutModel",
            "_view_count": null,
            "_view_module": "@jupyter-widgets/base",
            "_view_module_version": "1.2.0",
            "_view_name": "LayoutView",
            "align_content": null,
            "align_items": null,
            "align_self": null,
            "border": null,
            "bottom": null,
            "display": null,
            "flex": null,
            "flex_flow": null,
            "grid_area": null,
            "grid_auto_columns": null,
            "grid_auto_flow": null,
            "grid_auto_rows": null,
            "grid_column": null,
            "grid_gap": null,
            "grid_row": null,
            "grid_template_areas": null,
            "grid_template_columns": null,
            "grid_template_rows": null,
            "height": null,
            "justify_content": null,
            "justify_items": null,
            "left": null,
            "margin": null,
            "max_height": null,
            "max_width": null,
            "min_height": null,
            "min_width": null,
            "object_fit": null,
            "object_position": null,
            "order": null,
            "overflow": null,
            "overflow_x": null,
            "overflow_y": null,
            "padding": null,
            "right": null,
            "top": null,
            "visibility": null,
            "width": null
          }
        },
        "7ea8c0d4fa0b4e27ab309e472f568c8b": {
          "model_module": "@jupyter-widgets/controls",
          "model_name": "DescriptionStyleModel",
          "model_module_version": "1.5.0",
          "state": {
            "_model_module": "@jupyter-widgets/controls",
            "_model_module_version": "1.5.0",
            "_model_name": "DescriptionStyleModel",
            "_view_count": null,
            "_view_module": "@jupyter-widgets/base",
            "_view_module_version": "1.2.0",
            "_view_name": "StyleView",
            "description_width": ""
          }
        },
        "e8f45d5348f047d4bf7a2893835f8ba1": {
          "model_module": "@jupyter-widgets/base",
          "model_name": "LayoutModel",
          "model_module_version": "1.2.0",
          "state": {
            "_model_module": "@jupyter-widgets/base",
            "_model_module_version": "1.2.0",
            "_model_name": "LayoutModel",
            "_view_count": null,
            "_view_module": "@jupyter-widgets/base",
            "_view_module_version": "1.2.0",
            "_view_name": "LayoutView",
            "align_content": null,
            "align_items": null,
            "align_self": null,
            "border": null,
            "bottom": null,
            "display": null,
            "flex": null,
            "flex_flow": null,
            "grid_area": null,
            "grid_auto_columns": null,
            "grid_auto_flow": null,
            "grid_auto_rows": null,
            "grid_column": null,
            "grid_gap": null,
            "grid_row": null,
            "grid_template_areas": null,
            "grid_template_columns": null,
            "grid_template_rows": null,
            "height": null,
            "justify_content": null,
            "justify_items": null,
            "left": null,
            "margin": null,
            "max_height": null,
            "max_width": null,
            "min_height": null,
            "min_width": null,
            "object_fit": null,
            "object_position": null,
            "order": null,
            "overflow": null,
            "overflow_x": null,
            "overflow_y": null,
            "padding": null,
            "right": null,
            "top": null,
            "visibility": null,
            "width": null
          }
        },
        "a7a2916c65674ad4b856eaea8238df58": {
          "model_module": "@jupyter-widgets/controls",
          "model_name": "ProgressStyleModel",
          "model_module_version": "1.5.0",
          "state": {
            "_model_module": "@jupyter-widgets/controls",
            "_model_module_version": "1.5.0",
            "_model_name": "ProgressStyleModel",
            "_view_count": null,
            "_view_module": "@jupyter-widgets/base",
            "_view_module_version": "1.2.0",
            "_view_name": "StyleView",
            "bar_color": null,
            "description_width": ""
          }
        },
        "db7e86c3b1dd4fe39fd1ab4d2f39169a": {
          "model_module": "@jupyter-widgets/base",
          "model_name": "LayoutModel",
          "model_module_version": "1.2.0",
          "state": {
            "_model_module": "@jupyter-widgets/base",
            "_model_module_version": "1.2.0",
            "_model_name": "LayoutModel",
            "_view_count": null,
            "_view_module": "@jupyter-widgets/base",
            "_view_module_version": "1.2.0",
            "_view_name": "LayoutView",
            "align_content": null,
            "align_items": null,
            "align_self": null,
            "border": null,
            "bottom": null,
            "display": null,
            "flex": null,
            "flex_flow": null,
            "grid_area": null,
            "grid_auto_columns": null,
            "grid_auto_flow": null,
            "grid_auto_rows": null,
            "grid_column": null,
            "grid_gap": null,
            "grid_row": null,
            "grid_template_areas": null,
            "grid_template_columns": null,
            "grid_template_rows": null,
            "height": null,
            "justify_content": null,
            "justify_items": null,
            "left": null,
            "margin": null,
            "max_height": null,
            "max_width": null,
            "min_height": null,
            "min_width": null,
            "object_fit": null,
            "object_position": null,
            "order": null,
            "overflow": null,
            "overflow_x": null,
            "overflow_y": null,
            "padding": null,
            "right": null,
            "top": null,
            "visibility": null,
            "width": null
          }
        },
        "17e6e74dd6f147998e32e8b97f95d574": {
          "model_module": "@jupyter-widgets/controls",
          "model_name": "DescriptionStyleModel",
          "model_module_version": "1.5.0",
          "state": {
            "_model_module": "@jupyter-widgets/controls",
            "_model_module_version": "1.5.0",
            "_model_name": "DescriptionStyleModel",
            "_view_count": null,
            "_view_module": "@jupyter-widgets/base",
            "_view_module_version": "1.2.0",
            "_view_name": "StyleView",
            "description_width": ""
          }
        },
        "1fd8edee221f4f0abd2c82b2c0954a14": {
          "model_module": "@jupyter-widgets/controls",
          "model_name": "HBoxModel",
          "model_module_version": "1.5.0",
          "state": {
            "_dom_classes": [],
            "_model_module": "@jupyter-widgets/controls",
            "_model_module_version": "1.5.0",
            "_model_name": "HBoxModel",
            "_view_count": null,
            "_view_module": "@jupyter-widgets/controls",
            "_view_module_version": "1.5.0",
            "_view_name": "HBoxView",
            "box_style": "",
            "children": [
              "IPY_MODEL_127c4c3f30754893bf68c682ee4943f5",
              "IPY_MODEL_b653c9d5ed604f19a466dc85bc07468f",
              "IPY_MODEL_94a97f7036b6482092cd279b46be485a"
            ],
            "layout": "IPY_MODEL_7b4561464077423e9e5f0b46513eecc1"
          }
        },
        "127c4c3f30754893bf68c682ee4943f5": {
          "model_module": "@jupyter-widgets/controls",
          "model_name": "HTMLModel",
          "model_module_version": "1.5.0",
          "state": {
            "_dom_classes": [],
            "_model_module": "@jupyter-widgets/controls",
            "_model_module_version": "1.5.0",
            "_model_name": "HTMLModel",
            "_view_count": null,
            "_view_module": "@jupyter-widgets/controls",
            "_view_module_version": "1.5.0",
            "_view_name": "HTMLView",
            "description": "",
            "description_tooltip": null,
            "layout": "IPY_MODEL_1ede76110da541339e75fc1c7bcf5e10",
            "placeholder": "​",
            "style": "IPY_MODEL_3396be426c664f11a255bf5a7cce86a4",
            "value": "tokenizer.json: 100%"
          }
        },
        "b653c9d5ed604f19a466dc85bc07468f": {
          "model_module": "@jupyter-widgets/controls",
          "model_name": "FloatProgressModel",
          "model_module_version": "1.5.0",
          "state": {
            "_dom_classes": [],
            "_model_module": "@jupyter-widgets/controls",
            "_model_module_version": "1.5.0",
            "_model_name": "FloatProgressModel",
            "_view_count": null,
            "_view_module": "@jupyter-widgets/controls",
            "_view_module_version": "1.5.0",
            "_view_name": "ProgressView",
            "bar_style": "success",
            "description": "",
            "description_tooltip": null,
            "layout": "IPY_MODEL_009feede64e442658fb10fc3e48906d1",
            "max": 466062,
            "min": 0,
            "orientation": "horizontal",
            "style": "IPY_MODEL_d6b3455d189042ecbfe9f8572db2fc5e",
            "value": 466062
          }
        },
        "94a97f7036b6482092cd279b46be485a": {
          "model_module": "@jupyter-widgets/controls",
          "model_name": "HTMLModel",
          "model_module_version": "1.5.0",
          "state": {
            "_dom_classes": [],
            "_model_module": "@jupyter-widgets/controls",
            "_model_module_version": "1.5.0",
            "_model_name": "HTMLModel",
            "_view_count": null,
            "_view_module": "@jupyter-widgets/controls",
            "_view_module_version": "1.5.0",
            "_view_name": "HTMLView",
            "description": "",
            "description_tooltip": null,
            "layout": "IPY_MODEL_bce0a8b9425b45cf933a4577c6425a2c",
            "placeholder": "​",
            "style": "IPY_MODEL_315306b99e5741a0a76f1ea72d781453",
            "value": " 466k/466k [00:00&lt;00:00, 7.46MB/s]"
          }
        },
        "7b4561464077423e9e5f0b46513eecc1": {
          "model_module": "@jupyter-widgets/base",
          "model_name": "LayoutModel",
          "model_module_version": "1.2.0",
          "state": {
            "_model_module": "@jupyter-widgets/base",
            "_model_module_version": "1.2.0",
            "_model_name": "LayoutModel",
            "_view_count": null,
            "_view_module": "@jupyter-widgets/base",
            "_view_module_version": "1.2.0",
            "_view_name": "LayoutView",
            "align_content": null,
            "align_items": null,
            "align_self": null,
            "border": null,
            "bottom": null,
            "display": null,
            "flex": null,
            "flex_flow": null,
            "grid_area": null,
            "grid_auto_columns": null,
            "grid_auto_flow": null,
            "grid_auto_rows": null,
            "grid_column": null,
            "grid_gap": null,
            "grid_row": null,
            "grid_template_areas": null,
            "grid_template_columns": null,
            "grid_template_rows": null,
            "height": null,
            "justify_content": null,
            "justify_items": null,
            "left": null,
            "margin": null,
            "max_height": null,
            "max_width": null,
            "min_height": null,
            "min_width": null,
            "object_fit": null,
            "object_position": null,
            "order": null,
            "overflow": null,
            "overflow_x": null,
            "overflow_y": null,
            "padding": null,
            "right": null,
            "top": null,
            "visibility": null,
            "width": null
          }
        },
        "1ede76110da541339e75fc1c7bcf5e10": {
          "model_module": "@jupyter-widgets/base",
          "model_name": "LayoutModel",
          "model_module_version": "1.2.0",
          "state": {
            "_model_module": "@jupyter-widgets/base",
            "_model_module_version": "1.2.0",
            "_model_name": "LayoutModel",
            "_view_count": null,
            "_view_module": "@jupyter-widgets/base",
            "_view_module_version": "1.2.0",
            "_view_name": "LayoutView",
            "align_content": null,
            "align_items": null,
            "align_self": null,
            "border": null,
            "bottom": null,
            "display": null,
            "flex": null,
            "flex_flow": null,
            "grid_area": null,
            "grid_auto_columns": null,
            "grid_auto_flow": null,
            "grid_auto_rows": null,
            "grid_column": null,
            "grid_gap": null,
            "grid_row": null,
            "grid_template_areas": null,
            "grid_template_columns": null,
            "grid_template_rows": null,
            "height": null,
            "justify_content": null,
            "justify_items": null,
            "left": null,
            "margin": null,
            "max_height": null,
            "max_width": null,
            "min_height": null,
            "min_width": null,
            "object_fit": null,
            "object_position": null,
            "order": null,
            "overflow": null,
            "overflow_x": null,
            "overflow_y": null,
            "padding": null,
            "right": null,
            "top": null,
            "visibility": null,
            "width": null
          }
        },
        "3396be426c664f11a255bf5a7cce86a4": {
          "model_module": "@jupyter-widgets/controls",
          "model_name": "DescriptionStyleModel",
          "model_module_version": "1.5.0",
          "state": {
            "_model_module": "@jupyter-widgets/controls",
            "_model_module_version": "1.5.0",
            "_model_name": "DescriptionStyleModel",
            "_view_count": null,
            "_view_module": "@jupyter-widgets/base",
            "_view_module_version": "1.2.0",
            "_view_name": "StyleView",
            "description_width": ""
          }
        },
        "009feede64e442658fb10fc3e48906d1": {
          "model_module": "@jupyter-widgets/base",
          "model_name": "LayoutModel",
          "model_module_version": "1.2.0",
          "state": {
            "_model_module": "@jupyter-widgets/base",
            "_model_module_version": "1.2.0",
            "_model_name": "LayoutModel",
            "_view_count": null,
            "_view_module": "@jupyter-widgets/base",
            "_view_module_version": "1.2.0",
            "_view_name": "LayoutView",
            "align_content": null,
            "align_items": null,
            "align_self": null,
            "border": null,
            "bottom": null,
            "display": null,
            "flex": null,
            "flex_flow": null,
            "grid_area": null,
            "grid_auto_columns": null,
            "grid_auto_flow": null,
            "grid_auto_rows": null,
            "grid_column": null,
            "grid_gap": null,
            "grid_row": null,
            "grid_template_areas": null,
            "grid_template_columns": null,
            "grid_template_rows": null,
            "height": null,
            "justify_content": null,
            "justify_items": null,
            "left": null,
            "margin": null,
            "max_height": null,
            "max_width": null,
            "min_height": null,
            "min_width": null,
            "object_fit": null,
            "object_position": null,
            "order": null,
            "overflow": null,
            "overflow_x": null,
            "overflow_y": null,
            "padding": null,
            "right": null,
            "top": null,
            "visibility": null,
            "width": null
          }
        },
        "d6b3455d189042ecbfe9f8572db2fc5e": {
          "model_module": "@jupyter-widgets/controls",
          "model_name": "ProgressStyleModel",
          "model_module_version": "1.5.0",
          "state": {
            "_model_module": "@jupyter-widgets/controls",
            "_model_module_version": "1.5.0",
            "_model_name": "ProgressStyleModel",
            "_view_count": null,
            "_view_module": "@jupyter-widgets/base",
            "_view_module_version": "1.2.0",
            "_view_name": "StyleView",
            "bar_color": null,
            "description_width": ""
          }
        },
        "bce0a8b9425b45cf933a4577c6425a2c": {
          "model_module": "@jupyter-widgets/base",
          "model_name": "LayoutModel",
          "model_module_version": "1.2.0",
          "state": {
            "_model_module": "@jupyter-widgets/base",
            "_model_module_version": "1.2.0",
            "_model_name": "LayoutModel",
            "_view_count": null,
            "_view_module": "@jupyter-widgets/base",
            "_view_module_version": "1.2.0",
            "_view_name": "LayoutView",
            "align_content": null,
            "align_items": null,
            "align_self": null,
            "border": null,
            "bottom": null,
            "display": null,
            "flex": null,
            "flex_flow": null,
            "grid_area": null,
            "grid_auto_columns": null,
            "grid_auto_flow": null,
            "grid_auto_rows": null,
            "grid_column": null,
            "grid_gap": null,
            "grid_row": null,
            "grid_template_areas": null,
            "grid_template_columns": null,
            "grid_template_rows": null,
            "height": null,
            "justify_content": null,
            "justify_items": null,
            "left": null,
            "margin": null,
            "max_height": null,
            "max_width": null,
            "min_height": null,
            "min_width": null,
            "object_fit": null,
            "object_position": null,
            "order": null,
            "overflow": null,
            "overflow_x": null,
            "overflow_y": null,
            "padding": null,
            "right": null,
            "top": null,
            "visibility": null,
            "width": null
          }
        },
        "315306b99e5741a0a76f1ea72d781453": {
          "model_module": "@jupyter-widgets/controls",
          "model_name": "DescriptionStyleModel",
          "model_module_version": "1.5.0",
          "state": {
            "_model_module": "@jupyter-widgets/controls",
            "_model_module_version": "1.5.0",
            "_model_name": "DescriptionStyleModel",
            "_view_count": null,
            "_view_module": "@jupyter-widgets/base",
            "_view_module_version": "1.2.0",
            "_view_name": "StyleView",
            "description_width": ""
          }
        }
      }
    }
  },
  "nbformat": 4,
  "nbformat_minor": 5
}